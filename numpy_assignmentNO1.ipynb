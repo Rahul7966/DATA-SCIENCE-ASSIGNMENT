{
 "cells": [
  {
   "cell_type": "markdown",
   "id": "7884c341-4628-43ad-8cbe-765a6c6063d8",
   "metadata": {},
   "source": [
    "1. What is a Python library? Why do we use Python libraries?\n",
    "\n",
    "A Python library is a collection of pre-written code modules that provide reusable functions, classes, and constants to facilitate specific tasks. These libraries extend the functionality of Python by offering solutions to common programming challenges across various domains.\n",
    "\n",
    "      We use Python libraries for several reasons:\n",
    "      \n",
    "Efficiency:\n",
    "Libraries provide ready-made solutions, allowing developers to save time and effort by avoiding the need to write code from scratch for common tasks.\n",
    "\n",
    "Code Reusability:\n",
    "Python libraries encapsulate reusable code components, enabling developers to leverage existing functionality in multiple projects without duplicating efforts.\n",
    "\n",
    "Domain-specific Functionality:\n",
    "Libraries cater to specific domains such as web development, data analysis, machine learning, natural language processing, etc., offering tools and algorithms tailored to the needs of those fields.\n",
    "\n",
    "Performance Optimization: \n",
    "Many Python libraries include optimized implementations of algorithms and data structures, enhancing the performance of applications.\n",
    "\n",
    "Community Support: \n",
    "Python libraries often have active communities of developers who contribute to their improvement and maintenance. This community support ensures that libraries are continuously updated, reliable, and compatible with the latest Python versions.\n",
    "\n",
    "Interoperability: \n",
    "Python libraries can integrate seamlessly with other libraries and frameworks, enabling developers to combine functionalities from multiple sources to build comprehensive solutions\n"
   ]
  },
  {
   "cell_type": "markdown",
   "id": "5905d025-71c8-4314-ab8f-246a8d66d68b",
   "metadata": {},
   "source": [
    "2. What is the difference between Numpy array and List?\n",
    "\n",
    "NumPy arrays and Python lists are both data structures used for storing collections of elements, but they have several key differences:\n",
    "\n",
    "Memory Efficiency:\n",
    "NumPy arrays are more memory efficient compared to lists. NumPy arrays are stored in contiguous memory, meaning all elements are stored next to each other, while lists store references to objects, leading to overhead in memory usage.\n",
    "\n",
    "Performance:\n",
    "NumPy arrays offer better performance for numerical operations and computations compared to lists. NumPy's operations are implemented in C, which makes them much faster than the equivalent operations on Python lists, especially for large datasets.\n",
    "\n",
    "Type Homogeneity:\n",
    "NumPy arrays are homogeneous, meaning all elements in an array must have the same data type (e.g., integers, floats). This allows for more efficient storage and operations. In contrast, Python lists can contain elements of different data types.\n",
    "\n",
    "Functionality:\n",
    "NumPy arrays offer a wide range of mathematical functions and operations for numerical computing, such as element-wise operations, linear algebra operations, statistical functions, and more. Lists, on the other hand, provide more general-purpose functionality but lack specialized numerical computing capabilities.\n",
    "\n",
    "Syntax and Usage:\n",
    "Accessing elements and performing operations on NumPy arrays is often more concise and intuitive compared to lists, especially when dealing with multidimensional arrays or numerical computations.\n",
    "\n",
    "Mutability:\n",
    "Both NumPy arrays and Python lists are mutable, meaning their elements can be modified after creation. However, the methods for modifying elements may differ slightly between the two data structures."
   ]
  },
  {
   "cell_type": "code",
   "execution_count": 8,
   "id": "a0167b51-a7b8-4779-a738-221cfecc6a7b",
   "metadata": {},
   "outputs": [
    {
     "name": "stdout",
     "output_type": "stream",
     "text": [
      " this array shape is : (3, 4)\n",
      " this array size is : 12\n",
      " this array dimension is : 2\n"
     ]
    }
   ],
   "source": [
    "#3. Find the shape, size and dimension of the following array ?\n",
    "import numpy as np\n",
    "arr = np.array([[1,2,3,4],[5,6,7,8] , [9,10,11,12]])\n",
    "arr_shape = np.shape(arr)\n",
    "arr_size = np.size(arr)\n",
    "arr_dimension = arr.ndim\n",
    "\n",
    "print(f\" this array shape is : {arr_shape}\")\n",
    "print(f\" this array size is : {arr_size}\")\n",
    "print(f\" this array dimension is : {arr_dimension}\")"
   ]
  },
  {
   "cell_type": "code",
   "execution_count": 10,
   "id": "0b8ad1e2-c403-4a8d-9e2a-9378508162a3",
   "metadata": {},
   "outputs": [
    {
     "name": "stdout",
     "output_type": "stream",
     "text": [
      "The first row is : [1 2 3 4]\n"
     ]
    }
   ],
   "source": [
    "#4. Write python code to access the first row of the following array?\n",
    "import numpy as np\n",
    "arr = np.array([[1,2,3,4],[5,6,7,8] , [9,10,11,12]])\n",
    "access_first_row = arr[0]\n",
    "print(f\"The first row is : {access_first_row}\")"
   ]
  },
  {
   "cell_type": "code",
   "execution_count": 12,
   "id": "920d281e-eddf-4876-ac07-99f0c9d402d6",
   "metadata": {},
   "outputs": [
    {
     "name": "stdout",
     "output_type": "stream",
     "text": [
      "The element at the third row and fourth column is: 12\n"
     ]
    }
   ],
   "source": [
    "#5. How do you access the element at the third row and fourth column from the given numpy array?\n",
    "import numpy as np\n",
    "arr = np.array([[1,2,3,4],[5,6,7,8] , [9,10,11,12]])\n",
    "element = arr[2,3]\n",
    "print(f\"The element at the third row and fourth column is: {element}\")"
   ]
  },
  {
   "cell_type": "code",
   "execution_count": 13,
   "id": "5867ee56-15dd-4e04-9c0e-2af52aabacc3",
   "metadata": {},
   "outputs": [
    {
     "name": "stdout",
     "output_type": "stream",
     "text": [
      "Odd-indexed elements: [ 1  3  5  7  9 11]\n"
     ]
    }
   ],
   "source": [
    "#6. Write code to extract all odd-indexed elements from the given numpy array?\n",
    "import numpy as np\n",
    "arr = np.array([[1,2,3,4],[5,6,7,8] , [9,10,11,12]])\n",
    "odd_indexed_element = arr[arr % 2 == 1]\n",
    "print(f\"Odd-indexed elements: {odd_indexed_element}\")"
   ]
  },
  {
   "cell_type": "code",
   "execution_count": 27,
   "id": "00aede85-df8d-4108-b334-d502caed1f56",
   "metadata": {},
   "outputs": [
    {
     "name": "stdout",
     "output_type": "stream",
     "text": [
      "ramdom matrix is : [[0.86130334 0.46568563 0.14741519]\n",
      " [0.27429854 0.86432239 0.73691291]\n",
      " [0.93617987 0.99220498 0.82983459]]\n"
     ]
    }
   ],
   "source": [
    "#7.How can you generate a random 3x3 matrix with values between 0 and 1?\n",
    "import numpy as np \n",
    "import random\n",
    "random_matrix = np.random.random((3,3))\n",
    "print(f\"ramdom matrix is : {random_matrix}\")"
   ]
  },
  {
   "cell_type": "markdown",
   "id": "0f15cd51-3d4b-4da1-ba54-92bfac8958af",
   "metadata": {},
   "source": [
    "#8. Describe the difference between np.random.rand and np.random.randn?\n",
    "\n",
    "The NumPy library in Python provides two functions for generating random numbers: np.random.rand and np.random.randn. Although they may seem similar, they have distinct differences in terms of the distribution of the generated random numbers:\n",
    "\n",
    "np.random.rand:\n",
    "np.random.rand generates random numbers from a uniform distribution over the range [0, 1).\n",
    "It takes in dimensions as arguments and returns an array of random numbers with those dimensions.\n",
    "Each element in the generated array is sampled independently and uniformly from the interval [0, 1).\n",
    "\n",
    "np.random.randn:\n",
    "np.random.randn generates random numbers from a standard normal distribution (mean=0, variance=1).\n",
    "It also takes in dimensions as arguments and returns an array of random numbers with those dimensions.\n",
    "The random numbers generated by np.random.randn follow a Gaussian (normal) distribution, centered around 0 with a standard deviation of 1.\n",
    "The distribution of numbers generated by np.random.randn is not uniform; instead, it follows the bell-shaped curve characteristic of the normal distribution."
   ]
  },
  {
   "cell_type": "code",
   "execution_count": 33,
   "id": "d277ffce-5385-4b8a-acda-d3664b8ae5b2",
   "metadata": {},
   "outputs": [
    {
     "name": "stdout",
     "output_type": "stream",
     "text": [
      "[[[ 1  2  3  4]\n",
      "  [ 5  6  7  8]\n",
      "  [ 9 10 11 12]]]\n"
     ]
    }
   ],
   "source": [
    "#9. Write code to increase the dimension of the following array?\n",
    "import numpy as np\n",
    "arr = np.array([[1,2,3,4],[5,6,7,8] , [9,10,11,12]])\n",
    "expand_dimes = np.expand_dims(arr , axis = 0)\n",
    "print(expand_dimes)"
   ]
  },
  {
   "cell_type": "code",
   "execution_count": 38,
   "id": "05db9d34-c346-41d5-9897-50cdae20f591",
   "metadata": {},
   "outputs": [
    {
     "name": "stdout",
     "output_type": "stream",
     "text": [
      "[[ 1  5  9]\n",
      " [ 2  6 10]\n",
      " [ 3  7 11]\n",
      " [ 4  8 12]]\n"
     ]
    }
   ],
   "source": [
    "#10. How to transpose the following array in NumPy?\n",
    "import numpy as np\n",
    "arr = np.array([[1,2,3,4],[5,6,7,8] , [9,10,11,12]])\n",
    "transpose_array = np.transpose(arr)\n",
    "print(transpose_array)"
   ]
  },
  {
   "cell_type": "code",
   "execution_count": 5,
   "id": "d1c055e3-84d5-4b9c-97a7-84799aba5fc2",
   "metadata": {},
   "outputs": [
    {
     "name": "stdout",
     "output_type": "stream",
     "text": [
      "index wise multiplication :\n",
      "[[  1   4   9  16]\n",
      " [ 25  36  49  64]\n",
      " [ 81 100 121 144]]\n"
     ]
    },
    {
     "ename": "ValueError",
     "evalue": "matmul: Input operand 1 has a mismatch in its core dimension 0, with gufunc signature (n?,k),(k,m?)->(n?,m?) (size 3 is different from 4)",
     "output_type": "error",
     "traceback": [
      "\u001b[0;31m---------------------------------------------------------------------------\u001b[0m",
      "\u001b[0;31mValueError\u001b[0m                                Traceback (most recent call last)",
      "Cell \u001b[0;32mIn[5], line 10\u001b[0m\n\u001b[1;32m      8\u001b[0m \u001b[38;5;28mprint\u001b[39m(result)\n\u001b[1;32m      9\u001b[0m \u001b[38;5;66;03m#2.Matix multiplication\u001b[39;00m\n\u001b[0;32m---> 10\u001b[0m matrix_mul \u001b[38;5;241m=\u001b[39m \u001b[43mmatrix_A\u001b[49m\u001b[43m \u001b[49m\u001b[38;5;241;43m@\u001b[39;49m\u001b[43m  \u001b[49m\u001b[43mmatrix_B\u001b[49m \u001b[38;5;66;03m#matrix multiplication is not posible because 3 rows  and 4 columns \u001b[39;00m\n\u001b[1;32m     11\u001b[0m \u001b[38;5;28mprint\u001b[39m(\u001b[38;5;124m\"\u001b[39m\u001b[38;5;124mmatrix multiplication :\u001b[39m\u001b[38;5;124m\"\u001b[39m)\n\u001b[1;32m     12\u001b[0m \u001b[38;5;28mprint\u001b[39m(matrix_mul)\n",
      "\u001b[0;31mValueError\u001b[0m: matmul: Input operand 1 has a mismatch in its core dimension 0, with gufunc signature (n?,k),(k,m?)->(n?,m?) (size 3 is different from 4)"
     ]
    }
   ],
   "source": [
    "#11. Consider the following matrix:\n",
    "import numpy as np \n",
    "matrix_A = np.array([[1,2,3,4],[5,6,7,8],[9,10,11,12]])\n",
    "matrix_B = np.array([[1,2,3,4],[5,6,7,8],[9,10,11,12]])\n",
    "#index wise multiplication \n",
    "result = np.multiply(matrix_A , matrix_B)\n",
    "print(\"index wise multiplication :\")\n",
    "print(result)\n",
    "#2.Matix multiplication\n",
    "matrix_mul = matrix_A @  matrix_B #matrix multiplication is not posible because 3 rows  and 4 columns \n",
    "print(\"matrix multiplication :\")\n",
    "print(matrix_mul)"
   ]
  },
  {
   "cell_type": "code",
   "execution_count": 6,
   "id": "ffd6eee6-f9c3-48b0-9061-ff55460c2e82",
   "metadata": {},
   "outputs": [
    {
     "name": "stdout",
     "output_type": "stream",
     "text": [
      "matrix subtract : \n",
      "[[0 0 0 0]\n",
      " [0 0 0 0]\n",
      " [0 0 0 0]]\n"
     ]
    }
   ],
   "source": [
    "#Subtract matix  B from A \n",
    "matrix_sub = matrix_B - matrix_A \n",
    "print(\"matrix subtract : \")\n",
    "print(matrix_sub)"
   ]
  },
  {
   "cell_type": "code",
   "execution_count": 7,
   "id": "72376fba-7e56-4289-8bb0-d8abe70cd4b1",
   "metadata": {},
   "outputs": [
    {
     "name": "stdout",
     "output_type": "stream",
     "text": [
      "add both the matrix :\n",
      "[[ 2  4  6  8]\n",
      " [10 12 14 16]\n",
      " [18 20 22 24]]\n"
     ]
    }
   ],
   "source": [
    "# Add both the matrix \n",
    "matrix_add = matrix_A + matrix_B\n",
    "print(\"add both the matrix :\")\n",
    "print(matrix_add)"
   ]
  },
  {
   "cell_type": "code",
   "execution_count": 8,
   "id": "29e6cf40-5769-4477-b18c-b80c863bd127",
   "metadata": {},
   "outputs": [
    {
     "name": "stdout",
     "output_type": "stream",
     "text": [
      "Divide Matrix B by A :\n",
      "[[1. 1. 1. 1.]\n",
      " [1. 1. 1. 1.]\n",
      " [1. 1. 1. 1.]]\n"
     ]
    }
   ],
   "source": [
    "#Divide Matrix B by A\n",
    "matrix_div = matrix_B / matrix_A \n",
    "print('Divide Matrix B by A :')\n",
    "print(matrix_div)"
   ]
  },
  {
   "cell_type": "code",
   "execution_count": 12,
   "id": "da5beb54-8a48-4140-8de2-2ae5469dfc8e",
   "metadata": {},
   "outputs": [
    {
     "name": "stdout",
     "output_type": "stream",
     "text": [
      "Original array:\n",
      "[1 2 3 4]\n",
      "\n",
      "Array with byte order swapped:\n",
      "[16777216 33554432 50331648 67108864]\n"
     ]
    }
   ],
   "source": [
    "#12.Which function in Numpy can be used to swap the byte order of an array?\n",
    "'''In NumPy, you can use the byteswap() function to swap the byte order of an array. \n",
    "This function swaps the byte order of the elements in the array. \n",
    "You can specify the byte order you want using the byteorder parameter.'''\n",
    "import numpy as np\n",
    "\n",
    "arr = np.array([1, 2, 3, 4], dtype =  np.int32)\n",
    "print(\"Original array:\")\n",
    "print(arr)\n",
    "\n",
    "# Swap byte order\n",
    "arr_swapped = arr.byteswap()\n",
    "print(\"\\nArray with byte order swapped:\")\n",
    "print(arr_swapped)\n"
   ]
  },
  {
   "cell_type": "code",
   "execution_count": 13,
   "id": "67620194-0470-495a-ae0a-5297b0278a2d",
   "metadata": {},
   "outputs": [
    {
     "data": {
      "text/plain": [
       "'The np.linalg.inv function in NumPy is used to compute the multiplicative inverse of a matrix. \\nIn linear algebra, the multiplicative inverse of a square matrix A is another matrix, denoted as A⁻¹,\\nsuch that the product of A and A⁻¹ equals the identity matrix.'"
      ]
     },
     "execution_count": 13,
     "metadata": {},
     "output_type": "execute_result"
    }
   ],
   "source": [
    "#13. What is the significance of the np.linalg.inv function?\n",
    "\n",
    "'''The np.linalg.inv function in NumPy is used to compute the multiplicative inverse of a matrix. \n",
    "In linear algebra, the multiplicative inverse of a square matrix A is another matrix, denoted as A⁻¹,\n",
    "such that the product of A and A⁻¹ equals the identity matrix.'''"
   ]
  },
  {
   "cell_type": "code",
   "execution_count": 17,
   "id": "23df45ac-8ee0-49ef-b5d9-43b654c908a7",
   "metadata": {},
   "outputs": [
    {
     "name": "stdout",
     "output_type": "stream",
     "text": [
      "Orginal array\n",
      "[ 0  1  2  3  4  5  6  7  8  9 10 11]\n",
      "reshape to 3*4 array:\n",
      "[[ 0  1  2  3]\n",
      " [ 4  5  6  7]\n",
      " [ 8  9 10 11]]\n",
      "Reshape to 2*6 array:\n",
      "[[ 0  1  2  3  4  5]\n",
      " [ 6  7  8  9 10 11]]\n"
     ]
    }
   ],
   "source": [
    "#14. What does the np.reshape function do, and how is it used?\n",
    "\n",
    "'''The np.reshape function in NumPy is used to change the shape (dimensions) of an array without changing its data.\n",
    "It allows you to reorganize the elements of an array into a new shape while preserving the same total number of elements.'''\n",
    "\n",
    "\n",
    "#example \n",
    "\n",
    "import numpy as np \n",
    "arr =  np.arange(12)\n",
    "print('Orginal array')\n",
    "print(arr)\n",
    "\n",
    "reshape_arr = np.reshape(arr,(3,4))\n",
    "print(\"reshape to 3*4 array:\")\n",
    "print(reshape_arr)\n",
    "\n",
    "reshape_array = np.reshape(arr,(2,6))\n",
    "print(\"Reshape to 2*6 array:\")\n",
    "print(reshape_array)"
   ]
  },
  {
   "cell_type": "code",
   "execution_count": 19,
   "id": "74947c09-0159-479d-9528-8aa4a1411e4f",
   "metadata": {},
   "outputs": [
    {
     "name": "stdout",
     "output_type": "stream",
     "text": [
      "[1 4 9]\n"
     ]
    }
   ],
   "source": [
    "#15. What is broadcasting in Numpy?\n",
    "\n",
    "'''When performing operations on arrays, NumPy compares their shapes element-wise.\n",
    "It starts from the trailing (rightmost) dimension and works its way left.\n",
    "Two dimensions are compatible when they are equal or when one of them is 1.\n",
    "If these conditions are not met, a ValueError is thrown, indicating incompatible shapes.\n",
    "Input arrays do not need to have the same number of dimensions.\n",
    "The resulting array will have the same number of dimensions as the input array with the greatest number of dimensions, where the size of each dimension is the largest size among the input arrays.\n",
    "Missing dimensions are assumed to have size one.'''\n",
    "\n",
    "import numpy as np \n",
    "a = np.array([[1,2,3],[4,5,6]])\n",
    "b = np.array([[1,2,3],])\n",
    "result = a*b\n",
    "print(result)"
   ]
  },
  {
   "cell_type": "code",
   "execution_count": null,
   "id": "aa7eda82-57d7-4466-ad19-d0ecea9952db",
   "metadata": {},
   "outputs": [],
   "source": []
  }
 ],
 "metadata": {
  "kernelspec": {
   "display_name": "Python 3 (ipykernel)",
   "language": "python",
   "name": "python3"
  },
  "language_info": {
   "codemirror_mode": {
    "name": "ipython",
    "version": 3
   },
   "file_extension": ".py",
   "mimetype": "text/x-python",
   "name": "python",
   "nbconvert_exporter": "python",
   "pygments_lexer": "ipython3",
   "version": "3.10.8"
  }
 },
 "nbformat": 4,
 "nbformat_minor": 5
}
