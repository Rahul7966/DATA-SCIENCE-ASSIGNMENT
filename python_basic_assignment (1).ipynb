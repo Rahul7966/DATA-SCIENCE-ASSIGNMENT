{
 "cells": [
  {
   "cell_type": "markdown",
   "id": "fb8576ca-c088-4f0e-b833-197971ae0428",
   "metadata": {},
   "source": [
    "1. Declare two variables, `x` and `y`, and assign them integer values.\n",
    "Swap the values of these variables without using any temporary\n",
    "variable."
   ]
  },
  {
   "cell_type": "code",
   "execution_count": 1,
   "id": "77b9aea4-11dd-4393-8eb0-a67374308f9f",
   "metadata": {},
   "outputs": [
    {
     "name": "stdin",
     "output_type": "stream",
     "text": [
      "enter the x value : 5\n",
      "enter the y value : 6\n"
     ]
    },
    {
     "name": "stdout",
     "output_type": "stream",
     "text": [
      "the value is x : 6\n",
      "the value is y : 5\n"
     ]
    }
   ],
   "source": [
    "x = int(input(\"enter the x value :\"))\n",
    "y = int(input(\"enter the y value :\"))\n",
    "x,y = y,x \n",
    "print(\"the value is x :\", x)\n",
    "print(\"the value is y :\", y)"
   ]
  },
  {
   "cell_type": "markdown",
   "id": "dd69874b-f25e-4223-9d12-bbfed86ab316",
   "metadata": {},
   "source": [
    "2. Create a program that calculates the area of a rectangle. Take the\n",
    "length and width as inputs from the user and store them in variables.\n",
    "Calculate and display the area."
   ]
  },
  {
   "cell_type": "code",
   "execution_count": 2,
   "id": "21824841-ce21-4f8a-b298-feeb126a4ba4",
   "metadata": {},
   "outputs": [
    {
     "name": "stdin",
     "output_type": "stream",
     "text": [
      "Enter the length 5\n",
      "Enter the widht 6\n"
     ]
    },
    {
     "name": "stdout",
     "output_type": "stream",
     "text": [
      "Calculate the area : 30\n"
     ]
    }
   ],
   "source": [
    "length = int(input(\"Enter the length\"))\n",
    "width = int(input(\"Enter the widht\"))\n",
    "rectangle_area = length*width\n",
    "print(\"Calculate the area :\",rectangle_area)"
   ]
  },
  {
   "cell_type": "markdown",
   "id": "2fb6db5b-afde-43c6-8146-5879941791a4",
   "metadata": {},
   "source": [
    "3. Write a Python program that converts temperature from Celsius to\n",
    "Fahrenheit. Take the temperature in Celsius as input, store it in a\n",
    "variable, convert it to Fahrenheit, and display the result"
   ]
  },
  {
   "cell_type": "code",
   "execution_count": 3,
   "id": "f6e6465d-cce3-433b-8745-5b267268db1e",
   "metadata": {},
   "outputs": [
    {
     "name": "stdin",
     "output_type": "stream",
     "text": [
      "Enter the celcius 45\n"
     ]
    },
    {
     "name": "stdout",
     "output_type": "stream",
     "text": [
      "celcius to fahrenhiet is : 113.0\n"
     ]
    }
   ],
   "source": [
    "celcius =  float(input(\"Enter the celcius\"))\n",
    "fahrenhiet = (celcius*1.8)+32\n",
    "print(\"celcius to fahrenhiet is :\", fahrenhiet)"
   ]
  },
  {
   "cell_type": "markdown",
   "id": "20b4baaf-3606-43c4-98c4-51cd948f1fc9",
   "metadata": {},
   "source": [
    "TOPIC: String Based Questions"
   ]
  },
  {
   "cell_type": "markdown",
   "id": "62a99baf-ef93-4632-b1f2-b19c2598769a",
   "metadata": {},
   "source": [
    "1. Write a Python program that takes a string as input and prints the\n",
    "length of the string."
   ]
  },
  {
   "cell_type": "code",
   "execution_count": 2,
   "id": "36f2906d-2de8-4d37-b311-d3c99cd534d4",
   "metadata": {},
   "outputs": [
    {
     "name": "stdin",
     "output_type": "stream",
     "text": [
      "enter the string : i am student of pwskills\n"
     ]
    },
    {
     "name": "stdout",
     "output_type": "stream",
     "text": [
      "the length of the string is : 24\n"
     ]
    }
   ],
   "source": [
    "string = input(\"enter the string :\")\n",
    "length_string = len(string)\n",
    "print(\"the length of the string is :\",length_string)"
   ]
  },
  {
   "cell_type": "markdown",
   "id": "6672a87c-b7c7-468c-9731-3ffbaf01f44a",
   "metadata": {},
   "source": [
    "2. Create a program that takes a sentence from the user and counts the\n",
    "number of vowels (a, e, i, o, u) in the string."
   ]
  },
  {
   "cell_type": "code",
   "execution_count": 4,
   "id": "22548338-23b3-4982-b28b-c7634a94dd35",
   "metadata": {},
   "outputs": [
    {
     "name": "stdin",
     "output_type": "stream",
     "text": [
      "Enter the sentence welcome to data science pro \n"
     ]
    },
    {
     "name": "stdout",
     "output_type": "stream",
     "text": [
      "welcome to data science pro \n",
      "counts of vowels in given sentence 10\n"
     ]
    }
   ],
   "source": [
    "sentence = input(\"Enter the sentence\")\n",
    "string = sentence.lower()\n",
    "print(string)\n",
    "count = 0\n",
    "list1 = [\"a\",\"e\",\"i\",\"o\",\"u\"]\n",
    "for sen  in string:\n",
    "    if sen in list1:\n",
    "        count = count+1\n",
    "print(\"counts of vowels in given sentence\",count)        \n",
    "\n"
   ]
  },
  {
   "cell_type": "markdown",
   "id": "76f31966-ca40-48d2-ab03-94ea313fbe01",
   "metadata": {},
   "source": [
    "3. Given a string, reverse the order of characters using string slicing and\n",
    "print the reversed string."
   ]
  },
  {
   "cell_type": "code",
   "execution_count": 5,
   "id": "0d3ecbfc-8104-4761-9f2c-8abb250e18a3",
   "metadata": {},
   "outputs": [
    {
     "name": "stdin",
     "output_type": "stream",
     "text": [
      "Enter the string pwskills\n"
     ]
    },
    {
     "name": "stdout",
     "output_type": "stream",
     "text": [
      "sllikswp\n"
     ]
    }
   ],
   "source": [
    "string1 = input(\"Enter the string\")\n",
    "reversed_string = string1[::-1]\n",
    "print(reversed_string)"
   ]
  },
  {
   "cell_type": "markdown",
   "id": "05bbe062-4863-434f-8917-5a4e93e0500c",
   "metadata": {},
   "source": [
    "4. Write a program that takes a string as input and checks if it is a\n",
    "palindrome (reads the same forwards and backwards).\n"
   ]
  },
  {
   "cell_type": "code",
   "execution_count": 10,
   "id": "a6a21ad3-4106-49fc-bf53-b13d1ba08dfe",
   "metadata": {},
   "outputs": [
    {
     "name": "stdin",
     "output_type": "stream",
     "text": [
      "Enter the string : malayalam\n"
     ]
    },
    {
     "name": "stdout",
     "output_type": "stream",
     "text": [
      "malayalam is palindrome\n"
     ]
    }
   ],
   "source": [
    "string2 = input(\"Enter the string :\")\n",
    "if string2 == string2[::-1]:\n",
    "    print(string2,\"is palindrome\")\n",
    "else:\n",
    "    print(string2,\" is not palindrome\")\n",
    "    "
   ]
  },
  {
   "cell_type": "markdown",
   "id": "0e358a73-111e-48e7-bc91-620f54f30600",
   "metadata": {},
   "source": [
    "5. Create a program that takes a string as input and removes all the\n",
    "spaces from it. Print the modified string without spaces."
   ]
  },
  {
   "cell_type": "code",
   "execution_count": 1,
   "id": "84779d47-b8a6-4de9-8eca-148910b26999",
   "metadata": {},
   "outputs": [
    {
     "name": "stdin",
     "output_type": "stream",
     "text": [
      "enter the string R A H U L\n"
     ]
    },
    {
     "name": "stdout",
     "output_type": "stream",
     "text": [
      "RAHUL\n"
     ]
    }
   ],
   "source": [
    "string3 = input(\"enter the string\")\n",
    "string4 = string3.replace(\" \" , \"\")\n",
    "print(string4)"
   ]
  },
  {
   "cell_type": "code",
   "execution_count": null,
   "id": "c18c0721-7ace-4a24-b4de-7c13edc6c8b7",
   "metadata": {},
   "outputs": [],
   "source": []
  }
 ],
 "metadata": {
  "kernelspec": {
   "display_name": "Python 3 (ipykernel)",
   "language": "python",
   "name": "python3"
  },
  "language_info": {
   "codemirror_mode": {
    "name": "ipython",
    "version": 3
   },
   "file_extension": ".py",
   "mimetype": "text/x-python",
   "name": "python",
   "nbconvert_exporter": "python",
   "pygments_lexer": "ipython3",
   "version": "3.10.8"
  }
 },
 "nbformat": 4,
 "nbformat_minor": 5
}
