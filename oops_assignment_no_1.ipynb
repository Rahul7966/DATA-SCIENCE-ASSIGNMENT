{
 "cells": [
  {
   "cell_type": "markdown",
   "id": "f212fbde-9308-4916-8b6d-69633042f3bb",
   "metadata": {},
   "source": [
    "Problem 1:\n",
    "    Bank Account Create a class representing a bank account with attributes like account number, account holder name, and balance. Implement methods to deposit and withdraw money from the account."
   ]
  },
  {
   "cell_type": "code",
   "execution_count": 5,
   "id": "1422d646-800a-4d02-8681-b974aa15c2c5",
   "metadata": {},
   "outputs": [],
   "source": [
    "class bank_account:\n",
    "    def __init__(self , account_holder_name : str , account_number : str , account_blance : float):\n",
    "        self.account_holder_name = account_holder_name\n",
    "        self.account_number = account_number \n",
    "        self.account_blance = account_blance \n",
    "    def deposite(self,amount : float):\n",
    "        self.account_blance += amount\n",
    "    def withdraw(self,amount : float):\n",
    "        if amount > self.account_blance:\n",
    "            raise ValueError(\"Insufficient balance\")\n",
    "        self.account_blance -= amount"
   ]
  },
  {
   "cell_type": "code",
   "execution_count": 6,
   "id": "aa06bc2f-3fd6-4ce2-a7c3-318ee432f621",
   "metadata": {},
   "outputs": [],
   "source": [
    "Rahul = bank_account(\"Rahul Pathak\", \"123456789\" , 1000)"
   ]
  },
  {
   "cell_type": "code",
   "execution_count": 7,
   "id": "9fc2c4f3-9842-4259-b579-8c64b4e7add9",
   "metadata": {},
   "outputs": [
    {
     "name": "stdout",
     "output_type": "stream",
     "text": [
      "1300\n"
     ]
    }
   ],
   "source": [
    "Rahul.deposite(500)\n",
    "Rahul.withdraw(200)\n",
    "print(Rahul.account_blance)"
   ]
  },
  {
   "cell_type": "markdown",
   "id": "ef663045-2f72-477a-8a6d-677a27cf345d",
   "metadata": {},
   "source": [
    "Problem 2: \n",
    "    Employee Management Create a class representing an employee with attributes like employee ID, name, and salary. Implement methods to calculate the yearly bonus and display employee details."
   ]
  },
  {
   "cell_type": "code",
   "execution_count": 14,
   "id": "a46e6bee-e67a-4951-9f2a-a273f357eb10",
   "metadata": {},
   "outputs": [],
   "source": [
    "class Employee:\n",
    "    def __init__(self , employee_id : str , employee_name : str , salary : float):\n",
    "        self.employee_id = employee_id \n",
    "        self.employee_name = employee_name\n",
    "        self.salary = salary\n",
    "    def calculate_yearly_bounce(self):\n",
    "        return 0.1*self.salary\n",
    "    def display_employee_detalis(self):\n",
    "        print(f\"employee_id : {self.employee_id}\")\n",
    "        print(f\"employee_name : {self.employee_name}\")\n",
    "        print(f\"salary : {self.salary}\")"
   ]
  },
  {
   "cell_type": "code",
   "execution_count": 13,
   "id": "740a3150-e881-447d-8314-9295fb14b6db",
   "metadata": {},
   "outputs": [],
   "source": [
    "worker1 = Employee(\"145263\" , \"Rahul Pathak\", 500000)"
   ]
  },
  {
   "cell_type": "code",
   "execution_count": 17,
   "id": "85b95e07-6274-47bd-9225-cc1f381ee44b",
   "metadata": {},
   "outputs": [
    {
     "name": "stdout",
     "output_type": "stream",
     "text": [
      "yearly bounce : 50000.0\n",
      "employee_id : 145263\n",
      "employee_name : Rahul Pathak\n",
      "salary : 500000\n"
     ]
    }
   ],
   "source": [
    "print(f\"yearly bounce : {worker1.calculate_yearly_bounce()}\")\n",
    "worker1.display_employee_detalis()"
   ]
  },
  {
   "cell_type": "markdown",
   "id": "6b1d2c19-d204-4953-99d4-21eb6e6a42a7",
   "metadata": {},
   "source": [
    "Problem 3: \n",
    "    Vehicle Rental Create a class representing a vehicle rental system. Implement methods to rent a vehicle, return a vehicle, and display available vehicles."
   ]
  },
  {
   "cell_type": "code",
   "execution_count": 23,
   "id": "246ba05c-1eb4-4a1c-a1ef-4c558e78fa5d",
   "metadata": {},
   "outputs": [],
   "source": [
    "class VehicleRentalSystem:\n",
    "    def __init__(self):\n",
    "        self.available_vehicles = [\"Van\",\"Taxi\",\"Police_car\", \"Bus\", \"Ambulance\", \"Skateboard\", \"Baby_carriage\"  ,\"Bicycle\"]\n",
    "        self.rented_vehicles = [\"van\",\"taxi\",\"bus\"]\n",
    "\n",
    "    def rent_vehicle(self, vehicle):\n",
    "        if vehicle in self.available_vehicles:\n",
    "            self.available_vehicles.remove(vehicle)\n",
    "            self.rented_vehicles.append(vehicle)\n",
    "            print(f\"{vehicle} has been rented.\")\n",
    "        else:\n",
    "            print(f\"{vehicle} is not available for rent.\")\n",
    "\n",
    "    def return_vehicle(self, vehicle):\n",
    "        if vehicle in self.rented_vehicles:\n",
    "            self.rented_vehicles.remove(vehicle)\n",
    "            self.available_vehicles.append(vehicle)\n",
    "            print(f\"{vehicle} has been returned.\")\n",
    "        else:\n",
    "            print(f\"{vehicle} was not rented from this rental system.\")\n",
    "\n",
    "    def display_available_vehicles(self):\n",
    "        if self.available_vehicles:\n",
    "            print(\"Available vehicles:\")\n",
    "            for vehicle in self.available_vehicles:\n",
    "                print(vehicle)\n",
    "        else:\n",
    "            print(\"No vehicles are currently available for rent.\")\n",
    "\n",
    "    "
   ]
  },
  {
   "cell_type": "code",
   "execution_count": 24,
   "id": "440fd0db-7e9f-4d41-8463-8cd7d1105e1b",
   "metadata": {},
   "outputs": [],
   "source": [
    "Rahul = VehicleRentalSystem()"
   ]
  },
  {
   "cell_type": "code",
   "execution_count": 18,
   "id": "6ac845a7-4f4d-4055-91a5-d594533b40b7",
   "metadata": {},
   "outputs": [
    {
     "name": "stdout",
     "output_type": "stream",
     "text": [
      "Bus is not available for rent.\n",
      "the rent vehicle is : None\n"
     ]
    }
   ],
   "source": [
    "print(f\"the rent vehicle is : {Rahul.rent_vehicle('Bus')}\")"
   ]
  },
  {
   "cell_type": "code",
   "execution_count": 29,
   "id": "40011990-44c1-458f-af41-9e94e0bd18f8",
   "metadata": {},
   "outputs": [
    {
     "name": "stdout",
     "output_type": "stream",
     "text": [
      "Available vehicles:\n",
      "Van\n",
      "Taxi\n",
      "Police_car\n",
      "Bus\n",
      "Ambulance\n",
      "Skateboard\n",
      "Baby_carriage\n",
      "Bicycle\n"
     ]
    }
   ],
   "source": [
    "Rahul.display_available_vehicles()"
   ]
  },
  {
   "cell_type": "markdown",
   "id": "fa3711c5-6f26-493f-b58a-25affcb2c728",
   "metadata": {},
   "source": [
    "Problem 4: \n",
    "    Library Catalog Create classes representing a library and a book. Implement methods to add books to the library, borrow books, and display available books."
   ]
  },
  {
   "cell_type": "code",
   "execution_count": 35,
   "id": "009c8095-5774-4a7a-8e57-ad58e86ca32b",
   "metadata": {},
   "outputs": [],
   "source": [
    "class Book:\n",
    "    def __init__(self, title, author,isbn):\n",
    "        self.title = title\n",
    "        self.author = author\n",
    "        self.isbn = isbn\n",
    "        self.is_available = True\n",
    "\n",
    "    def __str__(self):\n",
    "        return f\"{self.title} by {self.author}\"\n",
    "\n",
    "class Library(Book):\n",
    "    def __init__(self):\n",
    "        self.books = []\n",
    "\n",
    "    def add_book(self, book):\n",
    "        self.books.append(book)\n",
    "\n",
    "    def borrow_book(self, book_title):\n",
    "        for book in self.books:\n",
    "            if book.title == book_title and book.is_available:\n",
    "                book.is_available = False\n",
    "                print(f\"{book} has been borrowed.\")\n",
    "                return\n",
    "        print(f\"Sorry, {book_title} is not available for borrowing.\")\n",
    "\n",
    "    def return_book(self, book_title):\n",
    "        for book in self.books:\n",
    "            if book.title == book_title and not book.is_available:\n",
    "                book.is_available = True\n",
    "                print(f\"{book} has been returned.\")\n",
    "                return\n",
    "        print(f\"Sorry, {book_title} was not borrowed from this library.\")\n",
    "\n",
    "    def display_available_books(self):\n",
    "        available_books = [book for book in self.books if book.is_available]\n",
    "        if available_books:\n",
    "            print(\"Available books:\")\n",
    "            for book in available_books:\n",
    "                print(book)\n",
    "        else:\n",
    "            print(\"No books are currently available for borrowing.\")\n"
   ]
  },
  {
   "cell_type": "code",
   "execution_count": 36,
   "id": "772c2416-99b3-494b-b214-adb5af9cd9a5",
   "metadata": {},
   "outputs": [
    {
     "name": "stdout",
     "output_type": "stream",
     "text": [
      "Available books:\n",
      "The Great Gatsby by F. Scott Fitzgerald\n",
      "To Kill a Mockingbird by Harper Lee\n",
      "1984 by George Orwell\n",
      "The Great Gatsby by F. Scott Fitzgerald has been borrowed.\n",
      "Available books:\n",
      "To Kill a Mockingbird by Harper Lee\n",
      "1984 by George Orwell\n",
      "The Great Gatsby by F. Scott Fitzgerald has been returned.\n",
      "Available books:\n",
      "The Great Gatsby by F. Scott Fitzgerald\n",
      "To Kill a Mockingbird by Harper Lee\n",
      "1984 by George Orwell\n"
     ]
    }
   ],
   "source": [
    "\n",
    "book1 = Book(\"The Great Gatsby\", \"F. Scott Fitzgerald\", \"978-3-16-148410-0\")\n",
    "book2 = Book(\"To Kill a Mockingbird\", \"Harper Lee\", \"978-3-16-148410-1\")\n",
    "book3 = Book(\"1984\", \"George Orwell\", \"978-3-16-148410-2\")\n",
    "\n",
    "library = Library()\n",
    "\n",
    "\n",
    "library.add_book(book1)\n",
    "library.add_book(book2)\n",
    "library.add_book(book3)\n",
    "\n",
    "\n",
    "library.display_available_books()\n",
    "\n",
    "\n",
    "library.borrow_book(\"The Great Gatsby\")\n",
    "\n",
    "\n",
    "library.display_available_books()\n",
    "\n",
    "\n",
    "library.return_book(\"The Great Gatsby\")\n",
    "\n",
    "\n",
    "library.display_available_books()\n"
   ]
  },
  {
   "cell_type": "markdown",
   "id": "895b3f5a-ec89-4464-b56f-a9726f5aa6a6",
   "metadata": {},
   "source": [
    "Problem 5:\n",
    "    Product Inventory Create classes representing a product and an inventory system. Implement methods to add products to the inventory, update product quantity, and display available products."
   ]
  },
  {
   "cell_type": "code",
   "execution_count": 38,
   "id": "765a3a2f-98bc-4d56-ad7b-05e870ee03c3",
   "metadata": {},
   "outputs": [],
   "source": [
    "class Product:\n",
    "    def __init__(self, name, price, quantity):\n",
    "        self.name = name\n",
    "        self.price = price\n",
    "        self.quantity = quantity\n",
    "\n",
    "class Inventory:\n",
    "    def __init__(self):\n",
    "        self.products = []\n",
    "\n",
    "    def add_product(self, product):\n",
    "        self.products.append(product)\n",
    "\n",
    "    def update_quantity(self, product_name, quantity):\n",
    "        for product in self.products:\n",
    "            if product.name == product_name:\n",
    "                product.quantity = quantity\n",
    "                print(f\"{product_name} quantity updated to {quantity}.\")\n",
    "                return\n",
    "        print(f\"{product_name} not found in inventory.\")\n",
    "\n",
    "    def display_available_products(self):\n",
    "        available_products = [product for product in self.products if product.quantity > 0]\n",
    "        if available_products:\n",
    "            print(\"Available products:\")\n",
    "            for product in available_products:\n",
    "                print(f\"{product.name} - {product.price} - {product.quantity}\")\n",
    "        else:\n",
    "            print(\"No products are currently available.\")\n"
   ]
  },
  {
   "cell_type": "code",
   "execution_count": 39,
   "id": "d93979f1-78de-4340-ade8-60486c368c15",
   "metadata": {},
   "outputs": [
    {
     "name": "stdout",
     "output_type": "stream",
     "text": [
      "Available products:\n",
      "Apple - 1.5 - 10\n",
      "Banana - 2 - 5\n",
      "Apple quantity updated to 20.\n",
      "Available products:\n",
      "Apple - 1.5 - 20\n",
      "Banana - 2 - 5\n"
     ]
    }
   ],
   "source": [
    "product1 = Product(\"Apple\", 1.5, 10)\n",
    "product2 = Product(\"Banana\", 2, 5)\n",
    "product3 = Product(\"Orange\", 1, 0)\n",
    "inventory = Inventory()\n",
    "inventory.add_product(product1)\n",
    "inventory.add_product(product2)\n",
    "inventory.add_product(product3)\n",
    "\n",
    "inventory.display_available_products()\n",
    "\n",
    "inventory.update_quantity(\"Apple\", 20)\n",
    "inventory.display_available_products()\n"
   ]
  },
  {
   "cell_type": "markdown",
   "id": "040451a3-cb74-4a03-9fa8-b30947f0d533",
   "metadata": {},
   "source": [
    "Problem 6:\n",
    "    Shape Calculation Create a class representing a shape with attributes like length, width, and height. Implement methods to calculate the area and perimeter of the shape."
   ]
  },
  {
   "cell_type": "code",
   "execution_count": 45,
   "id": "29a9a6dd-5756-4d22-a97d-ed9ab3fea441",
   "metadata": {},
   "outputs": [],
   "source": [
    "class Shape:\n",
    "    def __init__(self, length, width, height):\n",
    "        self.length = length\n",
    "        self.width = width\n",
    "        self.height = height\n",
    "    def calculate_area(self):\n",
    "        pass\n",
    "    def calculate_perimeter(self):\n",
    "        pass\n",
    "class rectangle(Shape):\n",
    "    def calculate_area(self):\n",
    "        return self.length * self.width\n",
    "    def calculate_perimeter(self):\n",
    "        return 2*(self.length + self.width)\n",
    "class Square(Rectangle):\n",
    "    def __init__(self, side):\n",
    "        super().__init__(side, side, None)\n",
    "\n",
    "class Circle(Shape):\n",
    "    def __init__(self, radius):\n",
    "        super().__init__(radius, None, None)\n",
    "\n",
    "    def calculate_area(self):\n",
    "        return 3.14 * self.length ** 2\n",
    "\n",
    "    def calculate_perimeter(self):\n",
    "        return 2 * 3.14 * self.length \n",
    "\n"
   ]
  },
  {
   "cell_type": "code",
   "execution_count": 46,
   "id": "9de09274-06c5-431c-a754-c66604481a89",
   "metadata": {},
   "outputs": [],
   "source": [
    "Rectangle = rectangle(12,6,10)"
   ]
  },
  {
   "cell_type": "code",
   "execution_count": 47,
   "id": "a149a60f-23f1-47dd-bf08-5c26f05e3eab",
   "metadata": {},
   "outputs": [
    {
     "data": {
      "text/plain": [
       "72"
      ]
     },
     "execution_count": 47,
     "metadata": {},
     "output_type": "execute_result"
    }
   ],
   "source": [
    "Rectangle.calculate_area()"
   ]
  },
  {
   "cell_type": "code",
   "execution_count": 52,
   "id": "f5c65bf7-a989-4a6b-ad89-1ba8166435e6",
   "metadata": {},
   "outputs": [],
   "source": [
    "square = Square(7)"
   ]
  },
  {
   "cell_type": "code",
   "execution_count": 53,
   "id": "6ff7c418-271c-4bd3-ba59-99d4304e0fe5",
   "metadata": {},
   "outputs": [
    {
     "data": {
      "text/plain": [
       "28"
      ]
     },
     "execution_count": 53,
     "metadata": {},
     "output_type": "execute_result"
    }
   ],
   "source": [
    "square.calculate_perimeter()"
   ]
  },
  {
   "cell_type": "code",
   "execution_count": 56,
   "id": "bbb1290e-858a-491c-84c8-844b55cd5dee",
   "metadata": {},
   "outputs": [
    {
     "data": {
      "text/plain": [
       "49"
      ]
     },
     "execution_count": 56,
     "metadata": {},
     "output_type": "execute_result"
    }
   ],
   "source": [
    "square.calculate_area()"
   ]
  },
  {
   "cell_type": "code",
   "execution_count": 57,
   "id": "62034060-9e68-4906-99c3-fc4910ab43bf",
   "metadata": {},
   "outputs": [],
   "source": [
    "circle = Circle(9)"
   ]
  },
  {
   "cell_type": "code",
   "execution_count": 58,
   "id": "9d6f3da2-2290-49ea-a5ef-9abae3b5e171",
   "metadata": {},
   "outputs": [
    {
     "data": {
      "text/plain": [
       "254.34"
      ]
     },
     "execution_count": 58,
     "metadata": {},
     "output_type": "execute_result"
    }
   ],
   "source": [
    "circle.calculate_area()"
   ]
  },
  {
   "cell_type": "code",
   "execution_count": 59,
   "id": "de4cc33a-0115-48bc-a5e8-46e5486f4ee7",
   "metadata": {},
   "outputs": [
    {
     "data": {
      "text/plain": [
       "56.52"
      ]
     },
     "execution_count": 59,
     "metadata": {},
     "output_type": "execute_result"
    }
   ],
   "source": [
    "circle.calculate_perimeter()"
   ]
  },
  {
   "cell_type": "markdown",
   "id": "aaeeaa62-dc9e-424f-95a4-d30eafb33a4f",
   "metadata": {},
   "source": [
    "Problem 7:\n",
    "    Student Management Create a class representing a student with attributes like student ID, name, and grades. Implement methods to calculate the average grade and display student details."
   ]
  },
  {
   "cell_type": "code",
   "execution_count": 60,
   "id": "c1cd9f2a-6249-496b-990e-90ef10f2af7a",
   "metadata": {},
   "outputs": [],
   "source": [
    "class Student:\n",
    "    def __init__(self, student_id, name, grades):\n",
    "        self.student_id = student_id\n",
    "        self.name = name\n",
    "        self.grades = grades\n",
    "\n",
    "    def calculate_average_grade(self):\n",
    "        return sum(self.grades) / len(self.grades)\n",
    "\n",
    "    def display_student_details(self):\n",
    "        print(f\"Student ID: {self.student_id}\")\n",
    "        print(f\"Name: {self.name}\")\n",
    "        print(f\"Grades: {self.grades}\")\n",
    "        print(f\"Average grade: {self.calculate_average_grade()}\")\n"
   ]
  },
  {
   "cell_type": "code",
   "execution_count": 69,
   "id": "6083d4c9-d045-44e7-854c-e4bc25294c2c",
   "metadata": {},
   "outputs": [
    {
     "name": "stdout",
     "output_type": "stream",
     "text": [
      "Student ID: 1234\n",
      "Name: John Doe\n",
      "Grades: [90, 85, 95, 80]\n",
      "Average grade: 87.5\n"
     ]
    }
   ],
   "source": [
    "student = Student(1234, \"John Doe\", [90, 85, 95, 80])\n",
    "average_grade = student.calculate_average_grade()\n",
    "student.display_student_details()"
   ]
  },
  {
   "cell_type": "markdown",
   "id": "00049a84-f47f-408c-afac-e26e05155cdc",
   "metadata": {},
   "source": [
    "Problem 8:\n",
    "    Email Management Create a class representing an email with attributes like sender, recipient, and subject. Implement methods to send an email and display email details"
   ]
  },
  {
   "cell_type": "code",
   "execution_count": 1,
   "id": "5a95dcea-e205-4acc-9afb-4f643069fa46",
   "metadata": {},
   "outputs": [],
   "source": [
    "import smtplib\n",
    "from email.message import EmailMessage\n",
    "\n",
    "class Email:\n",
    "    def __init__(self, sender, recipient, subject):\n",
    "        self.sender = sender\n",
    "        self.recipient = recipient\n",
    "        self.subject = subject\n",
    "        self.msg = EmailMessage()\n",
    "        self.msg['From'] = self.sender\n",
    "        self.msg['To'] = self.recipient\n",
    "        self.msg['Subject'] = self.subject\n",
    "\n",
    "    def send_email(self, body):\n",
    "        self.msg.set_content(body)\n",
    "        with smtplib.SMTP('smtp.gmail.com', 587) as smtp:\n",
    "            smtp.ehlo()\n",
    "            smtp.starttls()\n",
    "            smtp.ehlo()\n",
    "            smtp.login('your_email@gmail.com', 'your_password')\n",
    "            smtp.send_message(self.msg)\n",
    "\n",
    "    def display_email_details(self):\n",
    "        print(f\"From: {self.sender}\")\n",
    "        print(f\"To: {self.recipient}\")\n",
    "        print(f\"Subject: {self.subject}\")\n"
   ]
  },
  {
   "cell_type": "code",
   "execution_count": 6,
   "id": "26742d13-1b48-43e1-878b-c19f195c0ac1",
   "metadata": {},
   "outputs": [
    {
     "name": "stdout",
     "output_type": "stream",
     "text": [
      "From: sender@example.com\n",
      "To: recipient@example.com\n",
      "Subject: Test Email\n"
     ]
    }
   ],
   "source": [
    "email = Email('sender@example.com', 'recipient@example.com', 'Test Email')\n",
    "email.display_email_details()"
   ]
  },
  {
   "cell_type": "markdown",
   "id": "c756a5b6-170a-4e11-8eb5-58be499282dc",
   "metadata": {},
   "source": [
    "Problem 9:\n",
    "    Social Media Profile Create a class representing a social media profile with attributes like username and posts. Implement methods to add posts, display posts, and search for posts by keyword."
   ]
  },
  {
   "cell_type": "code",
   "execution_count": 7,
   "id": "8d9e0fc6-e97c-4b6b-9941-4024a1c3050b",
   "metadata": {},
   "outputs": [],
   "source": [
    "class SocialMediaProfile:\n",
    "    def __init__(self, username):\n",
    "        self.username = username\n",
    "        self.posts = []\n",
    "\n",
    "    def add_post(self, post):\n",
    "        self.posts.append(post)\n",
    "\n",
    "    def display_posts(self):\n",
    "        for post in self.posts:\n",
    "            print(post)\n",
    "\n",
    "    def search_posts(self, keyword):\n",
    "        for post in self.posts:\n",
    "            if keyword in post:\n",
    "                print(post)\n"
   ]
  },
  {
   "cell_type": "code",
   "execution_count": 8,
   "id": "8623fb77-06da-43a4-8774-d88a3e599e01",
   "metadata": {},
   "outputs": [
    {
     "name": "stdout",
     "output_type": "stream",
     "text": [
      "Hello, world!\n",
      "This is my first post.\n",
      "I love Python.\n",
      "I love Python.\n"
     ]
    }
   ],
   "source": [
    "profile = SocialMediaProfile('johndoe')\n",
    "profile.add_post('Hello, world!')\n",
    "profile.add_post('This is my first post.')\n",
    "profile.add_post('I love Python.')\n",
    "profile.display_posts()\n",
    "profile.search_posts('love')\n"
   ]
  },
  {
   "cell_type": "markdown",
   "id": "ca5833dd-4fa2-42dd-b775-d03907205935",
   "metadata": {},
   "source": [
    "Problem 10:\n",
    "    ToDo List Create a class representing a ToDo list with attributes like tasks and due dates. Implement methods to add tasks, mark tasks as completed, and display pending tasks."
   ]
  },
  {
   "cell_type": "code",
   "execution_count": null,
   "id": "5a88a4cf-03df-4728-8a6a-2d2361d70463",
   "metadata": {},
   "outputs": [],
   "source": []
  }
 ],
 "metadata": {
  "kernelspec": {
   "display_name": "Python 3 (ipykernel)",
   "language": "python",
   "name": "python3"
  },
  "language_info": {
   "codemirror_mode": {
    "name": "ipython",
    "version": 3
   },
   "file_extension": ".py",
   "mimetype": "text/x-python",
   "name": "python",
   "nbconvert_exporter": "python",
   "pygments_lexer": "ipython3",
   "version": "3.10.8"
  }
 },
 "nbformat": 4,
 "nbformat_minor": 5
}
