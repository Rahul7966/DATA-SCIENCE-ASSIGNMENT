{
 "cells": [
  {
   "cell_type": "markdown",
   "id": "a476521e-23a6-4052-99e2-eb35873720ab",
   "metadata": {},
   "source": [
    "String Based Assignment Problem"
   ]
  },
  {
   "cell_type": "code",
   "execution_count": 1,
   "id": "9730be60-4099-4bbf-b2d8-249ee5fd7a69",
   "metadata": {},
   "outputs": [
    {
     "name": "stdin",
     "output_type": "stream",
     "text": [
      "enter the string rahul\n"
     ]
    },
    {
     "name": "stdout",
     "output_type": "stream",
     "text": [
      "luhar\n"
     ]
    }
   ],
   "source": [
    "#1. Write a program to reverse a string.\n",
    "string = input(\"enter the string\")\n",
    "result = string[::-1]\n",
    "print(result)"
   ]
  },
  {
   "cell_type": "code",
   "execution_count": 1,
   "id": "ae632b8d-b0ae-4ab4-8495-bad38d3c337f",
   "metadata": {},
   "outputs": [
    {
     "name": "stdin",
     "output_type": "stream",
     "text": [
      "enter the string malayalam\n"
     ]
    },
    {
     "name": "stdout",
     "output_type": "stream",
     "text": [
      "malayalam it palindrome\n"
     ]
    }
   ],
   "source": [
    "#2. Check if a string is a palindrome.\n",
    "string1 = input(\"enter the string\")\n",
    "if string1 == string1[::-1]:\n",
    "    print(string1,\"it palindrome\")\n",
    "else:\n",
    "    print(string1,\"not palindrome\")\n",
    "    "
   ]
  },
  {
   "cell_type": "code",
   "execution_count": 2,
   "id": "b63e57fa-d6d7-44f7-9afe-692de5daf48f",
   "metadata": {},
   "outputs": [
    {
     "name": "stdin",
     "output_type": "stream",
     "text": [
      "enter the string rahul\n"
     ]
    },
    {
     "name": "stdout",
     "output_type": "stream",
     "text": [
      "RAHUL\n"
     ]
    }
   ],
   "source": [
    "#3. Convert a string to uppercase.\n",
    "str2 = input(\"enter the string\")\n",
    "uppercase = str2.upper()\n",
    "print(uppercase)"
   ]
  },
  {
   "cell_type": "code",
   "execution_count": 3,
   "id": "3cb9bb01-190d-442d-bb63-0d62a79af563",
   "metadata": {},
   "outputs": [
    {
     "name": "stdin",
     "output_type": "stream",
     "text": [
      "enter the string RAHUL\n"
     ]
    },
    {
     "name": "stdout",
     "output_type": "stream",
     "text": [
      "rahul\n"
     ]
    }
   ],
   "source": [
    "#4. Convert a string to lowercase.\n",
    "str3 = input(\"enter the string\")\n",
    "lowercase = str3.lower()\n",
    "print(lowercase)"
   ]
  },
  {
   "cell_type": "code",
   "execution_count": 4,
   "id": "3b1e32f0-9e5f-43cc-8f98-6f450784c0d2",
   "metadata": {},
   "outputs": [
    {
     "name": "stdin",
     "output_type": "stream",
     "text": [
      "Enter the sentence well come to pwskills\n"
     ]
    },
    {
     "name": "stdout",
     "output_type": "stream",
     "text": [
      "well come to pwskills\n",
      "counts of vowels in given sentence 5\n"
     ]
    }
   ],
   "source": [
    "#5. Count the number of vowels in a string.\n",
    "sentence = input(\"Enter the sentence\")\n",
    "string = sentence.lower()\n",
    "print(string)\n",
    "count = 0\n",
    "list1 = [\"a\",\"e\",\"i\",\"o\",\"u\"]\n",
    "for sen  in string:\n",
    "    if sen in list1:\n",
    "        count = count+1\n",
    "print(\"counts of vowels in given sentence\",count)"
   ]
  },
  {
   "cell_type": "code",
   "execution_count": 5,
   "id": "4d1edee3-ccc2-4aa2-819d-2e37618ec297",
   "metadata": {},
   "outputs": [
    {
     "name": "stdin",
     "output_type": "stream",
     "text": [
      "enter the sentence welcome to pwskills in data science pro\n"
     ]
    },
    {
     "name": "stdout",
     "output_type": "stream",
     "text": [
      "welcome to pwskills in data science pro\n",
      "Count the number of consonants in a string is : 39\n"
     ]
    }
   ],
   "source": [
    "#6. Count the number of consonants in a string.\n",
    "sentence = input(\"enter the sentence\")\n",
    "str4 = sentence.lower()\n",
    "print(str4)\n",
    "count = 0\n",
    "list2 = [\"a\",\"e\",\"i\",\"o\",\"u\"]\n",
    "for i in str4:\n",
    "    if i != list2:\n",
    "        count = count+1\n",
    "print(\"Count the number of consonants in a string is :\",count)       \n",
    "        "
   ]
  },
  {
   "cell_type": "code",
   "execution_count": 1,
   "id": "467d73ac-fb1f-43fe-8086-971ea9cebb55",
   "metadata": {},
   "outputs": [
    {
     "name": "stdout",
     "output_type": "stream",
     "text": [
      "hello world\n"
     ]
    }
   ],
   "source": [
    "#7. Remove all whitespaces from a string.\n",
    "str5 = \"    hello world\"\n",
    "whitespaces = str5.strip()\n",
    "print(whitespaces)"
   ]
  },
  {
   "cell_type": "code",
   "execution_count": 4,
   "id": "47663ea9-8f81-40b2-953e-478fe2d26cd3",
   "metadata": {},
   "outputs": [
    {
     "name": "stdin",
     "output_type": "stream",
     "text": [
      "enter the string rahul pathak\n"
     ]
    },
    {
     "name": "stdout",
     "output_type": "stream",
     "text": [
      "length of the string: 12\n"
     ]
    }
   ],
   "source": [
    "#8. Find the length of a string without using the `len()` function.\n",
    "str6 = input(\"enter the string\")\n",
    "str6_length = 0\n",
    "for i in str6:\n",
    "    str6_length = str6_length+1\n",
    "print(\"length of the string:\",str6_length)    "
   ]
  },
  {
   "cell_type": "code",
   "execution_count": 27,
   "id": "ac32b12d-f2c4-4803-9f54-c1555a3864f9",
   "metadata": {},
   "outputs": [
    {
     "name": "stdout",
     "output_type": "stream",
     "text": [
      "False\n"
     ]
    }
   ],
   "source": [
    "#9. Check if a string contains a specific word.\n",
    "str7 = \"my name is Rahul Pathak\"\n",
    "print(str7.(\"is\"))"
   ]
  },
  {
   "cell_type": "code",
   "execution_count": 1,
   "id": "4ce45db4-5056-4156-a682-050644763915",
   "metadata": {},
   "outputs": [
    {
     "name": "stdin",
     "output_type": "stream",
     "text": [
      "enter the string my name is Rahul Pathak\n"
     ]
    },
    {
     "name": "stdout",
     "output_type": "stream",
     "text": [
      "me name is Rahul Pathak\n"
     ]
    }
   ],
   "source": [
    "#10. Replace a word in a string with another word.\n",
    "str8 = input(\"enter the string\")\n",
    "res = str8.replace('y','e')\n",
    "print(res)"
   ]
  },
  {
   "cell_type": "code",
   "execution_count": 2,
   "id": "39c8c57f-0e60-49c4-bfbe-b53b03531184",
   "metadata": {},
   "outputs": [
    {
     "name": "stdin",
     "output_type": "stream",
     "text": [
      "Enter the string Rahul pathak\n"
     ]
    },
    {
     "name": "stdout",
     "output_type": "stream",
     "text": [
      "3\n"
     ]
    }
   ],
   "source": [
    "#11. Count the occurrences of a word in a string.\n",
    "str9 = input(\"Enter the string\")\n",
    "result = str9.count('a')\n",
    "print(result)"
   ]
  },
  {
   "cell_type": "code",
   "execution_count": 3,
   "id": "6ffe348a-ea0a-445b-a985-db8e2958cf30",
   "metadata": {},
   "outputs": [
    {
     "name": "stdin",
     "output_type": "stream",
     "text": [
      "Enter the String pwskills\n"
     ]
    },
    {
     "name": "stdout",
     "output_type": "stream",
     "text": [
      "0\n"
     ]
    }
   ],
   "source": [
    "#12. Find the first occurrence of a word in a string.\n",
    "str10 = input(\"Enter the String\")\n",
    "res=str10.find('p')\n",
    "print(res)\n"
   ]
  },
  {
   "cell_type": "code",
   "execution_count": 4,
   "id": "9d31ff2f-0116-4714-8439-89a44fb56230",
   "metadata": {},
   "outputs": [
    {
     "name": "stdin",
     "output_type": "stream",
     "text": [
      "enter the string rahul\n"
     ]
    },
    {
     "name": "stdout",
     "output_type": "stream",
     "text": [
      "4\n"
     ]
    }
   ],
   "source": [
    "#13. Find the last occurrence of a word in a string.\n",
    "str11 = input(\"enter the string\")\n",
    "res = str11.find('l')\n",
    "print(res)"
   ]
  },
  {
   "cell_type": "code",
   "execution_count": 9,
   "id": "68a3d9ac-0b03-4560-adf7-f583c2eb03aa",
   "metadata": {},
   "outputs": [
    {
     "name": "stdin",
     "output_type": "stream",
     "text": [
      "Enter the String my name is rahul pathak\n"
     ]
    },
    {
     "name": "stdout",
     "output_type": "stream",
     "text": [
      "['my', 'name', 'is', 'rahul', 'pathak']\n"
     ]
    }
   ],
   "source": [
    "#14. Split a string into a list of words.\n",
    "str12 = input(\"Enter the String\")\n",
    "res = list(str12.split())\n",
    "print(res)"
   ]
  },
  {
   "cell_type": "code",
   "execution_count": 11,
   "id": "7bdbdb50-ddf2-4cbf-a940-9a38492ba274",
   "metadata": {},
   "outputs": [
    {
     "name": "stdout",
     "output_type": "stream",
     "text": [
      "i am rahul pathak\n"
     ]
    }
   ],
   "source": [
    "# 15.Join a list of words into a string.\n",
    "list1 = [ 'i', 'am' ,'rahul','pathak']\n",
    "joined = \" \".join(list1)\n",
    "print(joined)"
   ]
  },
  {
   "cell_type": "code",
   "execution_count": 14,
   "id": "840922cc-468e-4109-8c1d-8707885f23a0",
   "metadata": {},
   "outputs": [
    {
     "name": "stdin",
     "output_type": "stream",
     "text": [
      "enter the string my name is Rahul Pathak\n"
     ]
    },
    {
     "name": "stdout",
     "output_type": "stream",
     "text": [
      "my_name_is_Rahul_Pathak\n"
     ]
    }
   ],
   "source": [
    "#16. Convert a string where words are separated by spaces to one where words\n",
    "#are separated by underscores.\n",
    "str13 = input(\"enter the string\")\n",
    "underscores = str13.replace(\" \",\"_\")\n",
    "print(underscores)"
   ]
  },
  {
   "cell_type": "code",
   "execution_count": 19,
   "id": "07ced544-a55d-48e6-aaf8-1d4e8ebb2ce0",
   "metadata": {},
   "outputs": [
    {
     "name": "stdin",
     "output_type": "stream",
     "text": [
      "enter the string : python is fun\n"
     ]
    },
    {
     "name": "stdout",
     "output_type": "stream",
     "text": [
      "True\n"
     ]
    }
   ],
   "source": [
    "#17. Check if a string starts with a specific word or phrase.\n",
    "str14 = input(\"enter the string :\")\n",
    "print(str14.startswith('python'))"
   ]
  },
  {
   "cell_type": "code",
   "execution_count": 22,
   "id": "a4fe1696-a934-4a25-97cb-b08485808860",
   "metadata": {},
   "outputs": [
    {
     "name": "stdin",
     "output_type": "stream",
     "text": [
      "enter the String my name is rahul\n"
     ]
    },
    {
     "name": "stdout",
     "output_type": "stream",
     "text": [
      "True\n"
     ]
    }
   ],
   "source": [
    "str15 = input(\"enter the String\")\n",
    "print(str15.endswith('rahul'))"
   ]
  },
  {
   "cell_type": "code",
   "execution_count": 24,
   "id": "6a320329-70b3-497c-910b-fdff75e36303",
   "metadata": {},
   "outputs": [
    {
     "name": "stdout",
     "output_type": "stream",
     "text": [
      "Hello World\n"
     ]
    }
   ],
   "source": [
    "#19. Convert a string to title case\n",
    "str16 = 'hello world'\n",
    "print(str16.title())"
   ]
  },
  {
   "cell_type": "code",
   "execution_count": 49,
   "id": "0c3ef996-58f3-4241-938f-39a86a256d89",
   "metadata": {},
   "outputs": [
    {
     "name": "stdout",
     "output_type": "stream",
     "text": [
      "pathak\n"
     ]
    }
   ],
   "source": [
    "#20. Find the longest word in a string.\n",
    "str17 = 'i am rahul pathak'\n",
    "s = str17.split()\n",
    "longest_word = len(s[0][-1])\n",
    "for i in s:\n",
    "    if len(i) > longest_word:\n",
    "        longest_word = len(i)\n",
    "        long = i\n",
    "print(long)     "
   ]
  },
  {
   "cell_type": "code",
   "execution_count": 48,
   "id": "f4d7976c-9388-4594-b9bc-a74e52819091",
   "metadata": {},
   "outputs": [
    {
     "name": "stdout",
     "output_type": "stream",
     "text": [
      "\n"
     ]
    }
   ],
   "source": [
    "#21. Find the shortest word in a string. \n",
    "str18 = 'i am rahul pathak'\n",
    "sh = str18.split()\n",
    "short_word = len(sh[0:1])\n",
    "for i in sh:\n",
    "    if len(i) < short_word:\n",
    "        short_word = len(i)\n",
    "        short = i\n",
    "print(short)"
   ]
  },
  {
   "cell_type": "code",
   "execution_count": 50,
   "id": "f0d3cd33-4508-44ad-963e-a556bca8d4b2",
   "metadata": {},
   "outputs": [
    {
     "name": "stdout",
     "output_type": "stream",
     "text": [
      "sllikswp\n"
     ]
    }
   ],
   "source": [
    "#22. Reverse the order of words in a string.\n",
    "str19 = 'pwskills'\n",
    "res = str19[::-1]\n",
    "print(res)"
   ]
  },
  {
   "cell_type": "markdown",
   "id": "ca4072be-ccbc-4dec-8314-a191d2f18a8b",
   "metadata": {},
   "source": [
    "List Based Practice Problem :"
   ]
  },
  {
   "cell_type": "code",
   "execution_count": 64,
   "id": "0e6c99f3-bcc9-4a7b-b6ef-ae5ec60e0e20",
   "metadata": {},
   "outputs": [
    {
     "name": "stdout",
     "output_type": "stream",
     "text": [
      "True\n"
     ]
    }
   ],
   "source": [
    "#23. Check if a string is alphanumeric.\n",
    "str20 = 'pwskills'\n",
    "\n",
    "res = print(str20.isalnum())\n"
   ]
  },
  {
   "cell_type": "code",
   "execution_count": 60,
   "id": "7ab52562-96d8-491d-a91a-e7c96fd0c0ca",
   "metadata": {},
   "outputs": [
    {
     "name": "stdout",
     "output_type": "stream",
     "text": [
      "Extracted digits: 123456\n"
     ]
    }
   ],
   "source": [
    "# 24. Extract all digits from a string.\n",
    "def extract_digits(text):\n",
    "    # Step 1: Initialize an empty string to store the extracted digits.\n",
    "    digits = \"\"\n",
    "\n",
    "    # Step 2: Iterate through each character in the text.\n",
    "    for char in text:\n",
    "        # Check if the character is a digit using the isdigit() method.\n",
    "        if char.isdigit():\n",
    "            # Append the digit to the digits string.\n",
    "            digits += char\n",
    "\n",
    "    # Step 3: Return the extracted digits.\n",
    "    return digits\n",
    "\n",
    "# Example usage\n",
    "text = \"Hello123World456\"\n",
    "extracted_digits = extract_digits(text)\n",
    "print(\"Extracted digits:\", extracted_digits)\n",
    "        "
   ]
  },
  {
   "cell_type": "code",
   "execution_count": 61,
   "id": "03e85b25-fbb1-4b1f-92e0-d1681b4dce66",
   "metadata": {},
   "outputs": [
    {
     "name": "stdout",
     "output_type": "stream",
     "text": [
      "H e l l o W o r l d\n"
     ]
    }
   ],
   "source": [
    "#25. Extract all alphabets from a string.\n",
    "def extract_alphabets(input_string):\n",
    "    alphabets = ' '.join([char for char in input_string if char.isalpha()])\n",
    "    return alphabets\n",
    "\n",
    "# Example input string\n",
    "input_string = \"Hello123World456\"\n",
    "result = extract_alphabets(input_string)\n",
    "print(result)"
   ]
  },
  {
   "cell_type": "code",
   "execution_count": 62,
   "id": "80c4e817-0cce-43dd-babf-777512b2b3d3",
   "metadata": {},
   "outputs": [
    {
     "name": "stdout",
     "output_type": "stream",
     "text": [
      "6\n"
     ]
    }
   ],
   "source": [
    "# 26. Count the number of uppercase letters in a string.\n",
    "def count_uppercase(input_string):\n",
    "    uppercase_count = sum(1 for char in input_string if char.isupper())\n",
    "    return uppercase_count\n",
    "\n",
    "# Example input string\n",
    "input_string = \"HelloWORLD\"\n",
    "result = count_uppercase(input_string)\n",
    "print(result)"
   ]
  },
  {
   "cell_type": "code",
   "execution_count": 65,
   "id": "783e8659-1642-410d-a6cc-414cc3930e0c",
   "metadata": {},
   "outputs": [
    {
     "name": "stdout",
     "output_type": "stream",
     "text": [
      "4\n"
     ]
    }
   ],
   "source": [
    "# 27. Count the number of lowercase letters in a string.\n",
    "def count_lowercase(input_string):\n",
    "    lowercase_count = sum(1 for char in input_string if char.islower())\n",
    "    return lowercase_count\n",
    "\n",
    "# Example input string\n",
    "input_string = \"HelloWORLD\"\n",
    "result = count_lowercase(input_string)\n",
    "print(result)"
   ]
  },
  {
   "cell_type": "code",
   "execution_count": 66,
   "id": "f739ae02-c59a-4e1f-aaab-e85bcb4913cc",
   "metadata": {},
   "outputs": [
    {
     "name": "stdout",
     "output_type": "stream",
     "text": [
      "hELLOworld\n"
     ]
    }
   ],
   "source": [
    "# 28. Swap the case of each character in a string.\n",
    "def swap_case(input_string):\n",
    "    swapped_string = input_string.swapcase()\n",
    "    return swapped_string\n",
    "\n",
    "# Example input string\n",
    "input_string = \"HelloWORLD\"\n",
    "result = swap_case(input_string)\n",
    "print(result)"
   ]
  },
  {
   "cell_type": "code",
   "execution_count": 67,
   "id": "b29a7704-c552-4e12-a352-d1f773a23b94",
   "metadata": {},
   "outputs": [
    {
     "name": "stdout",
     "output_type": "stream",
     "text": [
      "Hello world, welcome to the of programming.\n"
     ]
    }
   ],
   "source": [
    "# 29. Remove a specific word from a string.\n",
    "def remove_word(input_string, word_to_remove):\n",
    "    words = input_string.split()  # Split the input string into a list of words\n",
    "    filtered_words = [word for word in words if word != word_to_remove]  # Create a new list excluding the word to remove\n",
    "    modified_string = ' '.join(filtered_words)  # Join the filtered words back into a string\n",
    "    return modified_string\n",
    "\n",
    "# Example input string and word to remove\n",
    "input_string = \"Hello world, welcome to the world of programming.\"\n",
    "word_to_remove = \"world\"\n",
    "result = remove_word(input_string, word_to_remove)\n",
    "print(result)"
   ]
  },
  {
   "cell_type": "code",
   "execution_count": 68,
   "id": "a1ca3a82-8652-4b89-b3c5-3d35349e6135",
   "metadata": {},
   "outputs": [
    {
     "name": "stdout",
     "output_type": "stream",
     "text": [
      "True\n",
      "False\n"
     ]
    }
   ],
   "source": [
    "# 30. Check if a string is a valid email address.\n",
    "import re  # Import the regular expression module\n",
    "\n",
    "def is_valid_email(email):\n",
    "    pattern = r'^[\\w\\.-]+@[\\w\\.-]+\\.\\w+$'  # Regular expression pattern for a basic email validation\n",
    "    if re.match(pattern, email):\n",
    "        return True\n",
    "    else:\n",
    "        return False\n",
    "\n",
    "# Example email addresses\n",
    "email1 = \"example@email.com\"\n",
    "email2 = \"invalid-email\"\n",
    "result1 = is_valid_email(email1)\n",
    "result2 = is_valid_email(email2)\n",
    "print(result1)\n",
    "print(result2)"
   ]
  },
  {
   "cell_type": "code",
   "execution_count": 70,
   "id": "30f31364-a589-4478-8e16-6b438a7faa71",
   "metadata": {},
   "outputs": [
    {
     "name": "stdout",
     "output_type": "stream",
     "text": [
      "example\n"
     ]
    }
   ],
   "source": [
    "# 31. Extract the username from an email address string.\n",
    "def extract_username(email):\n",
    "    username = email.split('@')[0]  # Split the email address at \"@\" and take the first part\n",
    "    return username\n",
    "\n",
    "# Example email address\n",
    "email = \"example@email.com\"\n",
    "result = extract_username(email)\n",
    "print(result)"
   ]
  },
  {
   "cell_type": "code",
   "execution_count": 72,
   "id": "f4afbab0-228b-445d-be8c-c27710c2919c",
   "metadata": {},
   "outputs": [
    {
     "name": "stdout",
     "output_type": "stream",
     "text": [
      "email.com\n"
     ]
    }
   ],
   "source": [
    "# 32. Extract the domain name from an email address string.\n",
    "def extract_domain(email):\n",
    "    domain = email.split('@')[1]  # Split the email address at \"@\" and take the second part\n",
    "    return domain\n",
    "\n",
    "# Example email address\n",
    "email = \"example@email.com\"\n",
    "result = extract_domain(email)\n",
    "print(result)"
   ]
  },
  {
   "cell_type": "code",
   "execution_count": 73,
   "id": "8c28c69e-7e35-45a9-a490-1cf79ba7dbac",
   "metadata": {},
   "outputs": [
    {
     "name": "stdout",
     "output_type": "stream",
     "text": [
      "Hello world! How are you?\n"
     ]
    }
   ],
   "source": [
    "# 33. Replace multiple spaces in a string with a single space.\n",
    "def replace_multiple_spaces(input_string):\n",
    "    cleaned_string = ' '.join(input_string.split())  # Split the string at spaces and then join using a single space\n",
    "    return cleaned_string\n",
    "\n",
    "# Example input string with multiple spaces\n",
    "input_string = \"Hello     world!   How   are   you?\"\n",
    "result = replace_multiple_spaces(input_string)\n",
    "print(result)"
   ]
  },
  {
   "cell_type": "code",
   "execution_count": 74,
   "id": "f5577102-7a1f-40a4-a348-56d63c33cdfd",
   "metadata": {},
   "outputs": [
    {
     "name": "stdout",
     "output_type": "stream",
     "text": [
      "True\n",
      "False\n"
     ]
    }
   ],
   "source": [
    "# 34. Check if a string is a valid URL.\n",
    "from urllib.parse import urlparse\n",
    "\n",
    "def is_valid_url(url):\n",
    "    try:\n",
    "        result = urlparse(url)\n",
    "        return all([result.scheme, result.netloc])  # Check if both scheme and netloc are present\n",
    "    except ValueError:\n",
    "        return False\n",
    "\n",
    "# Example URLs\n",
    "url1 = \"https://www.example.com\"\n",
    "url2 = \"invalid-url\"\n",
    "result1 = is_valid_url(url1)\n",
    "result2 = is_valid_url(url2)\n",
    "print(result1)  # Should print True\n",
    "print(result2)  # Should print False"
   ]
  },
  {
   "cell_type": "code",
   "execution_count": 75,
   "id": "ae86c46f-e66c-4ba0-81b9-4fff3c934b87",
   "metadata": {},
   "outputs": [
    {
     "name": "stdout",
     "output_type": "stream",
     "text": [
      "Protocol 1: https\n",
      "Protocol 2: http\n",
      "Protocol 3: ftp\n"
     ]
    }
   ],
   "source": [
    "#35. Extract the protocol (http or https) from a URL string.\n",
    "def extract_protocol(url):\n",
    "    # Find the index of the first occurrence of \"://\"\n",
    "    protocol_end = url.find(\"://\")\n",
    "\n",
    "    if protocol_end != -1:\n",
    "        # Extract the protocol from the URL\n",
    "        protocol = url[:protocol_end]\n",
    "        return protocol\n",
    "    else:\n",
    "        return None\n",
    "\n",
    "# Example URL strings\n",
    "url1 = \"https://www.example.com\"\n",
    "url2 = \"http://google.com\"\n",
    "url3 = \"ftp://ftp.example.com\"\n",
    "\n",
    "# Extract protocols\n",
    "protocol1 = extract_protocol(url1)\n",
    "protocol2 = extract_protocol(url2)\n",
    "protocol3 = extract_protocol(url3)\n",
    "\n",
    "# Print extracted protocols\n",
    "print(\"Protocol 1:\", protocol1)\n",
    "print(\"Protocol 2:\", protocol2)\n",
    "print(\"Protocol 3:\", protocol3)"
   ]
  },
  {
   "cell_type": "code",
   "execution_count": 76,
   "id": "379b2ab8-3a93-4a60-84d8-2e6e5f28c0aa",
   "metadata": {},
   "outputs": [
    {
     "name": "stdout",
     "output_type": "stream",
     "text": [
      "Character: 'h', Frequency: 1\n",
      "Character: 'e', Frequency: 1\n",
      "Character: 'l', Frequency: 3\n",
      "Character: 'o', Frequency: 2\n",
      "Character: ' ', Frequency: 1\n",
      "Character: 'w', Frequency: 1\n",
      "Character: 'r', Frequency: 1\n",
      "Character: 'd', Frequency: 1\n"
     ]
    }
   ],
   "source": [
    "# 36. Find the frequency of each character in a string.\n",
    "def character_frequency(input_string):\n",
    "    frequency = {}  # Create an empty dictionary to store character frequencies\n",
    "\n",
    "    for char in input_string:\n",
    "        if char in frequency:\n",
    "            frequency[char] += 1  # Increment the frequency count if the character is already in the dictionary\n",
    "        else:\n",
    "            frequency[char] = 1   # Initialize the frequency count to 1 if the character is not in the dictionary\n",
    "\n",
    "    return frequency\n",
    "\n",
    "# Example string\n",
    "input_str = \"hello world\"\n",
    "\n",
    "# Calculate character frequencies\n",
    "char_freq = character_frequency(input_str)\n",
    "\n",
    "# Print character frequencies\n",
    "for char, freq in char_freq.items():\n",
    "    print(f\"Character: '{char}', Frequency: {freq}\")"
   ]
  },
  {
   "cell_type": "code",
   "execution_count": 77,
   "id": "8bd3e36c-b8b4-411c-a9ca-3aa3ced7ba50",
   "metadata": {},
   "outputs": [
    {
     "name": "stdout",
     "output_type": "stream",
     "text": [
      "Original string: Hello, world! How's it going?\n",
      "Cleaned string: Hello world Hows it going\n"
     ]
    }
   ],
   "source": [
    "# 37. Remove all punctuation from a string.\n",
    "import string\n",
    "\n",
    "def remove_punctuation(input_string):\n",
    "    # Create a translation table to remove punctuation\n",
    "    translator = str.maketrans(\"\", \"\", string.punctuation)\n",
    "\n",
    "    # Use the translation table to remove punctuation from the input string\n",
    "    clean_string = input_string.translate(translator)\n",
    "\n",
    "    return clean_string\n",
    "\n",
    "# Example string with punctuation\n",
    "input_str = \"Hello, world! How's it going?\"\n",
    "\n",
    "# Remove punctuation\n",
    "cleaned_str = remove_punctuation(input_str)\n",
    "\n",
    "# Print the cleaned string\n",
    "print(\"Original string:\", input_str)\n",
    "print(\"Cleaned string:\", cleaned_str)"
   ]
  },
  {
   "cell_type": "code",
   "execution_count": 78,
   "id": "afba6842-8332-4eba-bb36-3698b5cbbee6",
   "metadata": {},
   "outputs": [
    {
     "name": "stdout",
     "output_type": "stream",
     "text": [
      "'12345' contains only digits: True\n",
      "'Hello123' contains only digits: False\n",
      "'456.789' contains only digits: False\n"
     ]
    }
   ],
   "source": [
    "# 38. Check if a string contains only digits.\n",
    "def contains_only_digits(input_string):\n",
    "    # Check if all characters in the string are digits\n",
    "    return input_string.isdigit()\n",
    "\n",
    "# Example strings\n",
    "string1 = \"12345\"\n",
    "string2 = \"Hello123\"\n",
    "string3 = \"456.789\"\n",
    "\n",
    "# Check if strings contain only digits\n",
    "result1 = contains_only_digits(string1)\n",
    "result2 = contains_only_digits(string2)\n",
    "result3 = contains_only_digits(string3)\n",
    "\n",
    "# Print the results\n",
    "print(f\"'{string1}' contains only digits:\", result1)\n",
    "print(f\"'{string2}' contains only digits:\", result2)\n",
    "print(f\"'{string3}' contains only digits:\", result3)"
   ]
  },
  {
   "cell_type": "code",
   "execution_count": 79,
   "id": "660c6af3-cc04-49ca-a993-a3ff9611f9f1",
   "metadata": {},
   "outputs": [
    {
     "name": "stdout",
     "output_type": "stream",
     "text": [
      "'Hello' contains only alphabets: True\n",
      "'Hello123' contains only alphabets: False\n",
      "'12345' contains only alphabets: False\n"
     ]
    }
   ],
   "source": [
    "# 39. Check if a string contains only alphabets.\n",
    "def contains_only_alphabets(input_string):\n",
    "    # Check if all characters in the string are alphabetic\n",
    "    return input_string.isalpha()\n",
    "\n",
    "# Example strings\n",
    "string1 = \"Hello\"\n",
    "string2 = \"Hello123\"\n",
    "string3 = \"12345\"\n",
    "\n",
    "# Check if strings contain only alphabets\n",
    "result1 = contains_only_alphabets(string1)\n",
    "result2 = contains_only_alphabets(string2)\n",
    "result3 = contains_only_alphabets(string3)\n",
    "\n",
    "# Print the results\n",
    "print(f\"'{string1}' contains only alphabets:\", result1)\n",
    "print(f\"'{string2}' contains only alphabets:\", result2)\n",
    "print(f\"'{string3}' contains only alphabets:\", result3)"
   ]
  },
  {
   "cell_type": "code",
   "execution_count": 80,
   "id": "f643c730-34f1-4abd-87c9-85ab37977864",
   "metadata": {},
   "outputs": [
    {
     "name": "stdout",
     "output_type": "stream",
     "text": [
      "Original string: Hello, world!\n",
      "List of characters: ['H', 'e', 'l', 'l', 'o', ',', ' ', 'w', 'o', 'r', 'l', 'd', '!']\n"
     ]
    }
   ],
   "source": [
    "#40. Convert a string to a list of characters.\n",
    "def string_to_list(input_string):\n",
    "    # Use list() constructor to convert the string to a list of characters\n",
    "    char_list = list(input_string)\n",
    "    return char_list\n",
    "\n",
    "# Example string\n",
    "input_str = \"Hello, world!\"\n",
    "\n",
    "# Convert the string to a list of characters\n",
    "char_list = string_to_list(input_str)\n",
    "\n",
    "# Print the list of characters\n",
    "print(\"Original string:\", input_str)\n",
    "print(\"List of characters:\", char_list)"
   ]
  },
  {
   "cell_type": "code",
   "execution_count": 81,
   "id": "20a99e0c-4358-42c8-854d-69cbca6703c2",
   "metadata": {},
   "outputs": [
    {
     "name": "stdout",
     "output_type": "stream",
     "text": [
      "'listen' and 'silent' are anagrams: True\n",
      "'hello' and 'world' are anagrams: False\n"
     ]
    }
   ],
   "source": [
    "# 41. Check if two strings are anagrams.\n",
    "def are_anagrams(str1, str2):\n",
    "    # Remove spaces and convert strings to lowercase for accurate comparison\n",
    "    str1 = str1.replace(\" \", \"\").lower()\n",
    "    str2 = str2.replace(\" \", \"\").lower()\n",
    "\n",
    "    # Sort the characters in both strings and compare\n",
    "    return sorted(str1) == sorted(str2)\n",
    "\n",
    "# Example strings\n",
    "string1 = \"listen\"\n",
    "string2 = \"silent\"\n",
    "string3 = \"hello\"\n",
    "string4 = \"world\"\n",
    "\n",
    "# Check if strings are anagrams\n",
    "result1 = are_anagrams(string1, string2)\n",
    "result2 = are_anagrams(string3, string4)\n",
    "\n",
    "# Print the results\n",
    "print(f\"'{string1}' and '{string2}' are anagrams:\", result1)\n",
    "print(f\"'{string3}' and '{string4}' are anagrams:\", result2)"
   ]
  },
  {
   "cell_type": "code",
   "execution_count": 88,
   "id": "92bfd626-eb48-4da1-8fa4-4b811eaefa6b",
   "metadata": {},
   "outputs": [
    {
     "name": "stdout",
     "output_type": "stream",
     "text": [
      "Encoded text: ehoor, zruog!\n"
     ]
    }
   ],
   "source": [
    "# 42. Encode a string using a Caesar cipher.\n",
    "def caesar_cipher(text, shift):\n",
    " \n",
    "  encoded_text = \"\"\n",
    "\n",
    "  # Iterate through each character in the input text.\n",
    "  for char in text:\n",
    "    # Check if the character is alphabetic.\n",
    "    if char.isalpha():\n",
    "    \n",
    "      encoded_char = chr((ord(char) + shift - ord('a')) % 26 + ord('a'))\n",
    "    else:\n",
    "      # Keep non-alphabetic characters unchanged.\n",
    "      encoded_char = char\n",
    "\n",
    "    # Add the encoded character to the encoded text.\n",
    "    encoded_text += encoded_char\n",
    "\n",
    "  # Return the resulting encoded text.\n",
    "  return encoded_text\n",
    "\n",
    "# Define the input text and the shift value for encoding.\n",
    "text = \"Hello, world!\"\n",
    "shift = 3\n",
    "\n",
    "# Call the caesar_cipher function to encode the text using the specified shift.\n",
    "encoded_text = caesar_cipher(text, shift)\n",
    "\n",
    "# Print the encoded text.\n",
    "print(\"Encoded text:\", encoded_text)"
   ]
  },
  {
   "cell_type": "code",
   "execution_count": 89,
   "id": "eff1b24f-28a3-4877-923c-2f4df10d894f",
   "metadata": {},
   "outputs": [
    {
     "name": "stdout",
     "output_type": "stream",
     "text": [
      "Decoded text: ilmm, world!\n"
     ]
    }
   ],
   "source": [
    "# 43. Decode a Caesar cipher encoded string.\n",
    "def caesar_cipher_decoder(text, shift):\n",
    "    \"\"\"\n",
    "    Decodes a string using a Caesar cipher.\n",
    "\n",
    "    Args:\n",
    "        text: The string to decode.\n",
    "        shift: The number of positions to shift each letter.\n",
    "\n",
    "    Returns:\n",
    "        The decoded string.\n",
    "    \"\"\"\n",
    "\n",
    "    # Initialize an empty string to store the decoded text\n",
    "    decoded_text = \"\"\n",
    "\n",
    "    # Loop through each character in the input text\n",
    "    for char in text:\n",
    "        # Check if the character is an alphabetic character\n",
    "        if char.isalpha():\n",
    "            # Calculate the decoded character using the shift value\n",
    "            decoded_char = chr((ord(char) - shift - ord('a')) % 26 + ord('a'))\n",
    "        else:\n",
    "            # If the character is not alphabetic, keep it unchanged\n",
    "            decoded_char = char\n",
    "\n",
    "        # Add the decoded character to the decoded text\n",
    "        decoded_text += decoded_char\n",
    "\n",
    "    # Return the fully decoded text\n",
    "    return decoded_text\n",
    "\n",
    "# Example input\n",
    "text = \"lopp, zruog!\"\n",
    "shift = 3\n",
    "\n",
    "# Call the caesar_cipher_decoder function to decode the input text\n",
    "decoded_text = caesar_cipher_decoder(text, shift)\n",
    "\n",
    "# Print the decoded text\n",
    "print(\"Decoded text:\", decoded_text)"
   ]
  },
  {
   "cell_type": "code",
   "execution_count": 93,
   "id": "eb7ace7e-c78e-460b-8598-7e9b6eb1bb7a",
   "metadata": {},
   "outputs": [
    {
     "name": "stdout",
     "output_type": "stream",
     "text": [
      "Most frequent word: hello\n"
     ]
    }
   ],
   "source": [
    "# 44. Find the most frequent word in a string.\n",
    "import re\n",
    "from collections import Counter\n",
    "\n",
    "def most_frequent_word(input_string):\n",
    "    \n",
    "    # Remove punctuation and convert to lowercase\n",
    "    clean_string = re.sub(r'[^\\w\\s]', '', input_string).lower()\n",
    "\n",
    "    # Split the string into words\n",
    "    words = clean_string.split()\n",
    "\n",
    "    # Use Counter to count word frequencies\n",
    "    word_counter = Counter(words)\n",
    "\n",
    "    # Find the most common word\n",
    "    most_common_word = word_counter.most_common(1)[0][0]\n",
    "\n",
    "\n",
    "\n",
    "\n",
    "    return most_common_word\n",
    "\n",
    "# Example string\n",
    "input_str = \"Hello world, hello there! How's the world?\"\n",
    "\n",
    "# Find the most frequent word\n",
    "most_common = most_frequent_word(input_str)\n",
    "\n",
    "# Print the result\n",
    "print(\"Most frequent word:\", most_common)"
   ]
  },
  {
   "cell_type": "code",
   "execution_count": 94,
   "id": "90d891d7-53de-48de-9c0f-8951ea7c8587",
   "metadata": {},
   "outputs": [
    {
     "name": "stdout",
     "output_type": "stream",
     "text": [
      "Unique words: {'there', 'world', 'hello', 'the', 'hows'}\n"
     ]
    }
   ],
   "source": [
    "#45. Find all unique words in a string.\n",
    "import re\n",
    "\n",
    "def unique_words(input_string):\n",
    "    # Remove punctuation and convert to lowercase\n",
    "    clean_string = re.sub(r'[^\\w\\s]', '', input_string).lower()\n",
    "\n",
    "    # Split the string into words and convert to a set for uniqueness\n",
    "    words = set(clean_string.split())\n",
    "\n",
    "    return words\n",
    "\n",
    "# Example string\n",
    "input_str = \"Hello world, hello there! How's the world?\"\n",
    "\n",
    "# Find unique words\n",
    "unique_word_set = unique_words(input_str)\n",
    "\n",
    "# Print the result\n",
    "print(\"Unique words:\", unique_word_set)"
   ]
  },
  {
   "cell_type": "code",
   "execution_count": 95,
   "id": "41335569-3a85-44d4-a5ca-ad927aba25ad",
   "metadata": {},
   "outputs": [
    {
     "name": "stdout",
     "output_type": "stream",
     "text": [
      "'hello' has 2 syllables.\n",
      "'banana' has 3 syllables.\n",
      "'syllable' has 3 syllables.\n"
     ]
    }
   ],
   "source": [
    "#46. Count the number of syllables in a string.\n",
    "import re\n",
    "\n",
    "def count_syllables(word):\n",
    "    # Count vowel groups using regular expression\n",
    "    vowel_groups = re.findall(r'[aeiouy]+', word, re.IGNORECASE)\n",
    "\n",
    "    return len(vowel_groups)\n",
    "\n",
    "# Example words\n",
    "word1 = \"hello\"\n",
    "word2 = \"banana\"\n",
    "word3 = \"syllable\"\n",
    "\n",
    "# Count syllables\n",
    "syllables1 = count_syllables(word1)\n",
    "syllables2 = count_syllables(word2)\n",
    "syllables3 = count_syllables(word3)\n",
    "\n",
    "# Print the results\n",
    "print(f\"'{word1}' has {syllables1} syllables.\")\n",
    "print(f\"'{word2}' has {syllables2} syllables.\")\n",
    "print(f\"'{word3}' has {syllables3} syllables.\")"
   ]
  },
  {
   "cell_type": "code",
   "execution_count": 97,
   "id": "a3dcd733-1384-4d79-9bf1-bff46216829f",
   "metadata": {},
   "outputs": [
    {
     "name": "stdout",
     "output_type": "stream",
     "text": [
      "'Hello, world!' contains special characters: True\n",
      "'This is a test.' contains special characters: True\n",
      "'Special@Characters' contains special characters: True\n"
     ]
    }
   ],
   "source": [
    "#47. Check if a string contains any special characters.\n",
    "import re\n",
    "\n",
    "def contains_special_characters(input_string):\n",
    "    # Define a regular expression pattern to match special characters\n",
    "    pattern = re.compile(r'[!@#$%^&*()_+{}\\[\\]:;<>,.?~\\\\/]')\n",
    "\n",
    "    # Use the search() method to find a match\n",
    "    match = pattern.search(input_string)\n",
    "\n",
    "    # Return True if a match is found, False otherwise\n",
    "    return bool(match)\n",
    "\n",
    "# Example strings\n",
    "string1 = \"Hello, world!\"\n",
    "string2 = \"This is a test.\"\n",
    "string3 = \"Special@Characters\"\n",
    "\n",
    "# Check if strings contain special characters\n",
    "result1 = contains_special_characters(string1)\n",
    "result2 = contains_special_characters(string2)\n",
    "result3 = contains_special_characters(string3)\n",
    "\n",
    "# Print the results\n",
    "print(f\"'{string1}' contains special characters:\", result1)\n",
    "print(f\"'{string2}' contains special characters:\", result2)\n",
    "print(f\"'{string3}' contains special characters:\", result3)\n"
   ]
  },
  {
   "cell_type": "code",
   "execution_count": 98,
   "id": "46abacb9-a2e4-48bb-9a23-e1841fbb5833",
   "metadata": {},
   "outputs": [
    {
     "name": "stdout",
     "output_type": "stream",
     "text": [
      "Original string: This is an example sentence to test the function.\n",
      "Modified string: This is an sentence to test the function.\n",
      "Removed word: example\n"
     ]
    }
   ],
   "source": [
    "# 48. Remove the nth word from a string.\n",
    "def remove_nth_word(input_string, n):\n",
    "    # Split the input string into words\n",
    "    words = input_string.split()\n",
    "\n",
    "    # Check if n is within a valid range\n",
    "    if n >= 1 and n <= len(words):\n",
    "        # Remove the nth word by excluding it from the words list\n",
    "        removed_word = words.pop(n - 1)\n",
    "\n",
    "        # Join the remaining words to form the modified string\n",
    "        modified_string = ' '.join(words)\n",
    "\n",
    "        return modified_string, removed_word\n",
    "    else:\n",
    "        return None, None\n",
    "\n",
    "# Example string and n value\n",
    "input_str = \"This is an example sentence to test the function.\"\n",
    "n_value = 4\n",
    "\n",
    "# Remove the nth word\n",
    "modified_str, removed_word = remove_nth_word(input_str, n_value)\n",
    "\n",
    "# Print the results\n",
    "print(\"Original string:\", input_str)\n",
    "if modified_str is not None:\n",
    "    print(\"Modified string:\", modified_str)\n",
    "    print(\"Removed word:\", removed_word)\n",
    "else:\n",
    "    print(\"Invalid n value.\")"
   ]
  },
  {
   "cell_type": "code",
   "execution_count": 103,
   "id": "6a32e83a-a6bc-475d-8d44-91a6d2ca2f9e",
   "metadata": {},
   "outputs": [
    {
     "data": {
      "text/plain": [
       "'rapathakhul'"
      ]
     },
     "execution_count": 103,
     "metadata": {},
     "output_type": "execute_result"
    }
   ],
   "source": [
    "#49. Insert a word at the nth position in a string.\n",
    "def inserter(s, a, n):\n",
    "    \"\"\"\n",
    "    s: The original string\n",
    "    a: The characters you want to append\n",
    "    n: The position you want to append the characters\n",
    "    \"\"\"\n",
    "    return s[:n] + a + s[n:]\n",
    "\n",
    "if __name__ == '__main__':\n",
    "    original_string = \"My car is a mazda.\"\n",
    "    \n",
    "    \n",
    "s = \"rahul\"\n",
    "a = \"pathak\"\n",
    "n = 2\n",
    "\n",
    "inserter(s,a,n)\n"
   ]
  },
  {
   "cell_type": "code",
   "execution_count": null,
   "id": "d42a9599-0738-4ed3-b3bf-6646c9584859",
   "metadata": {},
   "outputs": [],
   "source": []
  },
  {
   "cell_type": "code",
   "execution_count": 3,
   "id": "5db87ba8-66ae-494b-a429-42c7a3870b44",
   "metadata": {},
   "outputs": [
    {
     "name": "stdout",
     "output_type": "stream",
     "text": [
      "[1, 2, 3, 4, 5, 6, 7, 8, 9, 10]\n"
     ]
    }
   ],
   "source": [
    "#1. Create a list with integers from 1 to 10.\n",
    "l1 = list(range(1,11))\n",
    "print(l1)"
   ]
  },
  {
   "cell_type": "code",
   "execution_count": 4,
   "id": "2230040e-e74d-478d-b2ea-b9d5dc54d3a7",
   "metadata": {},
   "outputs": [
    {
     "name": "stdout",
     "output_type": "stream",
     "text": [
      "1\n",
      "2\n",
      "3\n",
      "4\n",
      "5\n",
      "6\n",
      "7\n",
      "8\n",
      "9\n",
      "10\n"
     ]
    }
   ],
   "source": [
    "#2. Find the length of a list without using the `len()` function.\n",
    "input_list = list(range(1,11))\n",
    "count = 0\n",
    "for i in input_list:\n",
    "    count = count+i\n",
    "    print(i)\n",
    "        \n",
    "    \n",
    "    "
   ]
  },
  {
   "cell_type": "code",
   "execution_count": 8,
   "id": "de4a1f04-7759-4e54-b10a-d40c6a745c74",
   "metadata": {},
   "outputs": [
    {
     "name": "stdout",
     "output_type": "stream",
     "text": [
      "['rahul', 'pathak', 'pw skills', 'data science', 1, 2, 3, 4, 'b-tech']\n"
     ]
    }
   ],
   "source": [
    "#3. Append an element to the end of a list.\n",
    "l2 = [\"rahul\", \"pathak\", \"pw skills\", \"data science\", 1, 2, 3,4 ]\n",
    "l2.append(\"b-tech\")\n",
    "print(l2)\n",
    "\n"
   ]
  },
  {
   "cell_type": "code",
   "execution_count": 10,
   "id": "acb37990-2930-41d8-b12f-ef3bb47b1902",
   "metadata": {},
   "outputs": [
    {
     "data": {
      "text/plain": [
       "2"
      ]
     },
     "execution_count": 10,
     "metadata": {},
     "output_type": "execute_result"
    }
   ],
   "source": [
    "#4. Insert an element at a specific index in a list.\n",
    "l3 = [\"rahul\", \"pathak\", \"pw skills\", \"data science\", 1, 2, 3,4 ]\n",
    "l3.index(\"pw skills\")"
   ]
  },
  {
   "cell_type": "code",
   "execution_count": 11,
   "id": "bea7d444-75cd-4eab-adaa-062945255fb6",
   "metadata": {},
   "outputs": [],
   "source": [
    "#5. Remove an element from a list by its value.\n",
    "l4 = [\"rahul\", \"pathak\", \"pw skills\", \"data science\", 1, 2, 3,4 ]\n",
    "l4.remove(2)"
   ]
  },
  {
   "cell_type": "code",
   "execution_count": 12,
   "id": "a57c6c5f-da50-40e5-9303-42535a7d33d6",
   "metadata": {},
   "outputs": [
    {
     "data": {
      "text/plain": [
       "['rahul', 'pathak', 'pw skills', 'data science', 1, 3, 4]"
      ]
     },
     "execution_count": 12,
     "metadata": {},
     "output_type": "execute_result"
    }
   ],
   "source": [
    "l4"
   ]
  },
  {
   "cell_type": "code",
   "execution_count": 1,
   "id": "ac4c5abd-0453-4715-b21a-6ea829772f63",
   "metadata": {},
   "outputs": [
    {
     "data": {
      "text/plain": [
       "2"
      ]
     },
     "execution_count": 1,
     "metadata": {},
     "output_type": "execute_result"
    }
   ],
   "source": [
    "#6. Remove an element from a list by its index.\n",
    "l5 = [\"rahul\", \"pathak\", \"pw skills\", \"data science\", 1, 2, 3,4 ]\n",
    "l5.pop(5)\n",
    "\n"
   ]
  },
  {
   "cell_type": "code",
   "execution_count": 2,
   "id": "dc8a16f3-5e05-4bfd-99f9-2524fb793eb3",
   "metadata": {},
   "outputs": [
    {
     "data": {
      "text/plain": [
       "['rahul', 'pathak', 'pw skills', 'data science', 1, 3, 4]"
      ]
     },
     "execution_count": 2,
     "metadata": {},
     "output_type": "execute_result"
    }
   ],
   "source": [
    "l5"
   ]
  },
  {
   "cell_type": "code",
   "execution_count": 4,
   "id": "22d4d8a1-b04d-4381-90eb-8ab2a5e08c95",
   "metadata": {},
   "outputs": [
    {
     "name": "stdout",
     "output_type": "stream",
     "text": [
      "element exists in a list 65\n"
     ]
    }
   ],
   "source": [
    "#Check if an element exists in a list.\n",
    "my_list = list(range(1,100))\n",
    "to_check_number = 65\n",
    "if to_check_number in my_list:\n",
    "    print(\"element exists in a list\",to_check_number)\n",
    "else:\n",
    "    print(\"does no exists in a list\",to_check_number)\n"
   ]
  },
  {
   "cell_type": "code",
   "execution_count": 5,
   "id": "340e90dd-27c1-49c0-ac63-a7e2a5ec5c22",
   "metadata": {},
   "outputs": [
    {
     "data": {
      "text/plain": [
       "2"
      ]
     },
     "execution_count": 5,
     "metadata": {},
     "output_type": "execute_result"
    }
   ],
   "source": [
    "#Find the index of the first occurrence of an element in a list.\n",
    "list6 = [\"rahul\", \"pathak\", \"pw skills\", \"data science\", 1, 2, 3,4 ]\n",
    "list6.index(\"pw skills\")"
   ]
  },
  {
   "cell_type": "code",
   "execution_count": 9,
   "id": "657b071b-04e1-4ad6-9f7f-2d4e9b67a1ce",
   "metadata": {},
   "outputs": [
    {
     "data": {
      "text/plain": [
       "64"
      ]
     },
     "execution_count": 9,
     "metadata": {},
     "output_type": "execute_result"
    }
   ],
   "source": [
    "list7 = list(range(1,100))\n",
    "list7.index(65)"
   ]
  },
  {
   "cell_type": "code",
   "execution_count": 11,
   "id": "8f039f6a-713e-47cd-9308-2b264c811298",
   "metadata": {},
   "outputs": [
    {
     "data": {
      "text/plain": [
       "5"
      ]
     },
     "execution_count": 11,
     "metadata": {},
     "output_type": "execute_result"
    }
   ],
   "source": [
    "#9. Count the occurrences of an element in a list.\n",
    "list8 = [10,20,30,40,50,20,30,20,45,75,40,20,10,45,85.20,30,45,45,75,45,]\n",
    "list8.count(45)"
   ]
  },
  {
   "cell_type": "code",
   "execution_count": 12,
   "id": "536181c5-30ac-4f83-ac0d-40106e0753a9",
   "metadata": {},
   "outputs": [
    {
     "name": "stdout",
     "output_type": "stream",
     "text": [
      "[4, 3, 2, 1, 'data science', 'pw skills', 'pathak', 'rahul']\n"
     ]
    }
   ],
   "source": [
    " #010. Reverse the order of elements in a list.\n",
    "list9 = [\"rahul\", \"pathak\", \"pw skills\", \"data science\", 1, 2, 3,4 ]\n",
    "rev = list9[::-1]\n",
    "print(rev)"
   ]
  },
  {
   "cell_type": "code",
   "execution_count": 14,
   "id": "44df6984-70e2-4873-aa36-76a01c15c0e8",
   "metadata": {},
   "outputs": [
    {
     "name": "stdout",
     "output_type": "stream",
     "text": [
      "[10, 20, 30, 40, 50]\n"
     ]
    }
   ],
   "source": [
    "#11. Sort a list in ascending order.\n",
    "list10 = [50, 10, 30, 40, 20]\n",
    "list10.sort()\n",
    "print(list10)"
   ]
  },
  {
   "cell_type": "code",
   "execution_count": 16,
   "id": "37cb2cd9-275e-4730-a1cf-3f38d685f935",
   "metadata": {},
   "outputs": [
    {
     "name": "stdout",
     "output_type": "stream",
     "text": [
      "[50, 40, 30, 20, 10]\n"
     ]
    }
   ],
   "source": [
    "#12. Sort a list in descending order.\n",
    "list11 = [50, 10, 30, 40, 20]\n",
    "list11.sort(reverse=True)\n",
    "print(list11)"
   ]
  },
  {
   "cell_type": "code",
   "execution_count": 33,
   "id": "d59e20ec-b78f-4793-bbdc-0f2c03ca144b",
   "metadata": {},
   "outputs": [
    {
     "name": "stdout",
     "output_type": "stream",
     "text": [
      "[2, 4, 6, 8, 10, 12, 14, 16, 18, 20]\n"
     ]
    }
   ],
   "source": [
    " #13. Create a list of even numbers from 1 to 20.\n",
    "even_number = [x for x in range(2,21,2) ]\n",
    "print(even_number)\n",
    "\n",
    "        \n",
    "      \n",
    "        \n",
    "    "
   ]
  },
  {
   "cell_type": "code",
   "execution_count": 34,
   "id": "a1dc2971-3485-43cb-beb2-0ac6da1a54e9",
   "metadata": {},
   "outputs": [
    {
     "name": "stdout",
     "output_type": "stream",
     "text": [
      "[1, 3, 5, 7, 9, 11, 13, 15, 17, 19]\n"
     ]
    }
   ],
   "source": [
    "#14. Create a list of odd numbers from 1 to 20.\n",
    "odd_number = [x for x in range(1,21,2)]\n",
    "print(odd_number)"
   ]
  },
  {
   "cell_type": "code",
   "execution_count": 35,
   "id": "43b259bf-c65a-46fb-9c1d-c0bf4b00a823",
   "metadata": {},
   "outputs": [
    {
     "name": "stdout",
     "output_type": "stream",
     "text": [
      "150\n"
     ]
    }
   ],
   "source": [
    "# 15. Find the sum of all elements in a list.\n",
    "list12 = [10,20,30,40,50]\n",
    "total_sum = sum(list12)\n",
    "print(total_sum)"
   ]
  },
  {
   "cell_type": "code",
   "execution_count": 36,
   "id": "30419fdb-2e47-45db-bec2-1ef796fc5255",
   "metadata": {},
   "outputs": [
    {
     "name": "stdout",
     "output_type": "stream",
     "text": [
      "50\n"
     ]
    }
   ],
   "source": [
    " #16. Find the maximum value in a list.\n",
    "list13 = [10,20,30,40,50,5,6,]\n",
    "maxx = max(list13)\n",
    "print(maxx)"
   ]
  },
  {
   "cell_type": "code",
   "execution_count": 38,
   "id": "dde0d0c5-62fb-4e0c-b831-ce8e6a623813",
   "metadata": {},
   "outputs": [
    {
     "name": "stdout",
     "output_type": "stream",
     "text": [
      "5\n"
     ]
    }
   ],
   "source": [
    "# 17. Find the minimum value in a list.\n",
    "list14 = [10,20,30,40,50,5,6,]\n",
    "minn = min(list14)\n",
    "print(minn)"
   ]
  },
  {
   "cell_type": "code",
   "execution_count": 39,
   "id": "3fbe56e4-6538-40c8-8ede-5a6affcb184f",
   "metadata": {},
   "outputs": [
    {
     "name": "stdout",
     "output_type": "stream",
     "text": [
      "[1, 4, 9, 16, 25, 36, 49, 64, 81, 100]\n"
     ]
    }
   ],
   "source": [
    "#18. Create a list of squares of numbers from 1 to 10.\n",
    "squares_list = [x**2 for x in range(1,11)]\n",
    "print(squares_list)"
   ]
  },
  {
   "cell_type": "code",
   "execution_count": 43,
   "id": "c6d8ebf0-9237-4cb6-97c6-e69552fa6981",
   "metadata": {},
   "outputs": [
    {
     "name": "stdout",
     "output_type": "stream",
     "text": [
      "[4]\n",
      "[4, 27]\n",
      "[4, 27, 80]\n",
      "[4, 27, 80, 6]\n",
      "[4, 27, 80, 6, 38]\n",
      "[4, 27, 80, 6, 38, 5]\n",
      "[4, 27, 80, 6, 38, 5, 87]\n",
      "[4, 27, 80, 6, 38, 5, 87, 2]\n",
      "[4, 27, 80, 6, 38, 5, 87, 2, 8]\n",
      "[4, 27, 80, 6, 38, 5, 87, 2, 8, 31]\n"
     ]
    }
   ],
   "source": [
    "#19. Create a list of random numbers.\n",
    "import random\n",
    "list15 = []\n",
    "for i in range(10):\n",
    "    list15.append(random.randint(1,100))\n",
    "    print(list15)\n",
    "                  \n",
    "    \n"
   ]
  },
  {
   "cell_type": "code",
   "execution_count": 46,
   "id": "9e7870d9-7bd6-4622-8c8b-7e7b9d278323",
   "metadata": {},
   "outputs": [
    {
     "name": "stdout",
     "output_type": "stream",
     "text": [
      "[28, 56, 71, 100, 9, 33, 17, 17, 10, 2]\n"
     ]
    }
   ],
   "source": [
    "#19. Create a list of random numbers.\n",
    "#or\n",
    "import random\n",
    "random_int = [random.randint(1,100) for i in range(10)]\n",
    "print(random_int)"
   ]
  },
  {
   "cell_type": "code",
   "execution_count": 48,
   "id": "bba7fea1-89c8-40e3-b8f7-45d7954b5f90",
   "metadata": {},
   "outputs": [
    {
     "data": {
      "text/plain": [
       "[40, 10, 50, 20, 30]"
      ]
     },
     "execution_count": 48,
     "metadata": {},
     "output_type": "execute_result"
    }
   ],
   "source": [
    "#20. Remove duplicates from a list.\n",
    "my_list = [10, 20, 30, 20, 40, 10, 50, 30]\n",
    "list(set(my_list))"
   ]
  },
  {
   "cell_type": "code",
   "execution_count": 51,
   "id": "81bc488f-cbf9-4771-8063-ca1d46c2acd4",
   "metadata": {},
   "outputs": [
    {
     "name": "stdout",
     "output_type": "stream",
     "text": [
      "[40, 50, 30]\n"
     ]
    }
   ],
   "source": [
    "# 21. Find the common elements between two lists.\n",
    "list1 = [10, 20, 30, 40, 50]\n",
    "list2 = [30, 40, 50, 60, 70]\n",
    "common_element = list(set(list1).intersection(list2))\n",
    "print(common_element)\n"
   ]
  },
  {
   "cell_type": "code",
   "execution_count": 53,
   "id": "bd316b51-1e59-445f-9fb6-4ae969526aef",
   "metadata": {},
   "outputs": [
    {
     "name": "stdout",
     "output_type": "stream",
     "text": [
      "[20, 10]\n"
     ]
    }
   ],
   "source": [
    "#22. Find the difference between two lists.\n",
    "list1 = [10, 20, 30, 40, 50]\n",
    "list2 = [30, 40, 50, 60, 70]\n",
    "diff_ele = list(set(list1).difference(list2))\n",
    "print(diff_ele)"
   ]
  },
  {
   "cell_type": "code",
   "execution_count": 54,
   "id": "96ece08a-ec91-4e9a-8c7f-487c80d98ee8",
   "metadata": {},
   "outputs": [
    {
     "name": "stdout",
     "output_type": "stream",
     "text": [
      "[10, 20, 30, 40, 50, 60]\n"
     ]
    }
   ],
   "source": [
    "#23. Merge two lists.\n",
    "list1 = [10, 20, 30]\n",
    "list2 = [40, 50, 60]\n",
    "merge_list = list1+list2\n",
    "print(merge_list)"
   ]
  },
  {
   "cell_type": "code",
   "execution_count": 56,
   "id": "38dc7dbb-99e7-4b88-8cd3-65939514a88a",
   "metadata": {},
   "outputs": [
    {
     "name": "stdout",
     "output_type": "stream",
     "text": [
      "[1, 4, 9, 16, 25, 36, 49, 64, 81, 100]\n"
     ]
    }
   ],
   "source": [
    "# 24. Multiply all elements in a list by 2.\n",
    "my_list = [1,2,3,4,5,6,7,8,9,10]\n",
    "mul_my_list = [x**2 for x in my_list]\n",
    "print(mul_my_list)"
   ]
  },
  {
   "cell_type": "code",
   "execution_count": 57,
   "id": "dba2327a-978a-416e-b33b-ff55ae5af09c",
   "metadata": {},
   "outputs": [
    {
     "name": "stdout",
     "output_type": "stream",
     "text": [
      "[2, 4, 6, 8, 10]\n"
     ]
    }
   ],
   "source": [
    "#25. Filter out all even numbers from a list.\n",
    "my_list = [1,2,3,4,5,6,7,8,9,10]\n",
    "even_num_from_list = list(filter(lambda x: x%2 == 0, my_list))\n",
    "print(even_num_from_list)"
   ]
  },
  {
   "cell_type": "code",
   "execution_count": 66,
   "id": "b7d7aa2b-0ef3-4009-b9fb-22e8e82b00a8",
   "metadata": {},
   "outputs": [
    {
     "name": "stdout",
     "output_type": "stream",
     "text": [
      "[10, 20, 30, 40, 50]\n"
     ]
    }
   ],
   "source": [
    "# 26. Convert a list of strings to a list of integers.\n",
    "string_list = [\"10\", \"20\", \"30\", \"40\", \"50\"]\n",
    "int_list = [int(i) for i in string_list]\n",
    "print(int_list)"
   ]
  },
  {
   "cell_type": "code",
   "execution_count": 67,
   "id": "9d0d989e-f5d3-4de3-b1ae-54e462ca51ae",
   "metadata": {},
   "outputs": [
    {
     "name": "stdout",
     "output_type": "stream",
     "text": [
      "['10', '20', '30', '40', '50']\n"
     ]
    }
   ],
   "source": [
    "# 27. Convert a list of integers to a list of strings.\n",
    "int_list = [10, 20, 30, 40, 50]\n",
    "str_list = [str(i) for i in int_list]\n",
    "print(str_list)"
   ]
  },
  {
   "cell_type": "code",
   "execution_count": 68,
   "id": "16531424-a095-40b3-95c4-d2757ee3e00b",
   "metadata": {},
   "outputs": [
    {
     "name": "stdout",
     "output_type": "stream",
     "text": [
      "[1, 2, 3, 4, 5, 6, 7]\n"
     ]
    }
   ],
   "source": [
    "#28. Flatten a nested list.\n",
    "my_list = [[1], [2, 3], [4, 5, 6, 7]]\n",
    "flat_list = [num for sublist in my_list for num in sublist]\n",
    "print(flat_list)"
   ]
  },
  {
   "cell_type": "code",
   "execution_count": 2,
   "id": "a6b03453-d68b-4554-87a0-f8b1d90a6197",
   "metadata": {},
   "outputs": [],
   "source": [
    "#29. Create a list of the first 10 Fibonacci numbers.\n",
    "def fib(n):\n",
    "    a , b = 0,1\n",
    "    for i in range(n):\n",
    "        yield a \n",
    "        a = b\n",
    "        b = a+b\n",
    "    "
   ]
  },
  {
   "cell_type": "code",
   "execution_count": 4,
   "id": "23094fad-8267-4bd0-83e5-5051c3d02dd6",
   "metadata": {},
   "outputs": [
    {
     "name": "stdout",
     "output_type": "stream",
     "text": [
      "0\n",
      "1\n",
      "2\n",
      "4\n",
      "8\n",
      "16\n",
      "32\n",
      "64\n",
      "128\n",
      "256\n"
     ]
    }
   ],
   "source": [
    "for i in fib(10):\n",
    "    print(i)"
   ]
  },
  {
   "cell_type": "code",
   "execution_count": 10,
   "id": "a9ab48b4-01cb-4916-9106-31345b9d1e8d",
   "metadata": {},
   "outputs": [
    {
     "name": "stdout",
     "output_type": "stream",
     "text": [
      "this is sorted list\n"
     ]
    }
   ],
   "source": [
    "#30. Check if a list is sorted.\n",
    "def is_sorted(num):\n",
    "    for i in range(1 , len(num)):\n",
    "        if num[i] < num[i-1]:\n",
    "            return False \n",
    "        return True\n",
    "listt = [ 10,20,30,40,50]\n",
    "if is_sorted(listt):\n",
    "    print(\"this is sorted list\")\n",
    "elif is_sorted(listt):\n",
    "    print(\"this is unsorted list\")\n",
    "else:\n",
    "    print(\"error\")\n",
    "\n"
   ]
  },
  {
   "cell_type": "code",
   "execution_count": 15,
   "id": "c7c4fd35-cfb9-4179-91ec-18f2c3402dd3",
   "metadata": {},
   "outputs": [
    {
     "name": "stdout",
     "output_type": "stream",
     "text": [
      "[3, 4, 5, 6, 7, 8, 9, 1, 2]\n"
     ]
    }
   ],
   "source": [
    "# 31. Rotate a list to the left by `n` positions.\n",
    "def rotate_left(ist, n):\n",
    "    n =  n % len(ist)\n",
    "    rotated = ist[n:] + ist[:n]\n",
    "    return rotated\n",
    "my_list = [1,2,3,4,5,6,7,8,9]\n",
    "n = 2\n",
    "rotated_list = rotate_left(my_list , n)\n",
    "print(rotated_list)"
   ]
  },
  {
   "cell_type": "code",
   "execution_count": 21,
   "id": "08bf1cdf-cb9f-404f-ab98-007c58da6787",
   "metadata": {},
   "outputs": [
    {
     "name": "stdout",
     "output_type": "stream",
     "text": [
      "[8, 9, 1, 2, 3, 4, 5, 6, 7]\n"
     ]
    }
   ],
   "source": [
    "#32. Rotate a list to the right by `n` positions.\n",
    "def rotate_rigth(ist,n):\n",
    "    n = n % len(ist)\n",
    "    rotated = ist[-n:]+ist[:-n]\n",
    "    return rotated\n",
    "my_list = [1,2,3,4,5,6,7,8,9]\n",
    "n = 2\n",
    "rotated_list = rotate_rigth(my_list ,n)\n",
    "print(rotated_list)"
   ]
  },
  {
   "cell_type": "code",
   "execution_count": 29,
   "id": "7a7ca2e4-1c9c-4ed0-8d39-19904a86ed09",
   "metadata": {},
   "outputs": [
    {
     "name": "stdout",
     "output_type": "stream",
     "text": [
      "0 1 2 3 5 7 11 13 17 19 23 29 31 37 41 43 47 "
     ]
    }
   ],
   "source": [
    "# 33. Create a list of prime numbers up to 50.\n",
    "give_list = list(range(0,51))\n",
    "for i in give_list:\n",
    "    flag = 0\n",
    "    for j in range(2,i):\n",
    "        if i%j == 0:\n",
    "            flag = 1\n",
    "            break\n",
    "    if flag == 0:\n",
    "        print(i, end = ' ' )"
   ]
  },
  {
   "cell_type": "code",
   "execution_count": 2,
   "id": "1188722b-bdd8-46d6-9591-e43a5286b688",
   "metadata": {},
   "outputs": [
    {
     "name": "stdout",
     "output_type": "stream",
     "text": [
      "[[0, 5, 10, 15, 20], [25, 30, 35, 40, 45]]\n"
     ]
    }
   ],
   "source": [
    "# 34. Split a list into chunks of size `n`.\n",
    "def div_chunks(l,n):\n",
    "    for i in range(0, len(l),n):\n",
    "        yield l[i: i+n]\n",
    "my_list = list(range(0,50,5))\n",
    "n = 5\n",
    "res =list( div_chunks(my_list,n))\n",
    "print(res)\n",
    "        \n"
   ]
  },
  {
   "cell_type": "code",
   "execution_count": 3,
   "id": "cd4246eb-88df-42a7-8426-d606535f6da9",
   "metadata": {},
   "outputs": [
    {
     "data": {
      "text/plain": [
       "[0, 5, 10, 15, 20, 25, 30, 35, 40, 45]"
      ]
     },
     "execution_count": 3,
     "metadata": {},
     "output_type": "execute_result"
    }
   ],
   "source": [
    "#35. Find the second largest number in a list.\n",
    "my_list"
   ]
  },
  {
   "cell_type": "code",
   "execution_count": 4,
   "id": "d215ca68-9a74-496d-ab89-e53257fcf75c",
   "metadata": {},
   "outputs": [
    {
     "data": {
      "text/plain": [
       "40"
      ]
     },
     "execution_count": 4,
     "metadata": {},
     "output_type": "execute_result"
    }
   ],
   "source": [
    "def second_largest(lst):\n",
    "    lst.sort(reverse=True)\n",
    "    return lst[1]\n",
    "second_largest(my_list)"
   ]
  },
  {
   "cell_type": "code",
   "execution_count": 20,
   "id": "1df4dd4f-29a3-4daa-935b-db7dc041d758",
   "metadata": {},
   "outputs": [
    {
     "name": "stdout",
     "output_type": "stream",
     "text": [
      "[4, 16, 36, 64, 100]\n"
     ]
    }
   ],
   "source": [
    "# 36. Replace every element in a list with its square.\n",
    "my_list = [2,4,6,8,10]\n",
    "square_list = [x**2 for x in my_list]\n",
    "print(square_list)"
   ]
  },
  {
   "cell_type": "code",
   "execution_count": 25,
   "id": "57611d99-c39f-4f65-a1d8-0ff8132825ba",
   "metadata": {},
   "outputs": [
    {
     "name": "stdout",
     "output_type": "stream",
     "text": [
      "{'apple': 0, 'banana': 1, 'cherry': 2, 'date': 3, 'elderberry': 4}\n"
     ]
    }
   ],
   "source": [
    "#37. Convert a list to a dictionary where list elements become keys and their \n",
    "#indices become values.\n",
    "list_ = ['apple', 'banana', 'cherry', 'date', 'elderberry']\n",
    "dict_ = {listt[i]: i for i in range(len(list_))}\n",
    "print(dict_)"
   ]
  },
  {
   "cell_type": "code",
   "execution_count": 30,
   "id": "6a1716cc-f93d-40bc-bd48-4f8e0a04b661",
   "metadata": {},
   "outputs": [
    {
     "name": "stdout",
     "output_type": "stream",
     "text": [
      "[8, 10, 6, 3, 9, 7, 4, 5, 2, 1]\n"
     ]
    }
   ],
   "source": [
    "# 38. Shuffle the elements of a list randomly.\n",
    "import random\n",
    "my_list = [1,2,3,4,5,6,7,8,9,10]\n",
    "random.shuffle(my_list)\n",
    "print(my_list)"
   ]
  },
  {
   "cell_type": "code",
   "execution_count": 31,
   "id": "069df450-b419-43bd-b9f8-8a2991f93f6f",
   "metadata": {},
   "outputs": [
    {
     "name": "stdout",
     "output_type": "stream",
     "text": [
      "[1, 1, 2, 6, 24, 120, 720, 5040, 40320, 362880]\n"
     ]
    }
   ],
   "source": [
    "# 39. Create a list of the first 10 factorial numbers.\n",
    "import math\n",
    "fact = [math.factorial(n) for n in range(10)]\n",
    "print(fact)"
   ]
  },
  {
   "cell_type": "code",
   "execution_count": 36,
   "id": "165e4d0a-80e1-428b-a75b-0394b262f070",
   "metadata": {},
   "outputs": [
    {
     "name": "stdout",
     "output_type": "stream",
     "text": [
      "there is common element in the two list :\n"
     ]
    }
   ],
   "source": [
    "#40. Check if two lists have at least one element in common.\n",
    "list1 = [10, 20, 30, 40, 50]\n",
    "list2 = [30, 40, 50, 60, 70]\n",
    "def check_common_list(list1,list2):\n",
    "    for i in list1:\n",
    "        if i in list2:\n",
    "            return True\n",
    "    return False\n",
    "if check_common_list(list1,list2):\n",
    "    print(\"there is common element in the two list :\")\n",
    "else:\n",
    "    print(\"there is no common element in the rwo list :\")\n",
    "    "
   ]
  },
  {
   "cell_type": "code",
   "execution_count": 39,
   "id": "cdc2e8b8-f316-43b5-854e-c5843c868b79",
   "metadata": {},
   "outputs": [
    {
     "name": "stdout",
     "output_type": "stream",
     "text": [
      " Remove all elements from a list : []\n"
     ]
    }
   ],
   "source": [
    "# 41. Remove all elements from a list.\n",
    "my_list = [1,2,3,4,5,6,7]\n",
    "remove = my_list.clear()\n",
    "print(\" Remove all elements from a list :\",my_list)"
   ]
  },
  {
   "cell_type": "code",
   "execution_count": 41,
   "id": "944aa373-86e0-4c59-8902-2e58abaabf5a",
   "metadata": {},
   "outputs": [
    {
     "name": "stdout",
     "output_type": "stream",
     "text": [
      "[10, 0, 0, 7, 5, 8, 6]\n"
     ]
    }
   ],
   "source": [
    "#42. Replace negative numbers in a list with 0.\n",
    "my_list = [10,-5,-4,7,5,8,9-3]\n",
    "for i in range(len(my_list)):\n",
    "    if my_list[i] < 0:\n",
    "        my_list[i] = 0\n",
    "print(my_list)"
   ]
  },
  {
   "cell_type": "code",
   "execution_count": 42,
   "id": "2b503ec4-c422-42d2-bf35-0fe4b1d570ef",
   "metadata": {},
   "outputs": [
    {
     "name": "stdout",
     "output_type": "stream",
     "text": [
      "['Hello,', 'this', 'is', 'a', 'sample', 'sentence.']\n"
     ]
    }
   ],
   "source": [
    "my_string = \"Hello, this is a sample sentence.\"\n",
    "word_list = my_string.split()\n",
    "print(word_list)"
   ]
  },
  {
   "cell_type": "code",
   "execution_count": 43,
   "id": "885ec295-c5c9-4ef8-b3ca-5841426a5b85",
   "metadata": {},
   "outputs": [
    {
     "data": {
      "text/plain": [
       "['Hello,', 'this', 'is', 'a', 'sample', 'sentence.']"
      ]
     },
     "execution_count": 43,
     "metadata": {},
     "output_type": "execute_result"
    }
   ],
   "source": [
    "#44. Convert a list of words into a string.\n",
    "word_list"
   ]
  },
  {
   "cell_type": "code",
   "execution_count": 46,
   "id": "5832ac53-80e5-40fa-96c9-5f3e2c318fe6",
   "metadata": {},
   "outputs": [
    {
     "name": "stdout",
     "output_type": "stream",
     "text": [
      "Hello, this is a sample sentence.\n"
     ]
    }
   ],
   "source": [
    "str_list = \" \".join(word_list)\n",
    "print(str_list)"
   ]
  },
  {
   "cell_type": "code",
   "execution_count": 48,
   "id": "660af2f2-db3b-4691-be7e-963ad76a0357",
   "metadata": {},
   "outputs": [
    {
     "name": "stdout",
     "output_type": "stream",
     "text": [
      "[0, 1, 4, 9, 16]\n"
     ]
    }
   ],
   "source": [
    "#45. Create a list of the first `n` powers of 2.\n",
    "pow_list = [i**2 for i in range(5)]\n",
    "print(pow_list)"
   ]
  },
  {
   "cell_type": "code",
   "execution_count": 51,
   "id": "82b76fde-9e82-41e5-b231-a822bd28e715",
   "metadata": {},
   "outputs": [
    {
     "name": "stdout",
     "output_type": "stream",
     "text": [
      "elderberry\n"
     ]
    }
   ],
   "source": [
    "#46. Find the longest string in a list of strings.\n",
    "string_list = [\"apple\", \"banana\", \"cherry\", \"date\", \"elderberry\"]\n",
    "longest_str = \"\"\n",
    "for i in string_list:\n",
    "    if len(i) > len(longest_str):\n",
    "        longest_str = i\n",
    "print(longest_str)\n",
    "    "
   ]
  },
  {
   "cell_type": "code",
   "execution_count": 55,
   "id": "39796fe8-eab7-4cef-865d-5bf01f7016bc",
   "metadata": {},
   "outputs": [
    {
     "name": "stdout",
     "output_type": "stream",
     "text": [
      "date\n"
     ]
    }
   ],
   "source": [
    "#47. Find the shortest string in a list of strings.\n",
    "string_list = [\"apple\", \"banana\", \"cherry\", \"date\", \"elderberry\"]\n",
    "shortest_str = string_list[0]\n",
    "for i in string_list:\n",
    "    if len(shortest_str)>len(i):\n",
    "        shortest_str = i\n",
    "print(shortest_str)"
   ]
  },
  {
   "cell_type": "code",
   "execution_count": 57,
   "id": "9734238d-0fd2-4c10-a999-6cf42465de11",
   "metadata": {},
   "outputs": [
    {
     "name": "stdout",
     "output_type": "stream",
     "text": [
      "[1, 3, 6, 10, 15]\n"
     ]
    }
   ],
   "source": [
    "# 48. Create a list of the first `n` triangular numbers.\n",
    "def triangular_numbers(n):\n",
    "    return [(i * (i + 1)) // 2 for i in range(1, n + 1)]\n",
    "n = 5 \n",
    "tri_list = triangular_numbers(n)\n",
    "print(tri_list)"
   ]
  },
  {
   "cell_type": "code",
   "execution_count": 58,
   "id": "5cbfcc68-21ae-4c9a-8e3b-ac379e16f7d7",
   "metadata": {},
   "outputs": [
    {
     "name": "stdout",
     "output_type": "stream",
     "text": [
      "Main list contains the subsequence.\n"
     ]
    }
   ],
   "source": [
    "#49. Check if a list contains another list as a subsequence.\n",
    "def is_subsequence(subsequence, main_list):\n",
    "    subseq_index = 0  \n",
    "    for element in main_list:\n",
    "        if element == subsequence[subseq_index]:\n",
    "            subseq_index += 1\n",
    "            if subseq_index == len(subsequence):\n",
    "                return True\n",
    "    return False\n",
    "\n",
    "\n",
    "main_list = [1, 2, 3, 4, 5, 6, 7, 8, 9, 10]\n",
    "subsequence = [3, 5, 8]\n",
    "\n",
    "\n",
    "if is_subsequence(subsequence, main_list):\n",
    "    print(\"Main list contains the subsequence.\")\n",
    "else:\n",
    "    print(\"Main list does not contain the subsequence.\")"
   ]
  },
  {
   "cell_type": "code",
   "execution_count": 59,
   "id": "a583af3f-0cd8-47f1-8d08-11ac80d7eb7b",
   "metadata": {},
   "outputs": [
    {
     "name": "stdout",
     "output_type": "stream",
     "text": [
      "List after swapping elements: [1, 4, 3, 2, 5]\n"
     ]
    }
   ],
   "source": [
    "# 50. Swap two elements in a list by their indices.\n",
    "my_list = [1, 2, 3, 4, 5]\n",
    "\n",
    "\n",
    "index1 = 1\n",
    "index2 = 3\n",
    "\n",
    "\n",
    "temp = my_list[index1]\n",
    "my_list[index1] = my_list[index2]\n",
    "my_list[index2] = temp\n",
    "\n",
    "\n",
    "print(\"List after swapping elements:\", my_list)"
   ]
  },
  {
   "cell_type": "markdown",
   "id": "77fe66b1-da99-4321-8a48-ddecf50a7315",
   "metadata": {},
   "source": [
    "Tuple Based Practice Problem :"
   ]
  },
  {
   "cell_type": "code",
   "execution_count": 60,
   "id": "3ffbfacd-181c-4dc0-a84e-bc06aa3ebd12",
   "metadata": {},
   "outputs": [
    {
     "data": {
      "text/plain": [
       "(1, 2, 3, 4, 5)"
      ]
     },
     "execution_count": 60,
     "metadata": {},
     "output_type": "execute_result"
    }
   ],
   "source": [
    "# 1. Create a tuple with integers from 1 to 5.\n",
    "tuple(range(1,6))"
   ]
  },
  {
   "cell_type": "code",
   "execution_count": 63,
   "id": "bef9918b-22df-4272-9e2b-ecbf164238e6",
   "metadata": {},
   "outputs": [
    {
     "name": "stdout",
     "output_type": "stream",
     "text": [
      "3\n"
     ]
    }
   ],
   "source": [
    "# 2. Access the third element of a tuple.\n",
    "Tuple = tuple(range(1,10))\n",
    "third_element = Tuple[2]\n",
    "print(third_element)"
   ]
  },
  {
   "cell_type": "code",
   "execution_count": 65,
   "id": "19273874-6cb2-4597-82a8-1b13db5eb74b",
   "metadata": {},
   "outputs": [
    {
     "name": "stdout",
     "output_type": "stream",
     "text": [
      "9\n"
     ]
    }
   ],
   "source": [
    "# 3. Find the length of a tuple without using the `len()` function.\n",
    "Tuple = tuple(range(1,10))\n",
    "count = 0\n",
    "for i in Tuple:\n",
    "    count = count+1\n",
    "print(count)"
   ]
  },
  {
   "cell_type": "code",
   "execution_count": 66,
   "id": "740f0890-17a2-4f57-ae57-f1ce92b9c064",
   "metadata": {},
   "outputs": [
    {
     "data": {
      "text/plain": [
       "3"
      ]
     },
     "execution_count": 66,
     "metadata": {},
     "output_type": "execute_result"
    }
   ],
   "source": [
    "#4. Count the occurrences of an element in a tuple.\n",
    "my_tuple = (10, 20, 30, 20, 40, 50, 20)\n",
    "my_tuple.count(20)"
   ]
  },
  {
   "cell_type": "code",
   "execution_count": 69,
   "id": "635b4cda-2871-481b-a9bd-e4c7d394cd6e",
   "metadata": {},
   "outputs": [
    {
     "data": {
      "text/plain": [
       "0"
      ]
     },
     "execution_count": 69,
     "metadata": {},
     "output_type": "execute_result"
    }
   ],
   "source": [
    "# 5. Find the index of the first occurrence of an element in a tuple.\n",
    "my_tuple = (10, 20, 30, 20, 40, 50, 20)\n",
    "my_tuple.index(10)"
   ]
  },
  {
   "cell_type": "code",
   "execution_count": 74,
   "id": "710d084d-8637-44f4-a5ff-728a2b6b11ec",
   "metadata": {},
   "outputs": [
    {
     "name": "stdout",
     "output_type": "stream",
     "text": [
      "this element exists in my_tuple\n"
     ]
    }
   ],
   "source": [
    "# 6. Check if an element exists in a tuple.\n",
    "my_tuple = (10, 20, 30, 20, 40, 50, 20)\n",
    "my_element = 20\n",
    "if my_element in my_tuple:\n",
    "    print(\"this element exists in my_tuple\")\n",
    "else:\n",
    "    print(\"this element not exists in my_tuple\")"
   ]
  },
  {
   "cell_type": "code",
   "execution_count": 75,
   "id": "e2b31f86-1463-4f4f-a0f5-6748c1a40b8e",
   "metadata": {},
   "outputs": [
    {
     "data": {
      "text/plain": [
       "[10, 20, 30, 20, 40, 50, 20]"
      ]
     },
     "execution_count": 75,
     "metadata": {},
     "output_type": "execute_result"
    }
   ],
   "source": [
    "#7. Convert a tuple to a list.\n",
    "my_tuple = (10, 20, 30, 20, 40, 50, 20)\n",
    "list(my_tuple)"
   ]
  },
  {
   "cell_type": "code",
   "execution_count": 76,
   "id": "201b1b13-9740-4bf6-84a8-568f14844246",
   "metadata": {},
   "outputs": [
    {
     "data": {
      "text/plain": [
       "(1, 2, 3, 4, 5, 6, 7, 8, 9)"
      ]
     },
     "execution_count": 76,
     "metadata": {},
     "output_type": "execute_result"
    }
   ],
   "source": [
    "#8. Convert a list to a tuple.\n",
    "List = [1,2,3,4,5,6,7,8,9]\n",
    "tuple(List)\n"
   ]
  },
  {
   "cell_type": "code",
   "execution_count": 77,
   "id": "5c361d12-df93-48b9-8272-e0cf3b2655c5",
   "metadata": {},
   "outputs": [
    {
     "name": "stdout",
     "output_type": "stream",
     "text": [
      "var1: 10\n",
      "var2: 20\n",
      "var3: 30\n"
     ]
    }
   ],
   "source": [
    "# 9. Unpack the elements of the tuple into variables\n",
    "\n",
    "my_tuple = (10, 20, 30)\n",
    "\n",
    "var1, var2, var3 = my_tuple\n",
    "\n",
    "\n",
    "print(\"var1:\", var1)\n",
    "print(\"var2:\", var2)\n",
    "print(\"var3:\", var3)"
   ]
  },
  {
   "cell_type": "code",
   "execution_count": 87,
   "id": "9a83b0b1-f769-467f-b8aa-7c8f776c8764",
   "metadata": {},
   "outputs": [
    {
     "name": "stdout",
     "output_type": "stream",
     "text": [
      "(2, 4, 6, 8, 10)\n"
     ]
    }
   ],
   "source": [
    "# 10. Create a tuple of even numbers from 1 to 10.\n",
    "Tuple = tuple(range(1,11))\n",
    "List = []\n",
    "for i in Tuple:\n",
    "    if i%2 == 0 :\n",
    "        List.append(i)\n",
    "        tuple2 = tuple(List)\n",
    "print(tuple2)\n",
    "        \n",
    "        "
   ]
  },
  {
   "cell_type": "code",
   "execution_count": 89,
   "id": "f4f70a8b-0875-4a85-9e33-d8fe39206504",
   "metadata": {},
   "outputs": [
    {
     "name": "stdout",
     "output_type": "stream",
     "text": [
      "(1, 3, 5, 7, 9)\n"
     ]
    }
   ],
   "source": [
    "#11. Create a tuple of odd numbers from 1 to 10.\n",
    "Tuple = tuple(range(1,11))\n",
    "list_ = []\n",
    "for i in Tuple:\n",
    "    if i%2 != 0:\n",
    "        list_.append(i)\n",
    "        Tuple_odd = tuple(list_)\n",
    "print(Tuple_odd)\n"
   ]
  },
  {
   "cell_type": "code",
   "execution_count": 90,
   "id": "acb1a042-91de-4220-a68e-5ec2c2ea5389",
   "metadata": {},
   "outputs": [
    {
     "name": "stdout",
     "output_type": "stream",
     "text": [
      "(1, 2, 3, 4, 5, 6)\n"
     ]
    }
   ],
   "source": [
    " #12. Concatenate two tuples.\n",
    "tuple1 = (1,2,3)\n",
    "tuple2 = (4,5,6)\n",
    "concatenate = tuple1+tuple2\n",
    "print(concatenate)"
   ]
  },
  {
   "cell_type": "code",
   "execution_count": 95,
   "id": "893347e1-e717-4e82-be23-c8f315124147",
   "metadata": {},
   "outputs": [
    {
     "name": "stdout",
     "output_type": "stream",
     "text": [
      "(1, 2, 3, 4, 5, 6, 1, 2, 3, 4, 5, 6, 1, 2, 3, 4, 5, 6)\n"
     ]
    }
   ],
   "source": [
    "#13. Repeat a tuple three times.\n",
    "Tuple = (1,2,3,4,5,6)\n",
    "tuple_3_times = Tuple * 3\n",
    "print(tuple_3_times)"
   ]
  },
  {
   "cell_type": "code",
   "execution_count": 97,
   "id": "b86c508f-8361-4b5d-9e66-a32cf0a5fb29",
   "metadata": {},
   "outputs": [
    {
     "name": "stdout",
     "output_type": "stream",
     "text": [
      "empty tuple\n",
      "non empty tuple\n"
     ]
    }
   ],
   "source": [
    "#14. Check if a tuple is empty.\n",
    "empty_tuple = ()\n",
    "tuple_ = (4,5,6)\n",
    "if not empty_tuple:\n",
    "    print(\"empty tuple\")\n",
    "else:\n",
    "    print(\"non empty tuple\")\n",
    "if  not tuple_ :\n",
    "    print(\"empty tuple\")\n",
    "else:\n",
    "    print(\"non empty tuple\")"
   ]
  },
  {
   "cell_type": "code",
   "execution_count": 98,
   "id": "70deef37-5d88-47f2-935b-4aa31d6b17eb",
   "metadata": {},
   "outputs": [
    {
     "name": "stdout",
     "output_type": "stream",
     "text": [
      "((1, 2, 3), ('a', 'b', 'c'), (True, False))\n"
     ]
    }
   ],
   "source": [
    "# 15. Create a nested tuple.\n",
    "nested_tuple = ((1,2,3),('a','b','c'),(True,False))\n",
    "print(nested_tuple)"
   ]
  },
  {
   "cell_type": "code",
   "execution_count": 100,
   "id": "cac29849-972f-422c-9e71-0fa07bcf70fe",
   "metadata": {},
   "outputs": [
    {
     "data": {
      "text/plain": [
       "(1, 2, 3)"
      ]
     },
     "execution_count": 100,
     "metadata": {},
     "output_type": "execute_result"
    }
   ],
   "source": [
    "#16. Access the first element of a nested tuple.\n",
    "nested_tuple = ((1,2,3),('a','b','c'),(True,False))\n",
    "nested_tuple[0]"
   ]
  },
  {
   "cell_type": "code",
   "execution_count": 101,
   "id": "5102d332-0663-411b-bd83-1d9df1fb23eb",
   "metadata": {},
   "outputs": [
    {
     "name": "stdout",
     "output_type": "stream",
     "text": [
      "(11,)\n"
     ]
    }
   ],
   "source": [
    "# 17. Create a tuple with a single element.\n",
    "Tuple_single = (11,)\n",
    "print(Tuple_single)"
   ]
  },
  {
   "cell_type": "code",
   "execution_count": 104,
   "id": "9ad8b0d5-3acc-48d5-a925-ae1082c8e4eb",
   "metadata": {},
   "outputs": [
    {
     "name": "stdout",
     "output_type": "stream",
     "text": [
      "False\n",
      "False\n",
      "True\n",
      "True\n",
      "False\n",
      "True\n"
     ]
    }
   ],
   "source": [
    "#18. Compare two tuples.\n",
    "tuple1 = (1,2,3)\n",
    "tuple2 = (4,5,6)\n",
    "print(tuple1 == tuple2)\n",
    "print(tuple1 > tuple2)\n",
    "print(tuple1 < tuple2)\n",
    "print(tuple1 <= tuple2)\n",
    "print(tuple1 >= tuple2)\n",
    "print(tuple1 != tuple2)"
   ]
  },
  {
   "cell_type": "code",
   "execution_count": 110,
   "id": "e1ac0688-f040-4d04-8741-c1cd11ca8100",
   "metadata": {},
   "outputs": [],
   "source": [
    " #19. Delete a tuple.\n",
    "Tuple = (1,2,3,4,5)\n",
    "del Tuple"
   ]
  },
  {
   "cell_type": "code",
   "execution_count": 111,
   "id": "972c01db-b7b3-4dc6-908e-a5cb3a8aa481",
   "metadata": {},
   "outputs": [
    {
     "ename": "NameError",
     "evalue": "name 'Tuple' is not defined",
     "output_type": "error",
     "traceback": [
      "\u001b[0;31m---------------------------------------------------------------------------\u001b[0m",
      "\u001b[0;31mNameError\u001b[0m                                 Traceback (most recent call last)",
      "Cell \u001b[0;32mIn[111], line 1\u001b[0m\n\u001b[0;32m----> 1\u001b[0m \u001b[43mTuple\u001b[49m\u001b[38;5;241m.\u001b[39mclear()\n",
      "\u001b[0;31mNameError\u001b[0m: name 'Tuple' is not defined"
     ]
    }
   ],
   "source": [
    "Tuple.clear()"
   ]
  },
  {
   "cell_type": "code",
   "execution_count": 112,
   "id": "6891806d-c6b8-40c2-b73f-ce416b2ae6ab",
   "metadata": {},
   "outputs": [
    {
     "ename": "NameError",
     "evalue": "name 'Tuple' is not defined",
     "output_type": "error",
     "traceback": [
      "\u001b[0;31m---------------------------------------------------------------------------\u001b[0m",
      "\u001b[0;31mNameError\u001b[0m                                 Traceback (most recent call last)",
      "Cell \u001b[0;32mIn[112], line 1\u001b[0m\n\u001b[0;32m----> 1\u001b[0m \u001b[43mTuple\u001b[49m\n",
      "\u001b[0;31mNameError\u001b[0m: name 'Tuple' is not defined"
     ]
    }
   ],
   "source": [
    "Tuple"
   ]
  },
  {
   "cell_type": "code",
   "execution_count": 113,
   "id": "0a1fdc73-f5ec-4203-ac35-ab408e0888d5",
   "metadata": {},
   "outputs": [
    {
     "data": {
      "text/plain": [
       "(3, 4, 5)"
      ]
     },
     "execution_count": 113,
     "metadata": {},
     "output_type": "execute_result"
    }
   ],
   "source": [
    "# 20. Slice a tuple.\n",
    "Tuple = (1,2,3,4,5)\n",
    "Tuple[2:5]\n"
   ]
  },
  {
   "cell_type": "code",
   "execution_count": 114,
   "id": "3e492cb3-6b18-42cf-82c5-2d638fc9fac4",
   "metadata": {},
   "outputs": [
    {
     "data": {
      "text/plain": [
       "5"
      ]
     },
     "execution_count": 114,
     "metadata": {},
     "output_type": "execute_result"
    }
   ],
   "source": [
    "# 21. Find the maximum value in a tuple.\n",
    "Tuple = (1,2,3,4,5)\n",
    "max(Tuple)"
   ]
  },
  {
   "cell_type": "code",
   "execution_count": 115,
   "id": "df8ded19-e40c-4770-a948-339f42020a4e",
   "metadata": {},
   "outputs": [
    {
     "data": {
      "text/plain": [
       "1"
      ]
     },
     "execution_count": 115,
     "metadata": {},
     "output_type": "execute_result"
    }
   ],
   "source": [
    "# 22. Find the minimum value in a tuple.\n",
    "min(Tuple)"
   ]
  },
  {
   "cell_type": "code",
   "execution_count": 116,
   "id": "0b818de4-26a4-405e-b87c-4538e7ad842e",
   "metadata": {},
   "outputs": [
    {
     "data": {
      "text/plain": [
       "('h', 'e', 'l', 'l', 'o', ' ', 'w', 'o', 'r', 'l', 'd')"
      ]
     },
     "execution_count": 116,
     "metadata": {},
     "output_type": "execute_result"
    }
   ],
   "source": [
    "#23. Convert a string to a tuple of characters.\n",
    "my_string = \"hello world\"\n",
    "tuple(my_string)"
   ]
  },
  {
   "cell_type": "code",
   "execution_count": 121,
   "id": "ed4ee0ba-5bc7-4e84-8ab9-7b09df2ebe21",
   "metadata": {},
   "outputs": [
    {
     "data": {
      "text/plain": [
       "'iamrahul'"
      ]
     },
     "execution_count": 121,
     "metadata": {},
     "output_type": "execute_result"
    }
   ],
   "source": [
    "#24. Convert a tuple of characters to a string.\n",
    "tuple_ = (\"i\",\"a\",\"m\",\"r\",\"a\",\"h\",\"u\",\"l\")\n",
    "\"\".join(tuple_)"
   ]
  },
  {
   "cell_type": "code",
   "execution_count": 122,
   "id": "08661e22-2e21-45ca-b96b-d90976255bfb",
   "metadata": {},
   "outputs": [
    {
     "name": "stdout",
     "output_type": "stream",
     "text": [
      "(123, 'rahul', True, 3.14)\n"
     ]
    }
   ],
   "source": [
    "# 25. Create a tuple from multiple data types.\n",
    "Tuple_mul_data_type = (123 , \"rahul\", True , 3.14)\n",
    "print(Tuple_mul_data_type)"
   ]
  },
  {
   "cell_type": "code",
   "execution_count": 123,
   "id": "80b19384-a76a-41d7-a225-f64662217687",
   "metadata": {},
   "outputs": [
    {
     "name": "stdout",
     "output_type": "stream",
     "text": [
      "False\n",
      "False\n",
      "True\n"
     ]
    }
   ],
   "source": [
    "# 26. Check if two tuples are identical.\n",
    "tuple1 = (1,2,3)\n",
    "tuple2 = (4,5,6)\n",
    "tuple3 = (1,2,3)\n",
    "are_identical1 = tuple1 == tuple2\n",
    "are_identical2 = tuple2 == tuple3\n",
    "are_identical3 = tuple1 == tuple3\n",
    "print(are_identical1)\n",
    "print(are_identical2)\n",
    "print(are_identical3)\n"
   ]
  },
  {
   "cell_type": "code",
   "execution_count": 124,
   "id": "84609a54-68ed-41b7-b662-865f9627d232",
   "metadata": {},
   "outputs": [
    {
     "data": {
      "text/plain": [
       "[10, 12, 25, 30, 33, 45, 51, 56, 65, 76, 78]"
      ]
     },
     "execution_count": 124,
     "metadata": {},
     "output_type": "execute_result"
    }
   ],
   "source": [
    " #27. Sort the elements of a tuple.\n",
    "my_tuple = (56,78,25,76,45,51,10,65,33,30,12)\n",
    "sorted(my_tuple)"
   ]
  },
  {
   "cell_type": "code",
   "execution_count": 5,
   "id": "2d0ee829-6819-4433-af19-fcf6503dc08e",
   "metadata": {},
   "outputs": [
    {
     "name": "stdout",
     "output_type": "stream",
     "text": [
      "('56', '78', '25', '76', '45', '51', '10', '65', '33', '30', '12')\n"
     ]
    }
   ],
   "source": [
    "# 28. Convert a tuple of integers to a tuple of strings.\n",
    "my_tuple = (56,78,25,76,45,51,10,65,33,30,12)\n",
    "str_convt = tuple(str(i) for i in my_tuple)\n",
    "print(str_convt)"
   ]
  },
  {
   "cell_type": "code",
   "execution_count": 9,
   "id": "69976f5c-1691-4e6c-a43e-b9b0e0bfd3b4",
   "metadata": {},
   "outputs": [
    {
     "name": "stdout",
     "output_type": "stream",
     "text": [
      "(56, 78, 25, 76, 45, 51, 10, 65, 33, 30, 12)\n"
     ]
    }
   ],
   "source": [
    "#29. Convert a tuple of strings to a tuple of integers.\n",
    "my_str = ('56', '78', '25', '76', '45', '51', '10', '65', '33', '30', '12')\n",
    "Tuple_convt = tuple(int(i) for i in my_str)\n",
    "print(Tuple_convt)"
   ]
  },
  {
   "cell_type": "code",
   "execution_count": 11,
   "id": "6e45f54f-c2cd-421f-bd08-ecc9ed146790",
   "metadata": {},
   "outputs": [
    {
     "name": "stdout",
     "output_type": "stream",
     "text": [
      "(1, 2, 3, 4, 5, 6)\n"
     ]
    }
   ],
   "source": [
    "# 30. Merge two tuples.\n",
    "tuple1 = (1,2,3)\n",
    "tuple2 = (4,5,6)\n",
    "merge_tuple = tuple1 + tuple2\n",
    "print(merge_tuple)"
   ]
  },
  {
   "cell_type": "code",
   "execution_count": 12,
   "id": "44c9a173-a75c-4b72-a709-907536db2233",
   "metadata": {},
   "outputs": [],
   "source": [
    "# 31. Flatten a nested tuple.\n",
    "nested_tuple = ((1, 2), (3, 4, 5), (6, (7, 8)))\n",
    "def flatten_tuple(nested_tuple):\n",
    "    flattened =[]\n",
    "    for i in nested_tuple:\n",
    "        if isinstance(i,tuple):\n",
    "              flattened.extend(flatten_tuple(i))\n",
    "        else:\n",
    "            flattened.append(i)\n",
    "    return flattened"
   ]
  },
  {
   "cell_type": "code",
   "execution_count": 15,
   "id": "184ba53d-3e74-4e78-b636-0ed9b4bb4f0d",
   "metadata": {},
   "outputs": [
    {
     "name": "stdout",
     "output_type": "stream",
     "text": [
      "(1, 2, 3, 4, 5, 6, 7, 8)\n"
     ]
    }
   ],
   "source": [
    "convt_tuple = tuple(flatten_tuple(nested_tuple))\n",
    "print(convt_tuple)"
   ]
  },
  {
   "cell_type": "code",
   "execution_count": 16,
   "id": "7cfd3133-363d-456d-bc7b-7c6efc05d06c",
   "metadata": {},
   "outputs": [
    {
     "name": "stdout",
     "output_type": "stream",
     "text": [
      "[2, 3, 5, 7, 11]\n"
     ]
    }
   ],
   "source": [
    "#32. Create a tuple of the first 5 prime numbers.\n",
    "def is_prime(num):\n",
    "    if num <= 1:\n",
    "        return False\n",
    "    for i in range(2, int(num ** 0.5) + 1):\n",
    "        if num % i == 0:\n",
    "            return False\n",
    "    return True\n",
    "prime_num = [num for num in range(2,100) if is_prime(num)][:5]\n",
    "print(prime_num)"
   ]
  },
  {
   "cell_type": "code",
   "execution_count": 19,
   "id": "644aaf1a-2118-49bb-b722-381d2b85c9b8",
   "metadata": {},
   "outputs": [
    {
     "name": "stdout",
     "output_type": "stream",
     "text": [
      "this is a palindrome number : True\n",
      "this is not a able to palidrome number : False\n"
     ]
    }
   ],
   "source": [
    "#33. Check if a tuple is a palindrome.\n",
    "def is_palindrome(Tuple):\n",
    "    return Tuple ==  Tuple[::-1]\n",
    "plaindrome_num = (1,2,2,1)\n",
    "non_plaindrome_num = (4,5,6,7)\n",
    "palindrome1 = is_palindrome(plaindrome_num)\n",
    "palindrome2 = is_palindrome(non_plaindrome_num)\n",
    "print(\"this is a palindrome number :\",palindrome1)\n",
    "print(\"this is not a able to palidrome number :\",palindrome2)\n"
   ]
  },
  {
   "cell_type": "code",
   "execution_count": 23,
   "id": "28731ebf-2775-49f0-8f56-c368fe20e1bd",
   "metadata": {},
   "outputs": [
    {
     "name": "stdout",
     "output_type": "stream",
     "text": [
      "(1, 4, 9, 16, 25)\n"
     ]
    }
   ],
   "source": [
    "# 34. Create a tuple of squares of numbers from 1 to 5.\n",
    "squares_num = [i**2 for i in range(1,6)]\n",
    "tuple_squares = tuple(squares_num)\n",
    "print(tuple_squares)"
   ]
  },
  {
   "cell_type": "code",
   "execution_count": 33,
   "id": "055eb1f8-c7d4-454c-a720-f31922411f41",
   "metadata": {},
   "outputs": [
    {
     "name": "stdout",
     "output_type": "stream",
     "text": [
      "(1, 3, 5, 7, 9)\n"
     ]
    }
   ],
   "source": [
    "#35. Filter out all even numbers from a tuple.\n",
    "original_tuple = (1, 2, 3, 4, 5, 6, 7, 8, 9, 10)\n",
    "filter_tup = tuple(i for i in original_tuple if i%2 != 0)\n",
    "print(filter_tup)"
   ]
  },
  {
   "cell_type": "code",
   "execution_count": 36,
   "id": "878d55c9-158b-456c-bfc0-bd4c6ed0cdc0",
   "metadata": {},
   "outputs": [
    {
     "name": "stdout",
     "output_type": "stream",
     "text": [
      "(2, 4, 6, 8, 10, 12, 14, 16)\n"
     ]
    }
   ],
   "source": [
    "#36. Multiply all elements in a tuple by 2.\n",
    "tuple1 = (1,2,3,4,5,6,7,8)\n",
    "mul_element = tuple(i*2 for i in tuple1 )\n",
    "print(mul_element)"
   ]
  },
  {
   "cell_type": "code",
   "execution_count": 37,
   "id": "777d57de-bc0c-4c96-9382-e3f42ed9d3f0",
   "metadata": {},
   "outputs": [
    {
     "name": "stdout",
     "output_type": "stream",
     "text": [
      "(10, 47, 25, 15, 76, 47, 13, 25, 18, 49)\n"
     ]
    }
   ],
   "source": [
    "#37. Create a tuple of random numbers.\n",
    "import random \n",
    "random_tuple = tuple(random.randint(1,100) for i in range(10))\n",
    "print(random_tuple)"
   ]
  },
  {
   "cell_type": "code",
   "execution_count": 38,
   "id": "7af2f8b1-fb8e-443d-b492-1bd58a54584c",
   "metadata": {},
   "outputs": [
    {
     "name": "stdout",
     "output_type": "stream",
     "text": [
      "sorted_tuple is sorted: True\n",
      "unsorted_tuple is sorted: False\n"
     ]
    }
   ],
   "source": [
    "def is_sorted(tup):\n",
    "    for i in range(len(tup) - 1):\n",
    "        if tup[i] > tup[i + 1]:\n",
    "            return False\n",
    "    return True\n",
    "\n",
    "# Create tuples for testing\n",
    "sorted_tuple = (1, 2, 3, 4, 5)\n",
    "unsorted_tuple = (5, 3, 1, 4, 2)\n",
    "\n",
    "# Check if the tuples are sorted\n",
    "is_sorted1 = is_sorted(sorted_tuple)\n",
    "is_sorted2 = is_sorted(unsorted_tuple)\n",
    "\n",
    "# Print the results\n",
    "print(\"sorted_tuple is sorted:\", is_sorted1)\n",
    "print(\"unsorted_tuple is sorted:\", is_sorted2)"
   ]
  },
  {
   "cell_type": "code",
   "execution_count": 39,
   "id": "cf6b3974-a9ab-45b6-9669-bc93ed200e9d",
   "metadata": {},
   "outputs": [
    {
     "name": "stdout",
     "output_type": "stream",
     "text": [
      "(3, 4, 5, 6, 1, 2)\n"
     ]
    }
   ],
   "source": [
    "#39. Rotate a tuple to the left by `n` positions.\n",
    "def left_rotate_tuple(tup , n):\n",
    "    n = n%len(tup)\n",
    "    rotate_tuple = tup[n:] + tup[:n]\n",
    "    return rotate_tuple \n",
    "my_tup = (1,2,3,4,5,6)\n",
    "n_position = 2\n",
    "res = left_rotate_tuple(my_tup , n_position)\n",
    "print(res)"
   ]
  },
  {
   "cell_type": "code",
   "execution_count": 42,
   "id": "1a545720-05ea-4d3c-927d-12f5a1340609",
   "metadata": {},
   "outputs": [
    {
     "name": "stdout",
     "output_type": "stream",
     "text": [
      "(4, 5, 6, 1, 2, 3)\n"
     ]
    }
   ],
   "source": [
    "#40. Rotate a tuple to the right by `n` positions.\n",
    "def rotate_right_tuple(tup,n):\n",
    "    n = n%len(tup)\n",
    "    rotate_rigth = tup[-n:]+tup[:-n]\n",
    "    return rotate_rigth\n",
    "my_tup = (1,2,3,4,5,6)\n",
    "n_position = 3\n",
    "result = left_rotate_tuple(my_tup , n_position)\n",
    "print(result)\n"
   ]
  },
  {
   "cell_type": "code",
   "execution_count": 65,
   "id": "fa17163a-c010-41b4-aaa4-3d0b20fdd0f1",
   "metadata": {},
   "outputs": [
    {
     "name": "stdout",
     "output_type": "stream",
     "text": [
      "(0, 1, 1, 2, 3)\n"
     ]
    }
   ],
   "source": [
    "#41. Create a tuple of the first 5 Fibonacci numbers.\n",
    "def fib(n):\n",
    "    fibn = [0, 1]\n",
    "    while len(fibn) < n:\n",
    "        next_num = fibn[-1] + fibn[-2]\n",
    "        fibn.append(next_num)\n",
    "    return  tuple(fibn)\n",
    "my_fib = fib(5)\n",
    "print(my_fib)"
   ]
  },
  {
   "cell_type": "code",
   "execution_count": 2,
   "id": "38e3e6ca-6368-4ff5-8553-b496ec889b22",
   "metadata": {},
   "outputs": [
    {
     "name": "stdin",
     "output_type": "stream",
     "text": [
      "enter your tuple pwskills\n"
     ]
    },
    {
     "name": "stdout",
     "output_type": "stream",
     "text": [
      "('p', 'w', 's', 'k', 'i', 'l', 'l', 's')\n"
     ]
    }
   ],
   "source": [
    "# 42. Create a tuple from user input.\n",
    "user_input = tuple(input(\"enter your tuple\"))\n",
    "print(user_input)"
   ]
  },
  {
   "cell_type": "code",
   "execution_count": 3,
   "id": "448a4837-df92-4bff-8cfb-e9f53c2c4d34",
   "metadata": {},
   "outputs": [
    {
     "name": "stdout",
     "output_type": "stream",
     "text": [
      "Swapped tuple: (1, 4, 3, 2, 5)\n"
     ]
    }
   ],
   "source": [
    "# 43. Swap two elements in a tuple.\n",
    "my_tuple = (1, 2, 3, 4, 5)\n",
    "\n",
    "# Swap elements at indices 1 and 3\n",
    "index1 = 1\n",
    "index2 = 3\n",
    "swapped_tuple = tuple(\n",
    "    my_tuple[i] if i not in (index1, index2) else\n",
    "    my_tuple[index2] if i == index1 else\n",
    "    my_tuple[index1]\n",
    "    for i in range(len(my_tuple))\n",
    ")\n",
    "\n",
    "# Print the swapped tuple\n",
    "print(\"Swapped tuple:\", swapped_tuple)"
   ]
  },
  {
   "cell_type": "code",
   "execution_count": 4,
   "id": "edfc119e-6b68-4535-a544-2470585875c2",
   "metadata": {},
   "outputs": [
    {
     "name": "stdout",
     "output_type": "stream",
     "text": [
      "(5, 4, 3, 2, 1)\n"
     ]
    }
   ],
   "source": [
    "#44. Reverse the elements of a tuple.\n",
    "my_tuple = (1, 2, 3, 4, 5)\n",
    "rev = my_tuple[::-1]\n",
    "print(rev)"
   ]
  },
  {
   "cell_type": "code",
   "execution_count": 6,
   "id": "f0f32768-3d5e-4ec1-a01e-a8952b0ea9ca",
   "metadata": {},
   "outputs": [
    {
     "name": "stdin",
     "output_type": "stream",
     "text": [
      "enter your number: 5\n"
     ]
    },
    {
     "name": "stdout",
     "output_type": "stream",
     "text": [
      "(1, 2, 4, 8, 16)\n"
     ]
    }
   ],
   "source": [
    "# 45. Create a tuple of the first `n` powers of 2.\n",
    "n = int(input(\"enter your number:\"))\n",
    "pow_tuple = tuple(2**i for i in range(n))\n",
    "print(pow_tuple)"
   ]
  },
  {
   "cell_type": "code",
   "execution_count": 18,
   "id": "4f1b5272-5718-4bab-8280-70af79f84cbf",
   "metadata": {},
   "outputs": [
    {
     "name": "stdout",
     "output_type": "stream",
     "text": [
      "The longest string in a tuple of strings : watermelon\n"
     ]
    }
   ],
   "source": [
    "#46. Find the longest string in a tuple of strings.\n",
    "string_tuple = (\"apple\", \"banana\", \"grape\", \"kiwi\", \"watermelon\")\n",
    "longest_string = string_tuple[0]\n",
    "for string in string_tuple:\n",
    "    if len(string) > len(longest_string):\n",
    "        longest_string = string\n",
    "print(\"The longest string in a tuple of strings :\",longest_string)"
   ]
  },
  {
   "cell_type": "code",
   "execution_count": 17,
   "id": "e194350d-77e9-471a-9a14-e03db246812a",
   "metadata": {},
   "outputs": [
    {
     "name": "stdout",
     "output_type": "stream",
     "text": [
      "kiwi\n"
     ]
    }
   ],
   "source": [
    "#47. Find the shortest string in a tuple of strings.\n",
    "string_tuple = (\"apple\", \"banana\", \"grape\", \"kiwi\", \"watermelon\")\n",
    "shortest_string = string_tuple[0]\n",
    "for string in string_tuple:\n",
    "     if len(string) < len(shortest_string):\n",
    "            shortest_string = string\n",
    "\n",
    "print(shortest_string)"
   ]
  },
  {
   "cell_type": "code",
   "execution_count": 21,
   "id": "23aa0023-a49b-4e40-a065-c3732db7fce5",
   "metadata": {},
   "outputs": [
    {
     "name": "stdin",
     "output_type": "stream",
     "text": [
      "enter the number: 5\n"
     ]
    },
    {
     "name": "stdout",
     "output_type": "stream",
     "text": [
      "(1, 3, 6, 10, 15)\n"
     ]
    }
   ],
   "source": [
    "#48. Create a tuple of the first `n` triangular numbers.\n",
    "n = int(input(\"enter the number:\"))\n",
    "triangular_num = tuple(i*(i+1)//2 for i in range(1,n+1))\n",
    "print(triangular_num)"
   ]
  },
  {
   "cell_type": "code",
   "execution_count": 25,
   "id": "f78e2eac-8d20-47ec-92ee-33961ae65218",
   "metadata": {},
   "outputs": [
    {
     "name": "stdout",
     "output_type": "stream",
     "text": [
      "Main tuple contains subsequence tuple: True\n"
     ]
    }
   ],
   "source": [
    "#49. Check if a tuple contains another tuple as a subsequence.\n",
    "def contains_subsequence(main_tuple, sub_tuple):\n",
    "    sub_length = len(sub_tuple)\n",
    "    for i in range(len(main_tuple) - sub_length + 1):\n",
    "        if main_tuple[i:i+sub_length] == sub_tuple:\n",
    "            return True\n",
    "    return False\n",
    "main_tuple = (1,2,3,4,5,6,7,8,9)\n",
    "sub_tuple = (4,5,6)\n",
    "contains_subseq = contains_subsequence(main_tuple, sub_tuple)\n",
    "print(\"Main tuple contains subsequence tuple:\", contains_subseq)"
   ]
  },
  {
   "cell_type": "code",
   "execution_count": 26,
   "id": "80d7280e-ca2a-4491-8b58-340995745dfd",
   "metadata": {},
   "outputs": [
    {
     "name": "stdout",
     "output_type": "stream",
     "text": [
      "Tuple of alternating 1s and 0s: (0, 1, 0, 1, 0, 1, 0, 1, 0, 1)\n"
     ]
    }
   ],
   "source": [
    "# 50. Create a tuple of alternating 1s and 0s of length `n`.\n",
    "n = 10\n",
    "\n",
    "# Create a tuple of alternating 1s and 0s using a list comprehension\n",
    "alternating_tuple = tuple(i % 2 for i in range(n))\n",
    "\n",
    "# Print the tuple of alternating 1s and 0s\n",
    "print(\"Tuple of alternating 1s and 0s:\", alternating_tuple)"
   ]
  },
  {
   "cell_type": "markdown",
   "id": "b56ad2ef-1bfc-4b90-90ca-76c82de9788e",
   "metadata": {},
   "source": [
    "Set Based Practice Problem :"
   ]
  },
  {
   "cell_type": "code",
   "execution_count": 27,
   "id": "76dc6787-1a12-4889-adcd-9f34cacb2f03",
   "metadata": {},
   "outputs": [
    {
     "data": {
      "text/plain": [
       "{1, 2, 3, 4, 5}"
      ]
     },
     "execution_count": 27,
     "metadata": {},
     "output_type": "execute_result"
    }
   ],
   "source": [
    "# 1. Create a set with integers from 1 to 5.\n",
    "set(range(1,6))"
   ]
  },
  {
   "cell_type": "code",
   "execution_count": 31,
   "id": "ecdc0650-3839-462d-b45f-4ae728e848fa",
   "metadata": {},
   "outputs": [
    {
     "name": "stdout",
     "output_type": "stream",
     "text": [
      "{1, 2, 3, 4, 5, 6}\n"
     ]
    }
   ],
   "source": [
    "# 2. Add an element to a set.\n",
    "Set = {1,2,3,4,5}\n",
    "add_element = 6\n",
    "Set.add(add_element)\n",
    "print(Set)"
   ]
  },
  {
   "cell_type": "code",
   "execution_count": 36,
   "id": "1333b3b0-2b89-4ae6-881b-f92da835c8b8",
   "metadata": {},
   "outputs": [
    {
     "name": "stdout",
     "output_type": "stream",
     "text": [
      "{1, 2, 3, 4, 5}\n"
     ]
    }
   ],
   "source": [
    "#3. Remove an element from a set.\n",
    "Set = {1, 2, 3, 4, 5, 6}\n",
    "Set.remove(6)\n",
    "print(Set)"
   ]
  },
  {
   "cell_type": "code",
   "execution_count": 40,
   "id": "044555ff-44c0-48a7-b659-b524d38ae80c",
   "metadata": {},
   "outputs": [
    {
     "name": "stdin",
     "output_type": "stream",
     "text": [
      "enter your element: 10\n"
     ]
    },
    {
     "name": "stdout",
     "output_type": "stream",
     "text": [
      "these are element does not exists in my_set \n"
     ]
    }
   ],
   "source": [
    "# 4. Check if an element exists in a set.\n",
    "my_set = {1, 2, 3, 4, 5, 6}\n",
    "exists_element = int(input(\"enter your element:\"))\n",
    "if exists_element in my_set:\n",
    "    print(\"these are element exists in my_set \")\n",
    "else:\n",
    "    print(\"these are element does not exists in my_set \")\n",
    "        "
   ]
  },
  {
   "cell_type": "code",
   "execution_count": 48,
   "id": "2e32b860-c953-499b-adb7-6c867db541ed",
   "metadata": {},
   "outputs": [
    {
     "name": "stdout",
     "output_type": "stream",
     "text": [
      "the length is :  5\n"
     ]
    }
   ],
   "source": [
    "#5. Find the length of a set without using the `len()` function.\n",
    "my_set = {1,2,3,4,5}\n",
    "count = 0\n",
    "for _ in my_set:\n",
    "    count +=1\n",
    "print(\"the length is : \",count)\n",
    "   "
   ]
  },
  {
   "cell_type": "code",
   "execution_count": 49,
   "id": "c2afa037-57b8-41fe-9b2d-cbd81a523c14",
   "metadata": {},
   "outputs": [
    {
     "name": "stdout",
     "output_type": "stream",
     "text": [
      "set()\n"
     ]
    }
   ],
   "source": [
    "# 6. Clear all elements from a set.\n",
    "my_set = {1,2,3,4,5}\n",
    "my_set.clear()\n",
    "print(my_set)"
   ]
  },
  {
   "cell_type": "code",
   "execution_count": 52,
   "id": "6dd44cab-ad31-43b5-bd13-b8d01435dfde",
   "metadata": {},
   "outputs": [
    {
     "name": "stdout",
     "output_type": "stream",
     "text": [
      "{2, 4, 6, 8, 10, 12, 14, 16, 18, 20}\n"
     ]
    }
   ],
   "source": [
    "# 7. Create a set of even numbers from 1 to 10.\n",
    "my_set = set(range(1,21))\n",
    "even_num = set(i for i in my_set if i%2 == 0)\n",
    "print(even_num)"
   ]
  },
  {
   "cell_type": "code",
   "execution_count": 53,
   "id": "7fb0b7ff-1742-4793-8594-5ddd9674342b",
   "metadata": {},
   "outputs": [
    {
     "name": "stdout",
     "output_type": "stream",
     "text": [
      "{1, 3, 5, 7, 9, 11, 13, 15, 17, 19}\n"
     ]
    }
   ],
   "source": [
    "# 8. Create a set of odd numbers from 1 to 10.\n",
    "my_set = set(range(1,21))\n",
    "odd_num = set(i for i in my_set if i%2 != 0)\n",
    "print(odd_num)"
   ]
  },
  {
   "cell_type": "code",
   "execution_count": 54,
   "id": "0977e506-e4ea-4f6a-8d94-f79871decda3",
   "metadata": {},
   "outputs": [
    {
     "name": "stdout",
     "output_type": "stream",
     "text": [
      "{1, 2, 3, 4, 5, 6, 7, 8}\n"
     ]
    }
   ],
   "source": [
    "# 9. Find the union of two sets.\n",
    "set1 = {1,2,3,4}\n",
    "set2 = {5,6,7,8}\n",
    "union_res = set1.union(set2)\n",
    "print(union_res)"
   ]
  },
  {
   "cell_type": "code",
   "execution_count": 56,
   "id": "9c51ef9f-6b29-4019-b73d-338767e4c7e1",
   "metadata": {},
   "outputs": [
    {
     "name": "stdout",
     "output_type": "stream",
     "text": [
      "{3, 4, 5, 6}\n"
     ]
    }
   ],
   "source": [
    "#10. Find the intersection of two sets.\n",
    "set1 = {1,2,3,4,5,6}\n",
    "set2 = {3,4,5,6,7,8}\n",
    "union_result = set1.intersection(set2)\n",
    "print(union_result)"
   ]
  },
  {
   "cell_type": "code",
   "execution_count": 58,
   "id": "b4936df9-517a-4b1e-bf7e-ad4a543af714",
   "metadata": {},
   "outputs": [
    {
     "name": "stdout",
     "output_type": "stream",
     "text": [
      "{1, 2}\n"
     ]
    }
   ],
   "source": [
    "# 11. Find the difference between two sets.\n",
    "set1 = {1,2,3,4,5,6}\n",
    "set2 = {3,4,5,6,7,8}\n",
    "res = set1.difference(set2)\n",
    "print(res)"
   ]
  },
  {
   "cell_type": "code",
   "execution_count": 59,
   "id": "f9d06240-981d-4253-970c-01a5928263e8",
   "metadata": {},
   "outputs": [
    {
     "name": "stdout",
     "output_type": "stream",
     "text": [
      "False\n"
     ]
    }
   ],
   "source": [
    "#12. Check if a set is a subset of another set.\n",
    "set1 = {1,2,3,4,5,6}\n",
    "set2 = {3,4,5,6,7,8}\n",
    "sub_res = set1.issubset(set2)\n",
    "print(sub_res)"
   ]
  },
  {
   "cell_type": "code",
   "execution_count": 60,
   "id": "3409c249-f149-47ff-b2e0-c6ebbe674cb8",
   "metadata": {},
   "outputs": [
    {
     "name": "stdout",
     "output_type": "stream",
     "text": [
      "False\n"
     ]
    }
   ],
   "source": [
    "#13. Check if a set is a superset of another set.\n",
    "set1 = {1,2,3,4,5,6}\n",
    "set2 = {3,4,5,6,7,8}\n",
    "sup_res = set1.issuperset(set2)\n",
    "print(sup_res)"
   ]
  },
  {
   "cell_type": "code",
   "execution_count": 61,
   "id": "8a057855-c7f2-4836-ae67-1c3a3b49f5aa",
   "metadata": {},
   "outputs": [
    {
     "name": "stdout",
     "output_type": "stream",
     "text": [
      "{1, 2, 3, 4, 5}\n"
     ]
    }
   ],
   "source": [
    "# 14. Create a set from a list.\n",
    "my_list = [1,2,3,4,5]\n",
    "set_convt = set(my_list)\n",
    "print(set_convt)"
   ]
  },
  {
   "cell_type": "code",
   "execution_count": 62,
   "id": "2f2c8566-351f-487a-8c80-346fbaab39cc",
   "metadata": {},
   "outputs": [
    {
     "name": "stdout",
     "output_type": "stream",
     "text": [
      "[1, 2, 3, 4, 5, 6]\n"
     ]
    }
   ],
   "source": [
    "# 15. Convert a set to a list.\n",
    "my_set = {1,2,3,4,5,6}\n",
    "list_convt = list(my_set)\n",
    "print(list_convt)"
   ]
  },
  {
   "cell_type": "code",
   "execution_count": 67,
   "id": "d21044c5-1d51-4273-a216-a0794c1f25f6",
   "metadata": {},
   "outputs": [
    {
     "name": "stdout",
     "output_type": "stream",
     "text": [
      "{52, 74, 10, 13}\n"
     ]
    }
   ],
   "source": [
    "# 16. Remove a random element from a set.\n",
    "import random\n",
    "my_set = {10,78,52,74,13}\n",
    "remove_element_random = random.choice(list(my_set))\n",
    "my_set.remove(remove_element_random)\n",
    "print(my_set)"
   ]
  },
  {
   "cell_type": "code",
   "execution_count": 70,
   "id": "840f9d74-e37f-40b2-b1a0-39f63914c185",
   "metadata": {},
   "outputs": [
    {
     "data": {
      "text/plain": [
       "{2, 3, 4, 5}"
      ]
     },
     "execution_count": 70,
     "metadata": {},
     "output_type": "execute_result"
    }
   ],
   "source": [
    "# 17. Pop an element from a set.\n",
    "my_set = {1,2,3,4,5}\n",
    "my_set.pop()\n",
    "my_set"
   ]
  },
  {
   "cell_type": "code",
   "execution_count": 73,
   "id": "cdfb1a44-dc4b-41bf-8dd9-642f263a099b",
   "metadata": {},
   "outputs": [
    {
     "name": "stdout",
     "output_type": "stream",
     "text": [
      "The two sets have common elements: {3, 4, 5, 6}\n"
     ]
    }
   ],
   "source": [
    "# 18. Check if two sets have no elements in common.\n",
    "set1 = {1,2,3,4,5,6}\n",
    "set2 = {3,4,5,6,7,8}\n",
    "\n",
    "common_elements = set1.intersection(set2)\n",
    "\n",
    "if not common_elements:\n",
    "    print(\"The two sets have no elements in common.\")\n",
    "else:\n",
    "    print(\"The two sets have common elements:\", common_elements)"
   ]
  },
  {
   "cell_type": "code",
   "execution_count": 74,
   "id": "6ebd6e76-e564-46e6-a0b9-d9d4cb6d5134",
   "metadata": {},
   "outputs": [
    {
     "name": "stdout",
     "output_type": "stream",
     "text": [
      "{1, 2, 7, 8}\n"
     ]
    }
   ],
   "source": [
    "#19. Find the symmetric difference between two sets.\n",
    "set1 = {1,2,3,4,5,6}\n",
    "set2 = {3,4,5,6,7,8}\n",
    "semmentric_diff = set1^set2\n",
    "print(semmentric_diff)"
   ]
  },
  {
   "cell_type": "code",
   "execution_count": 80,
   "id": "467b53ed-6335-4e4c-8b97-1f9c3decb204",
   "metadata": {},
   "outputs": [
    {
     "name": "stdout",
     "output_type": "stream",
     "text": [
      "{1, 2, 3, 4, 5, 6}\n"
     ]
    }
   ],
   "source": [
    "# 20. Update a set with elements from another set.\n",
    "set1 = {1,2,3}\n",
    "set2 ={4,5,6}\n",
    "update_set = set1.update(set2)\n",
    "print(set1)"
   ]
  },
  {
   "cell_type": "code",
   "execution_count": 85,
   "id": "c83ac207-5a6d-4a57-9b7a-1f13f3b171a8",
   "metadata": {},
   "outputs": [
    {
     "name": "stdin",
     "output_type": "stream",
     "text": [
      "enter the number 2\n"
     ]
    },
    {
     "name": "stdout",
     "output_type": "stream",
     "text": [
      "Set of the first 5 prime numbers: {2, 3, 5, 7, 11}\n"
     ]
    }
   ],
   "source": [
    "# 21. Create a set of the first 5 prime numbers.\n",
    "def is_prime(num):\n",
    "    if num <= 1:\n",
    "        return False\n",
    "    for i in range(2, int(num ** 0.5) + 1):\n",
    "        if num % i == 0:\n",
    "            return False\n",
    "    return True\n",
    "prime_set = set()\n",
    "num = int(input(\"enter the number\"))\n",
    "while len(prime_set) < 5:\n",
    "    if is_prime(num):\n",
    "        prime_set.add(num)\n",
    "    num += 1\n",
    "print(\"Set of the first 5 prime numbers:\", prime_set)"
   ]
  },
  {
   "cell_type": "code",
   "execution_count": 86,
   "id": "cbbad3df-46a5-4128-a4e9-9c3e72e7e149",
   "metadata": {},
   "outputs": [
    {
     "name": "stdout",
     "output_type": "stream",
     "text": [
      "The sets are not identical.\n"
     ]
    }
   ],
   "source": [
    "# 22. Check if two sets are identical.\n",
    "set1 = {1,2,3,4,5,6}\n",
    "set2 = {3,4,5,6,7,8}\n",
    "if set1 == set2:\n",
    "    print(\"The sets are identical.\")\n",
    "else:\n",
    "    print(\"The sets are not identical.\")"
   ]
  },
  {
   "cell_type": "code",
   "execution_count": 89,
   "id": "930948fa-9e00-4f23-ba8a-ed20da692baa",
   "metadata": {},
   "outputs": [
    {
     "name": "stdout",
     "output_type": "stream",
     "text": [
      "Frozen Set: frozenset({1, 2, 3, 4, 5})\n"
     ]
    }
   ],
   "source": [
    "#23. Create a frozen set.\n",
    "elements = [1, 2, 3, 4, 5]\n",
    "my_frozen_set = frozenset(elements)\n",
    "print(\"Frozen Set:\", my_frozen_set)"
   ]
  },
  {
   "cell_type": "code",
   "execution_count": 90,
   "id": "2fb8e775-0514-4491-ab12-6b5932083db3",
   "metadata": {},
   "outputs": [
    {
     "data": {
      "text/plain": [
       "True"
      ]
     },
     "execution_count": 90,
     "metadata": {},
     "output_type": "execute_result"
    }
   ],
   "source": [
    "#24. Check if a set is disjoint with another set.\n",
    "set1 = {1, 2, 3, 4}\n",
    "set2 = {5, 6, 7, 8}\n",
    "set1.isdisjoint(set2)"
   ]
  },
  {
   "cell_type": "code",
   "execution_count": 91,
   "id": "eb1ae22c-902b-4c49-b131-192849d6f186",
   "metadata": {},
   "outputs": [
    {
     "name": "stdout",
     "output_type": "stream",
     "text": [
      "{1, 4, 9, 16, 25}\n"
     ]
    }
   ],
   "source": [
    "#25. Create a set of squares of numbers from 1 to 5.\n",
    "squares_num = set(i**2 for i in range(1,6))\n",
    "print(squares_num)"
   ]
  },
  {
   "cell_type": "code",
   "execution_count": 96,
   "id": "3ef6a60e-040a-4808-baf0-5035772e6ed9",
   "metadata": {},
   "outputs": [
    {
     "name": "stdout",
     "output_type": "stream",
     "text": [
      "{2, 4, 6, 8, 10, 12, 14, 16, 18}\n"
     ]
    }
   ],
   "source": [
    "# 26. Filter out all even numbers from a set.\n",
    "out_even_set = set(i for i in range(1,20) if i%2 == 0)\n",
    "print(out_even_set)"
   ]
  },
  {
   "cell_type": "code",
   "execution_count": 98,
   "id": "eedf2e4a-936f-49eb-ad43-e58b6eb1d409",
   "metadata": {},
   "outputs": [
    {
     "data": {
      "text/plain": [
       "{2, 4, 8, 16, 32}"
      ]
     },
     "execution_count": 98,
     "metadata": {},
     "output_type": "execute_result"
    }
   ],
   "source": [
    "# 27. Multiply all elements in a set by 2.\n",
    "my_set = {1,2,3,4,5}\n",
    "mul_num = [2**i for i in my_set]\n",
    "set(mul_num)"
   ]
  },
  {
   "cell_type": "code",
   "execution_count": 99,
   "id": "be0163a6-5ea0-49d4-9c9a-0851dd0e2827",
   "metadata": {},
   "outputs": [
    {
     "name": "stdout",
     "output_type": "stream",
     "text": [
      "{96, 66, 39, 44, 12, 46, 47, 81, 49, 20, 85, 22, 84, 24, 89, 58, 60, 93}\n"
     ]
    }
   ],
   "source": [
    "# 28. Create a set of random numbers.\n",
    "import random\n",
    "random_set = set(random.randint(1,100) for i in range(20))\n",
    "print(random_set)"
   ]
  },
  {
   "cell_type": "code",
   "execution_count": 100,
   "id": "2f55f5f7-1c74-4a65-bc9f-9fc7e80b3570",
   "metadata": {},
   "outputs": [
    {
     "name": "stdout",
     "output_type": "stream",
     "text": [
      "The set is empty.\n"
     ]
    }
   ],
   "source": [
    "# 29. Check if a set is empty.\n",
    "my_set = set()\n",
    "if not my_set:\n",
    "    print(\"The set is empty.\")\n",
    "else:\n",
    "    print(\"The set is not empty.\")"
   ]
  },
  {
   "cell_type": "code",
   "execution_count": 101,
   "id": "af5d3c1c-0719-4266-941f-9821ab210461",
   "metadata": {},
   "outputs": [
    {
     "name": "stdout",
     "output_type": "stream",
     "text": [
      "Nested Set: {frozenset({1, 2, 3, 4, 5}), frozenset({6, 7, 8, 9, 10})}\n"
     ]
    }
   ],
   "source": [
    "# 30. Create a nested set (hint: use frozenset).\n",
    "# Step 1: Create the inner sets\n",
    "set1 = {1, 2, 3, 4, 5}\n",
    "set2 = {6, 7, 8, 9, 10}\n",
    "\n",
    "# Step 2: Create frozensets from the inner sets\n",
    "frozen_set1 = frozenset(set1)\n",
    "frozen_set2 = frozenset(set2)\n",
    "\n",
    "# Step 3: Create the nested set using the frozensets\n",
    "nested_set = {frozen_set1, frozen_set2}\n",
    "\n",
    "# Print the nested set\n",
    "print(\"Nested Set:\", nested_set)"
   ]
  },
  {
   "cell_type": "code",
   "execution_count": 102,
   "id": "63836dce-2e88-41fe-bb29-49843f91ebf0",
   "metadata": {},
   "outputs": [
    {
     "name": "stdout",
     "output_type": "stream",
     "text": [
      "{1, 2, 4, 5, 6}\n"
     ]
    }
   ],
   "source": [
    "#31. Remove an element from a set using the discard method.\n",
    "my_set = {1,2,3,4,5,6}\n",
    "my_set.discard(3)\n",
    "print(my_set)"
   ]
  },
  {
   "cell_type": "code",
   "execution_count": 103,
   "id": "96d6631f-21b0-4df6-85ab-3ff2a085fa12",
   "metadata": {},
   "outputs": [
    {
     "name": "stdout",
     "output_type": "stream",
     "text": [
      "Set 1: {1, 2, 3, 4, 5}\n",
      "Set 2: {4, 5, 6, 7, 8}\n",
      "Is set1 a subset of set2? False\n",
      "Is set2 a subset of set1? False\n",
      "Intersection: {4, 5}\n",
      "Union: {1, 2, 3, 4, 5, 6, 7, 8}\n",
      "Elements in set1 but not in set2: {1, 2, 3}\n",
      "Elements in set2 but not in set1: {8, 6, 7}\n"
     ]
    }
   ],
   "source": [
    "# 32. Compare two sets.\n",
    "set1 = {1, 2, 3, 4, 5}\n",
    "set2 = {4, 5, 6, 7, 8}\n",
    "\n",
    "# Step 2: Use set operations to compare the sets\n",
    "# Check if set1 is a subset of set2\n",
    "is_subset = set1.issubset(set2)\n",
    "\n",
    "# Check if set2 is a subset of set1\n",
    "is_superset = set1.issuperset(set2)\n",
    "\n",
    "# Find the intersection of the sets\n",
    "intersection = set1.intersection(set2)\n",
    "\n",
    "# Find the union of the sets\n",
    "union = set1.union(set2)\n",
    "\n",
    "# Find the elements that are in set1 but not in set2\n",
    "difference1 = set1.difference(set2)\n",
    "\n",
    "# Find the elements that are in set2 but not in set1\n",
    "difference2 = set2.difference(set1)\n",
    "\n",
    "# Step 3: Print the results\n",
    "print(\"Set 1:\", set1)\n",
    "print(\"Set 2:\", set2)\n",
    "print(\"Is set1 a subset of set2?\", is_subset)\n",
    "print(\"Is set2 a subset of set1?\", is_superset)\n",
    "print(\"Intersection:\", intersection)\n",
    "print(\"Union:\", union)\n",
    "print(\"Elements in set1 but not in set2:\", difference1)\n",
    "print(\"Elements in set2 but not in set1:\", difference2)"
   ]
  },
  {
   "cell_type": "code",
   "execution_count": 105,
   "id": "e9d93bc7-8830-46cb-8c13-9699547eaf30",
   "metadata": {},
   "outputs": [
    {
     "data": {
      "text/plain": [
       "{'a', 'h', 'l', 'r', 'u'}"
      ]
     },
     "execution_count": 105,
     "metadata": {},
     "output_type": "execute_result"
    }
   ],
   "source": [
    "# 33. Create a set from a string.\n",
    "string = 'rahul'\n",
    "set(string)"
   ]
  },
  {
   "cell_type": "code",
   "execution_count": 109,
   "id": "709c772e-ab86-4912-a024-07b3bd00cc80",
   "metadata": {},
   "outputs": [
    {
     "name": "stdout",
     "output_type": "stream",
     "text": [
      "Original String Set: {'18', '17', '12', '13', '16', '15', '19', '14'}\n",
      "Converted Integer Set: {12, 13, 14, 15, 16, 17, 18, 19}\n"
     ]
    }
   ],
   "source": [
    "#34. Convert a set of strings to a set of integers.\n",
    "set_str = {'12','13','14','15','16','17','18','19'}\n",
    "integer_set = set()\n",
    "\n",
    "# Step 3: Iterate through each string in the string set\n",
    "for string in set_str:\n",
    "    # Step 4: Convert the string to an integer using the int() function\n",
    "    integer_value = int(string)\n",
    "\n",
    "    # Step 5: Add the integer to the integer set\n",
    "    integer_set.add(integer_value)\n",
    "\n",
    "# Step 6: Print the original string set and the converted integer set\n",
    "print(\"Original String Set:\", set_str)\n",
    "print(\"Converted Integer Set:\", integer_set)"
   ]
  },
  {
   "cell_type": "code",
   "execution_count": 3,
   "id": "67abfc2f-c0fd-40b6-8192-4326ca0c9386",
   "metadata": {},
   "outputs": [
    {
     "name": "stdout",
     "output_type": "stream",
     "text": [
      "{'18', '19', '15', '13', '17', '16', '12', '14'}\n"
     ]
    }
   ],
   "source": [
    "#35. Convert a set of integers to a set of strings.\n",
    "int_set = {12, 13, 14, 15, 16, 17, 18, 19}\n",
    "str_set = set()\n",
    "for i in int_set:\n",
    "    str_value = str(i)\n",
    "    str_set.add(str_value)\n",
    "print(str_set)"
   ]
  },
  {
   "cell_type": "code",
   "execution_count": 5,
   "id": "fd249088-b9ac-4e9d-9efe-fa59f396974c",
   "metadata": {},
   "outputs": [
    {
     "name": "stdout",
     "output_type": "stream",
     "text": [
      "{1, 2, 3, 4, 5, 6, 7, 8, 9}\n"
     ]
    }
   ],
   "source": [
    "#36. Create a set from a tuple.\n",
    "my_tuple = (1,2,3,4,5,6,7,8,9)\n",
    "covt_set_from_tuple = set(my_tuple)\n",
    "print(covt_set_from_tuple)"
   ]
  },
  {
   "cell_type": "code",
   "execution_count": 7,
   "id": "5a547c41-0dcd-44af-892e-e0dde380420b",
   "metadata": {},
   "outputs": [
    {
     "name": "stdout",
     "output_type": "stream",
     "text": [
      "(1, 2, 3, 4, 5, 6, 7, 8, 9)\n"
     ]
    }
   ],
   "source": [
    "# 37. Convert a set to a tuple.\n",
    "my_set = {1, 2, 3, 4, 5, 6, 7, 8, 9}\n",
    "covt_tuple_from_set = tuple(my_set)\n",
    "print(covt_tuple_from_set)"
   ]
  },
  {
   "cell_type": "code",
   "execution_count": 11,
   "id": "2fd23c6d-486f-4238-bfdb-37a4f1da6a6d",
   "metadata": {},
   "outputs": [
    {
     "name": "stdout",
     "output_type": "stream",
     "text": [
      "780000\n"
     ]
    }
   ],
   "source": [
    "# 38. Find the maximum value in a set.\n",
    "my_set = {101,105,99,56,45,1101,4500,48,65,73,430000,85000,780000,56,33,10,56400}\n",
    "maximum_value = max(my_set)\n",
    "print(maximum_value)"
   ]
  },
  {
   "cell_type": "code",
   "execution_count": 17,
   "id": "1dea7a0f-a4e6-4ac4-b281-217773e3628a",
   "metadata": {},
   "outputs": [
    {
     "name": "stdout",
     "output_type": "stream",
     "text": [
      "10\n"
     ]
    }
   ],
   "source": [
    "#39. Find the minimum value in a set.\n",
    "my_set = {101,105,99,56,45,1101,4500,48,65,73,430000,85000,780000,56,33,10,56400}\n",
    "minimum_value_of_set = min(my_set)\n",
    "print(minimum_value_of_set)"
   ]
  },
  {
   "cell_type": "code",
   "execution_count": 19,
   "id": "791a582f-f16c-46e4-b24c-aff69a58bb06",
   "metadata": {},
   "outputs": [
    {
     "name": "stdin",
     "output_type": "stream",
     "text": [
      "enter your set rahul\n"
     ]
    },
    {
     "name": "stdout",
     "output_type": "stream",
     "text": [
      "{'r', 'h', 'l', 'u', 'a'}\n"
     ]
    }
   ],
   "source": [
    "# 40. Create a set from user input.\n",
    "user_input_set = set(input(\"enter your set\"))\n",
    "print(user_input_set)"
   ]
  },
  {
   "cell_type": "code",
   "execution_count": 20,
   "id": "1cb8684b-8f6a-4928-acd1-9e212f340837",
   "metadata": {},
   "outputs": [
    {
     "name": "stdout",
     "output_type": "stream",
     "text": [
      "the set is not empty !!! the set is :  {1, 2, 3, 4, 5} {6, 7, 8, 9, 10}\n"
     ]
    }
   ],
   "source": [
    "#41. Check if the intersection of two sets is empty.\n",
    "set1 = {1,2,3,4,5}\n",
    "set2 = {6,7,8,9,10}\n",
    "result = set1.intersection(set2)\n",
    "if not result:\n",
    "    print(\"the set is not empty !!! the set is : \",set1,set2)\n",
    "else:\n",
    "    print(\"the set is empty\")\n"
   ]
  },
  {
   "cell_type": "code",
   "execution_count": 28,
   "id": "3a612e5f-dc6e-47df-89f4-ce2c9b77b3f2",
   "metadata": {},
   "outputs": [
    {
     "name": "stdout",
     "output_type": "stream",
     "text": [
      "Set of the first 5 Fibonacci numbers: {0, 1, 2, 3, 5}\n"
     ]
    }
   ],
   "source": [
    "#42. Create a set of the first 5 Fibonacci numbers.\n",
    "fibonacci_set = set()\n",
    "\n",
    "a, b = 0, 1\n",
    "for _ in range(6):\n",
    "    fibonacci_set.add(a)\n",
    "    a, b = b, a + b\n",
    "print(\"Set of the first 5 Fibonacci numbers:\", fibonacci_set)"
   ]
  },
  {
   "cell_type": "code",
   "execution_count": 30,
   "id": "6f09524c-cc0c-467f-a6f4-a7f2074b9273",
   "metadata": {},
   "outputs": [
    {
     "name": "stdout",
     "output_type": "stream",
     "text": [
      "[2, 4, 6, 8, 10, 12, 14]\n"
     ]
    }
   ],
   "source": [
    "# 43. Remove duplicates from a list using sets.\n",
    "original_list = [2, 4, 6, 8, 4, 10, 6, 12, 14, 8]\n",
    "remove_dup = list(set(original_list))\n",
    "print(remove_dup)"
   ]
  },
  {
   "cell_type": "code",
   "execution_count": 34,
   "id": "b5eb620f-5b3a-4fcb-b4a6-27716fd6be46",
   "metadata": {},
   "outputs": [
    {
     "name": "stdout",
     "output_type": "stream",
     "text": [
      "the sets have the same element\n"
     ]
    }
   ],
   "source": [
    "# 44. Check if two sets have the same elements, regardless of their count.\n",
    "def is_same_element(set1,set2):\n",
    "    sorted_list1 = sorted(list(set1))\n",
    "    sorted_list2 = sorted(list(set2))\n",
    "    return sorted_list1 == sorted_list2\n",
    "set1 = {1,2,3}\n",
    "set2 = {1,2,3}\n",
    "result = is_same_element(set1,set2)\n",
    "if  result:\n",
    "    \n",
    "    print(\"the sets have the same element\")\n",
    "else:\n",
    "    print(\"thw sets do not have the same element \")\n",
    "    "
   ]
  },
  {
   "cell_type": "code",
   "execution_count": 36,
   "id": "62372b38-cc4e-4795-91f1-2274a0d9e3f5",
   "metadata": {},
   "outputs": [
    {
     "name": "stdout",
     "output_type": "stream",
     "text": [
      "{1, 2, 4, 8, 16}\n"
     ]
    }
   ],
   "source": [
    "# 45. Create a set of the first `n` powers of 2.\n",
    "My_set = set(2**n for n in range(5))\n",
    "print(My_set)"
   ]
  },
  {
   "cell_type": "code",
   "execution_count": 42,
   "id": "ddfd3f89-a84c-462a-bbda-4cb9fbc2453e",
   "metadata": {},
   "outputs": [
    {
     "name": "stdout",
     "output_type": "stream",
     "text": [
      "[7, 9, 12]\n"
     ]
    }
   ],
   "source": [
    "# 46. Find the common elements between a set and a list.\n",
    "my_set = {3, 7, 9, 12, 15}\n",
    "my_list = [7, 12, 5, 9]\n",
    "list_to_set = set(my_list)\n",
    "common_element = []\n",
    "for i in my_set:\n",
    "    if i in list_to_set:\n",
    "        common_element.append(i)\n",
    "\n",
    "print(common_element)"
   ]
  },
  {
   "cell_type": "code",
   "execution_count": 52,
   "id": "0b105bff-50fa-4ef7-87f0-eb8ef0ee403e",
   "metadata": {},
   "outputs": [
    {
     "name": "stdin",
     "output_type": "stream",
     "text": [
      "Enter the value of n:  10\n"
     ]
    },
    {
     "name": "stdout",
     "output_type": "stream",
     "text": [
      "The set of the first 10 triangular numbers is: {1, 3, 36, 6, 10, 45, 15, 21, 55, 28}\n"
     ]
    }
   ],
   "source": [
    "# 47. Create a set of the first `n` triangular numbers.\n",
    "def generate_triangular_numbers(n):\n",
    "    triangular_numbers = set()  \n",
    "    for i in range(1, n + 1):\n",
    "        triangular_number = i * (i + 1) // 2  \n",
    "        triangular_numbers.add(triangular_number)  \n",
    "    return triangular_numbers\n",
    "\n",
    "\n",
    "n = int(input(\"Enter the value of n: \"))\n",
    "\n",
    "\n",
    "triangular_set = generate_triangular_numbers(n)\n",
    "\n",
    "\n",
    "print(f\"The set of the first {n} triangular numbers is:\", triangular_set)"
   ]
  },
  {
   "cell_type": "code",
   "execution_count": 54,
   "id": "d2709b40-723c-4181-8ccb-d63be797b625",
   "metadata": {},
   "outputs": [
    {
     "name": "stdout",
     "output_type": "stream",
     "text": [
      "this is contain not subset.\n"
     ]
    }
   ],
   "source": [
    "# 48. Check if a set contains another set as a subset.\n",
    "set1 = {1, 2, 3, 4, 5}\n",
    "set2 = {3, 4}\n",
    "res = set1.issubset(set2)\n",
    "if res :\n",
    "    print(\"this is contain subset .\")\n",
    "else:\n",
    "    print(\"this is contain not subset.\")"
   ]
  },
  {
   "cell_type": "code",
   "execution_count": 55,
   "id": "1003e99a-a471-4850-afac-bbe8cf6acb88",
   "metadata": {},
   "outputs": [
    {
     "name": "stdout",
     "output_type": "stream",
     "text": [
      "{0, 1}\n"
     ]
    }
   ],
   "source": [
    "# 49. Create a set of alternating 1s and 0s of length `n`.\n",
    "def create_alternating_set(n):\n",
    "    alternating_set = set()\n",
    "    for i in range(n):\n",
    "        if i % 2 == 0:\n",
    "            alternating_set.add(1)  \n",
    "        else:\n",
    "            alternating_set.add(0)  \n",
    "\n",
    "    return alternating_set\n",
    "\n",
    "length_n = 10\n",
    "\n",
    "\n",
    "result = create_alternating_set(length_n)\n",
    "\n",
    "\n",
    "print(result)"
   ]
  },
  {
   "cell_type": "code",
   "execution_count": 56,
   "id": "bf9942f5-a15c-4923-aeb9-dcb2dd69557a",
   "metadata": {},
   "outputs": [
    {
     "name": "stdout",
     "output_type": "stream",
     "text": [
      "{1, 2, 3, 4, 5, 6, 7}\n"
     ]
    }
   ],
   "source": [
    "# 50. Merge multiple sets into one.\n",
    "set1 = {1, 2, 3}\n",
    "set2 = {3, 4, 5}\n",
    "set3 = {5, 6, 7}\n",
    "merge_set = set1.union(set2,set3)\n",
    "print(merge_set)"
   ]
  },
  {
   "cell_type": "code",
   "execution_count": null,
   "id": "1f405622-a854-46b5-970a-9c1285c7dd4f",
   "metadata": {},
   "outputs": [],
   "source": []
  }
 ],
 "metadata": {
  "kernelspec": {
   "display_name": "Python 3 (ipykernel)",
   "language": "python",
   "name": "python3"
  },
  "language_info": {
   "codemirror_mode": {
    "name": "ipython",
    "version": 3
   },
   "file_extension": ".py",
   "mimetype": "text/x-python",
   "name": "python",
   "nbconvert_exporter": "python",
   "pygments_lexer": "ipython3",
   "version": "3.10.8"
  }
 },
 "nbformat": 4,
 "nbformat_minor": 5
}
